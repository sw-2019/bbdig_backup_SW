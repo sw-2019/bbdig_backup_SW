{
 "cells": [
  {
   "cell_type": "code",
   "execution_count": 1,
   "metadata": {},
   "outputs": [],
   "source": [
    "# Set up modules for Google functionality\n",
    "from google.cloud import bigquery # To run BQ statements\n",
    "from google_auth_oauthlib import flow # To authorise as user\n",
    "from googleapiclient.discovery import build # To pull in from sheets, slides etc. API\n",
    "from google.auth.transport.requests import Request\n",
    "\n",
    "# Display\n",
    "import pprint\n",
    "\n",
    "# Operating system stuff\n",
    "import pickle\n",
    "import os.path\n",
    "import sys\n",
    "\n",
    "# Data handling\n",
    "import json\n",
    "import requests\n",
    "from pandas import read_csv\n",
    "from pandas import datetime\n",
    "\n",
    "# Stats, models, datasheets\n",
    "import pandas as pd\n",
    "import pyreadstat\n",
    "\n",
    "# Visualisation\n",
    "from matplotlib import pyplot\n",
    "import matplotlib.pyplot as plt\n",
    "import matplotlib_venn # For venn diagrams\n",
    "from pandas.plotting import autocorrelation_plot\n",
    "\n",
    "# Network graphs\n",
    "import networkx as nx\n",
    "\n",
    "\n",
    "# Misc\n",
    "from xlsxwriter.utility import xl_rowcol_to_cell # Used to create cell references\n",
    "import itertools\n",
    "\n",
    "# Load custom scripts in reusable_code folder\n",
    "sys.path.append(r'/home/jupyter/reusable_code')\n",
    "\n",
    "import google_api_functions as gaf\n"
   ]
  },
  {
   "cell_type": "code",
   "execution_count": 2,
   "metadata": {},
   "outputs": [],
   "source": [
    "creds=gaf.Authenticate_Google(r'/home/jupyter/reusable_code/')\n",
    "bq = bigquery.Client(project='itv-bde-analytics-dev',credentials=creds)"
   ]
  },
  {
   "cell_type": "code",
   "execution_count": 4,
   "metadata": {},
   "outputs": [],
   "source": [
    "values,vipdf=gaf.read_google_sheets_as_rows('1JTSA-oOdVjGeoTGECBJ-rZRdReYtfRm41HvpLUuMHzk','Sheet1',creds,header_row=0)"
   ]
  },
  {
   "cell_type": "code",
   "execution_count": 5,
   "metadata": {},
   "outputs": [],
   "source": [
    "dataset=bq.dataset('britbox_sandbox')\n",
    "table_ref = dataset.table(\"VIP_Vouchers_2019\")\n",
    "\n",
    "\n",
    "newcol_names={x:x.replace(\" \", \"_\").replace(\"/\",\"\").replace(\"?\",\"\").replace(\"-\",\"\").replace(\".\",\"\") for x in metro_df.columns}\n",
    "df_for_bq=vipdf.rename(columns=newcol_names)\n",
    "\n",
    "try:\n",
    "    bq.delete_table(table_ref)\n",
    "except:\n",
    "    pass\n",
    "job = bq.load_table_from_dataframe(df_for_bq, table_ref)\n",
    "\n",
    "job.result()  # Waits for table load to complete.\n",
    "print(\"Loaded dataframe to {}\".format(table_ref.path))"
   ]
  },
  {
   "cell_type": "code",
   "execution_count": 20,
   "metadata": {},
   "outputs": [],
   "source": [
    "query='''select a.Description as BBID,\n",
    "max(case when b.user_id is not null then 1 else 0 end) as Used_in_last_mo\n",
    "from\n",
    "(select distinct Description\n",
    "from `itv-bde-analytics-dev.britbox_sandbox.VIP_Vouchers_2019`) a\n",
    "left join\n",
    "(select distinct coalesce(TRIM(JSON_EXTRACT(raw,'$.user.itv_id'),\"\\\"\"),TRIM(JSON_EXTRACT(raw,'$.user.id'),\"\\\"\")) as user_id\n",
    "from `itv-bde-svod-prd.svod.svod_page_raw_in` \n",
    "where _PARTITIONTIME>='2020-04-01') b\n",
    "on a.Description=b.user_id\n",
    "group by 1\n",
    "'''\n",
    "\n",
    "query='''select * from `itv-bde-analytics-dev.britbox_sandbox.Vip_subs_usage`'''\n",
    "used_df = bq.query(query).to_dataframe()\n",
    "used_df.head()"
   ]
  },
  {
   "cell_type": "code",
   "execution_count": 21,
   "metadata": {},
   "outputs": [],
   "source": [
    "used_df['Used_in_last_mo'].sum()"
   ]
  },
  {
   "cell_type": "code",
   "execution_count": 22,
   "metadata": {},
   "outputs": [],
   "source": [
    "gaf.Write_whole_df_to_gsheet(creds, used_df, '1JTSA-oOdVjGeoTGECBJ-rZRdReYtfRm41HvpLUuMHzk', 'Used in Apr-May10', valueInputOption='RAW', append_overwrite='overwrite', headers='Y', topleftcell='A1')\n",
    "    \n",
    " "
   ]
  },
  {
   "cell_type": "code",
   "execution_count": null,
   "metadata": {},
   "outputs": [],
   "source": []
  }
 ],
 "metadata": {
  "kernelspec": {
   "display_name": "Python 3",
   "language": "python",
   "name": "python3"
  },
  "language_info": {
   "codemirror_mode": {
    "name": "ipython",
    "version": 3
   },
   "file_extension": ".py",
   "mimetype": "text/x-python",
   "name": "python",
   "nbconvert_exporter": "python",
   "pygments_lexer": "ipython3",
   "version": "3.7.6"
  }
 },
 "nbformat": 4,
 "nbformat_minor": 4
}
