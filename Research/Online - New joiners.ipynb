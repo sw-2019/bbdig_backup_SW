{
 "cells": [
  {
   "cell_type": "code",
   "execution_count": 1,
   "metadata": {
    "colab": {
     "base_uri": "https://localhost:8080/"
    },
    "executionInfo": {
     "elapsed": 43864,
     "status": "ok",
     "timestamp": 1618415849657,
     "user": {
      "displayName": "Jennifer Fildes",
      "photoUrl": "",
      "userId": "07980969556984225343"
     },
     "user_tz": -60
    },
    "id": "nRNG1Q4_wLTQ",
    "outputId": "1d6452ab-5960-4570-a956-543ec5a35030"
   },
   "outputs": [],
   "source": [
    "\n",
    "import drive\n",
    "drive.mount('/content/drive')\n",
    "import sys\n",
    "sys.path.append('/content/drive/MyDrive/folders/1gz8s1JLzdyZZArxypMSst7tRJxZPqjt_/')\n",
    "sys.path.append('/content/drive/MyDrive/surveys/joiners_survey/')\n",
    "sys.path.append('/content/drive/MyDrive/surveys/joiners_survey/resources/')\n"
   ]
  },
  {
   "cell_type": "code",
   "execution_count": null,
   "metadata": {
    "colab": {
     "base_uri": "https://localhost:8080/"
    },
    "executionInfo": {
     "elapsed": 48339,
     "status": "ok",
     "timestamp": 1618415854140,
     "user": {
      "displayName": "Jennifer Fildes",
      "photoUrl": "",
      "userId": "07980969556984225343"
     },
     "user_tz": -60
    },
    "id": "upKQ24mc8QTf",
    "outputId": "ff4d4291-0986-4abc-936d-d3d06f871fb8"
   },
   "outputs": [],
   "source": [
    "pip install fuzzywuzzy"
   ]
  },
  {
   "cell_type": "code",
   "execution_count": 3,
   "metadata": {},
   "outputs": [],
   "source": [
    "pip install gspread"
   ]
  },
  {
   "cell_type": "code",
   "execution_count": 1,
   "metadata": {
    "colab": {
     "base_uri": "https://localhost:8080/"
    },
    "executionInfo": {
     "elapsed": 49480,
     "status": "ok",
     "timestamp": 1618415855290,
     "user": {
      "displayName": "Jennifer Fildes",
      "photoUrl": "",
      "userId": "07980969556984225343"
     },
     "user_tz": -60
    },
    "id": "32GR1l8Y8EJE",
    "outputId": "c320fc5e-b989-416f-c3bc-a7d87fc8966e"
   },
   "outputs": [],
   "source": [
    "import sys\n",
    "sys.path.append(r'/home/jupyter/reusable_code')\n",
    "from surveys_cleaning import *\n",
    "from sheets import *"
   ]
  },
  {
   "cell_type": "code",
   "execution_count": null,
   "metadata": {
    "executionInfo": {
     "elapsed": 63118,
     "status": "ok",
     "timestamp": 1618415868933,
     "user": {
      "displayName": "Jennifer Fildes",
      "photoUrl": "",
      "userId": "07980969556984225343"
     },
     "user_tz": -60
    },
    "id": "z_hDOm5S8GIb"
   },
   "outputs": [],
   "source": [
    "from pydrive.auth import GoogleAuth\n",
    "from pydrive.drive import GoogleDrive\n",
    "from google.colab import auth\n",
    "from oauth2client.client import GoogleCredentials\n",
    "import gspread\n",
    "\n",
    "# get google credentials\n",
    "auth.authenticate_user()\n",
    "gc = gspread.authorize(GoogleCredentials.get_application_default())\n",
    "gauth = GoogleAuth()\n",
    "gauth.credentials = GoogleCredentials.get_application_default()\n",
    "drive = GoogleDrive(gauth)"
   ]
  },
  {
   "cell_type": "code",
   "execution_count": null,
   "metadata": {
    "colab": {
     "base_uri": "https://localhost:8080/",
     "height": 426
    },
    "executionInfo": {
     "elapsed": 69895,
     "status": "error",
     "timestamp": 1618415875719,
     "user": {
      "displayName": "Jennifer Fildes",
      "photoUrl": "",
      "userId": "07980969556984225343"
     },
     "user_tz": -60
    },
    "id": "CJVwaXxr8UiT",
    "outputId": "4f53559a-f156-499c-f3a1-5a2b8c686c48"
   },
   "outputs": [],
   "source": [
    "df = get_joiners_df(gc=gc)"
   ]
  },
  {
   "cell_type": "code",
   "execution_count": null,
   "metadata": {
    "executionInfo": {
     "elapsed": 69887,
     "status": "aborted",
     "timestamp": 1618415875716,
     "user": {
      "displayName": "Jennifer Fildes",
      "photoUrl": "",
      "userId": "07980969556984225343"
     },
     "user_tz": -60
    },
    "id": "QHVsBrLG8mRM"
   },
   "outputs": [],
   "source": [
    "df.head()"
   ]
  },
  {
   "cell_type": "code",
   "execution_count": null,
   "metadata": {
    "executionInfo": {
     "elapsed": 69884,
     "status": "aborted",
     "timestamp": 1618415875717,
     "user": {
      "displayName": "Jennifer Fildes",
      "photoUrl": "",
      "userId": "07980969556984225343"
     },
     "user_tz": -60
    },
    "id": "icOUr-hN9IP6"
   },
   "outputs": [],
   "source": [
    "upload_df_to_sheet(df, \n",
    "                   '1lLF8nP_9aaGtER5jJkLu4rZo25cJpNjBY8ne372LshA', \n",
    "                   'results', \n",
    "                   authentication_file = None,\n",
    "                   g_credentials = gc\n",
    "                   )"
   ]
  },
  {
   "cell_type": "code",
   "execution_count": null,
   "metadata": {
    "executionInfo": {
     "elapsed": 69882,
     "status": "aborted",
     "timestamp": 1618415875718,
     "user": {
      "displayName": "Jennifer Fildes",
      "photoUrl": "",
      "userId": "07980969556984225343"
     },
     "user_tz": -60
    },
    "id": "w_1ogfkWcw-b"
   },
   "outputs": [],
   "source": []
  }
 ],
 "metadata": {
  "colab": {
   "name": "Online - New joiners.ipynb",
   "provenance": []
  },
  "kernelspec": {
   "display_name": "Python 3",
   "language": "python",
   "name": "python3"
  },
  "language_info": {
   "codemirror_mode": {
    "name": "ipython",
    "version": 3
   },
   "file_extension": ".py",
   "mimetype": "text/x-python",
   "name": "python",
   "nbconvert_exporter": "python",
   "pygments_lexer": "ipython3",
   "version": "3.7.6"
  }
 },
 "nbformat": 4,
 "nbformat_minor": 4
}
