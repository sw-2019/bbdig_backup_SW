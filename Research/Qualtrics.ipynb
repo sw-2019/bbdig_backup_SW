{
 "cells": [
  {
   "cell_type": "code",
   "execution_count": 30,
   "metadata": {},
   "outputs": [],
   "source": [
    "# Set up modules for Google functionality\n",
    "from google.cloud import bigquery # To run BQ statements\n",
    "from google_auth_oauthlib import flow # To authorise as user\n",
    "from googleapiclient.discovery import build # To pull in from sheets, slides etc. API\n",
    "from google.auth.transport.requests import Request\n",
    "\n",
    "# Display\n",
    "import pprint\n",
    "\n",
    "# Operating system stuff\n",
    "import pickle\n",
    "import os.path\n",
    "import sys\n",
    "\n",
    "# Data handling\n",
    "import json\n",
    "import requests\n",
    "from pandas import read_csv\n",
    "import zipfile\n",
    "import io\n",
    "import numpy as np\n",
    "\n",
    "# Stats, models, datasheets\n",
    "import pandas as pd\n",
    "import pyreadstat\n",
    "\n",
    "# Visualisation\n",
    "from matplotlib import pyplot\n",
    "import matplotlib.pyplot as plt\n",
    "import matplotlib_venn # For venn diagrams\n",
    "from pandas.plotting import autocorrelation_plot\n",
    "\n",
    "# Network graphs\n",
    "import networkx as nx\n",
    "\n",
    "# Misc\n",
    "from xlsxwriter.utility import xl_rowcol_to_cell # Used to create cell references\n",
    "import itertools\n",
    "\n",
    "# Load custom scripts in reusable_code folder\n",
    "sys.path.append(r'/home/jupyter/reusable_code')\n",
    "\n",
    "import google_api_functions as gaf\n",
    "import my_qualtrics as qltx"
   ]
  },
  {
   "cell_type": "code",
   "execution_count": null,
   "metadata": {},
   "outputs": [],
   "source": []
  },
  {
   "cell_type": "code",
   "execution_count": null,
   "metadata": {},
   "outputs": [],
   "source": []
  },
  {
   "cell_type": "code",
   "execution_count": 12,
   "metadata": {},
   "outputs": [],
   "source": [
    "my_session=qltx.session('ExTDN3nBP2Q8vVVnUJeMsjUCbyuWPyEDxblfUqCW')"
   ]
  },
  {
   "cell_type": "code",
   "execution_count": null,
   "metadata": {},
   "outputs": [],
   "source": []
  },
  {
   "cell_type": "code",
   "execution_count": 13,
   "metadata": {},
   "outputs": [],
   "source": [
    "#my_session.Get_list_of_surveys()"
   ]
  },
  {
   "cell_type": "code",
   "execution_count": 14,
   "metadata": {},
   "outputs": [],
   "source": [
    "joiners=my_session.Get_survey_id_from_name('Joiners survey')\n",
    "joiners                               "
   ]
  },
  {
   "cell_type": "code",
   "execution_count": 15,
   "metadata": {},
   "outputs": [],
   "source": [
    "#my_session.Get_Account_Info('britboxresearch')"
   ]
  },
  {
   "cell_type": "code",
   "execution_count": 47,
   "metadata": {},
   "outputs": [],
   "source": [
    "joiners='SV_9TrvZkZsOeTYy8t' # This is the Editorial Concept Testing- which was more complex"
   ]
  },
  {
   "cell_type": "code",
   "execution_count": 48,
   "metadata": {},
   "outputs": [],
   "source": [
    "survey_results=my_session.Download_survey_responses(joiners,from_time='2020-03-05T00:00:00Z',to_time='2020-03-07T11:53:34Z')\n",
    "print(survey_results['StartDate'].min(),survey_results['StartDate'].max())"
   ]
  },
  {
   "cell_type": "code",
   "execution_count": 49,
   "metadata": {},
   "outputs": [],
   "source": [
    "survey_results=my_session.Download_survey_responses(joiners)\n",
    "print(survey_results['StartDate'].min(),survey_results['StartDate'].max())"
   ]
  },
  {
   "cell_type": "code",
   "execution_count": 50,
   "metadata": {},
   "outputs": [],
   "source": [
    "survey_results.head()"
   ]
  },
  {
   "cell_type": "markdown",
   "metadata": {},
   "source": [
    "### Create a flag to indicate \"shown\" and then insert missing values for all the \"shown but not answered\" questions."
   ]
  },
  {
   "cell_type": "code",
   "execution_count": 51,
   "metadata": {},
   "outputs": [],
   "source": [
    "Qlist=[i for i in survey_results.columns if i[0]=='Q'] # List of questions\n",
    "Asked_list=[\"Asked_\"+i for i in Qlist]# List of questions prefixed with \"Asked_\"\n",
    "\n",
    "# Creates a binary flag prefixed \"Asked_\" for each Q to indicate whether it was shown\n",
    "survey_results[Asked_list] = survey_results[Qlist].where(survey_results[Qlist].isnull(), 1).fillna(0).astype(int)\n",
    "\n",
    "# Replace the -999 returned by the API call with a null\n",
    "survey_results[Qlist]=survey_results[Qlist].replace('-999',np.NaN)\n",
    "survey_results.head()"
   ]
  },
  {
   "cell_type": "code",
   "execution_count": 52,
   "metadata": {},
   "outputs": [],
   "source": [
    "survey_results.shape"
   ]
  },
  {
   "cell_type": "markdown",
   "metadata": {},
   "source": [
    "We need to handle the difference between questions not asked because of routing and questions skipped by respondents.\n",
    "Those not asked are blank, those asked but skipped will be -999 by default.\n",
    "https://api.qualtrics.com/reference#create-response-export-new\n"
   ]
  },
  {
   "cell_type": "code",
   "execution_count": null,
   "metadata": {},
   "outputs": [],
   "source": []
  },
  {
   "cell_type": "code",
   "execution_count": 65,
   "metadata": {},
   "outputs": [],
   "source": [
    "survey_info=my_session.Get_Survey_Info(joiners)\n",
    "survey_q_map=survey_info['questions']\n",
    "survey_q_map_df=pd.DataFrame.from_dict(survey_q_map,orient='index')"
   ]
  },
  {
   "cell_type": "code",
   "execution_count": 73,
   "metadata": {},
   "outputs": [],
   "source": [
    "from collections import MutableMapping \n",
    "  \n",
    "# code to convert ini_dict to flattened dictionary \n",
    "# default seperater '_' \n",
    "def convert_flatten(d, parent_key ='', sep ='_'): \n",
    "    items = [] \n",
    "    for k, v in d.items(): \n",
    "        new_key = parent_key + sep + k if parent_key else k \n",
    "  \n",
    "        if isinstance(v, MutableMapping): \n",
    "            items.extend(convert_flatten(v, new_key, sep = sep).items()) \n",
    "        else: \n",
    "            items.append((new_key, v)) \n",
    "    return dict(items) \n",
    "\n",
    "survey_q_map_flat=[convert_flatten(survey_q_map[q]) for q in survey_q_map]"
   ]
  },
  {
   "cell_type": "code",
   "execution_count": 80,
   "metadata": {},
   "outputs": [],
   "source": [
    "pd.DataFrame.from_dict(survey_q_map_flat)"
   ]
  },
  {
   "cell_type": "code",
   "execution_count": 64,
   "metadata": {},
   "outputs": [],
   "source": [
    "qmap=[]\n",
    "for q in survey_q_map:\n",
    "    qdict={}\n",
    "    qdict['type']=survey_q_map[q]['questionType']['type']\n",
    "    qdict['selector']=survey_q_map[q]['questionType']['selector']\n",
    "    qdict['subSelector']=survey_q_map[q]['questionType']['subSelector']\n",
    "    qdict['questionText']=survey_q_map[q]['questionText']\n",
    "    qdict['questionLabel']=survey_q_map[q]['questionLabel']\n",
    "    qdict['validation']=survey_q_map[q]['validation']\n",
    "    qdict['questionName']=survey_q_map[q]['questionName']\n",
    "    \n",
    "    try:\n",
    "        print(\"SubQs are...\")\n",
    "        print(survey_q_map[q]['subQuestions'].keys())\n",
    "    except:\n",
    "        pass\n",
    "    \n",
    "    try:\n",
    "        print(\"Choices are...\")\n",
    "        print(survey_q_map[q]['subQuestions'].keys())\n",
    "    exce\n",
    "    \n",
    "    print(survey_q_map[q].keys())\n",
    "    #print(survey_q_map[q])\n",
    "    "
   ]
  },
  {
   "cell_type": "code",
   "execution_count": null,
   "metadata": {},
   "outputs": [],
   "source": [
    "\n",
    "\n"
   ]
  },
  {
   "cell_type": "code",
   "execution_count": null,
   "metadata": {},
   "outputs": [],
   "source": []
  },
  {
   "cell_type": "code",
   "execution_count": null,
   "metadata": {},
   "outputs": [],
   "source": []
  },
  {
   "cell_type": "code",
   "execution_count": null,
   "metadata": {},
   "outputs": [],
   "source": []
  },
  {
   "cell_type": "code",
   "execution_count": null,
   "metadata": {},
   "outputs": [],
   "source": []
  }
 ],
 "metadata": {
  "kernelspec": {
   "display_name": "Python 3",
   "language": "python",
   "name": "python3"
  },
  "language_info": {
   "codemirror_mode": {
    "name": "ipython",
    "version": 3
   },
   "file_extension": ".py",
   "mimetype": "text/x-python",
   "name": "python",
   "nbconvert_exporter": "python",
   "pygments_lexer": "ipython3",
   "version": "3.7.6"
  }
 },
 "nbformat": 4,
 "nbformat_minor": 4
}
