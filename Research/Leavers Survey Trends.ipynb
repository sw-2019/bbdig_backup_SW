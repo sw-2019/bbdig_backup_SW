{
 "cells": [
  {
   "cell_type": "code",
   "execution_count": 1,
   "metadata": {},
   "outputs": [],
   "source": [
    "# Set up modules for Google functionality\n",
    "from google.cloud import bigquery # To run BQ statements\n",
    "from google_auth_oauthlib import flow # To authorise as user\n",
    "from googleapiclient.discovery import build # To pull in from sheets, slides etc. API\n",
    "from google.auth.transport.requests import Request\n",
    "\n",
    "# Display\n",
    "import pprint\n",
    "\n",
    "# Operating system stuff\n",
    "import pickle\n",
    "import os.path\n",
    "import sys\n",
    "\n",
    "# Data handling\n",
    "import json\n",
    "import requests\n",
    "from pandas import read_csv\n",
    "import zipfile\n",
    "import io\n",
    "import numpy as np\n",
    "\n",
    "# Stats, models, datasheets\n",
    "import pandas as pd\n",
    "import pyreadstat\n",
    "\n",
    "# Visualisation\n",
    "from matplotlib import pyplot\n",
    "import matplotlib.pyplot as plt\n",
    "import matplotlib_venn # For venn diagrams\n",
    "from pandas.plotting import autocorrelation_plot\n",
    "\n",
    "# Network graphs\n",
    "import networkx as nx\n",
    "\n",
    "# Misc\n",
    "from xlsxwriter.utility import xl_rowcol_to_cell # Used to create cell references\n",
    "import itertools\n",
    "\n",
    "# Load custom scripts in reusable_code folder\n",
    "sys.path.append(r'/home/jupyter/reusable_code')\n",
    "\n",
    "import google_api_functions as gaf\n",
    "import my_qualtrics as qltx"
   ]
  },
  {
   "cell_type": "code",
   "execution_count": 2,
   "metadata": {},
   "outputs": [],
   "source": [
    "# Create a qualtrics session\n",
    "my_session=qltx.session('ExTDN3nBP2Q8vVVnUJeMsjUCbyuWPyEDxblfUqCW')"
   ]
  },
  {
   "cell_type": "code",
   "execution_count": 5,
   "metadata": {},
   "outputs": [],
   "source": [
    "Leavers_survey_dict={\n",
    "    'SV_00pthvlPe7DCx01':'Content'\\\n",
    "    ,'SV_1CgDK6uYdjqMv1H':'Expense'\\\n",
    "    ,'SV_eqyQ8hYm0MgFkbP':'Feature'\\\n",
    "    ,'SV_9EnSMGsy27qMqEd':'Other Service'}\n",
    "\n",
    "#my_session.Get_list_of_surveys()"
   ]
  },
  {
   "cell_type": "code",
   "execution_count": 49,
   "metadata": {},
   "outputs": [],
   "source": [
    "for n,key in enumerate(Leavers_survey_dict):\n",
    "    print(key)\n",
    "    print(n)\n",
    "    survey_results=my_session.Download_survey_responses(key)\n",
    "    survey_results['Survey Name']=Leavers_survey_dict[key]\n",
    "    program = '''df_{0}=survey_results.copy()\n",
    "df_{0}['Started']=pd.to_datetime(df_{0}['StartDate'])\n",
    "df_{0}['Recorded']=pd.to_datetime(df_{0}['RecordedDate'])\n",
    "df_{0}['week_start'] = (df_{0}['Recorded'] - df_{0}['Recorded'].dt.weekday.astype('timedelta64[D]')).dt.date\n",
    "df_{0}['Status'] = pd.to_numeric(df_{0}['Status'])\n",
    "\n",
    "    '''.format(Leavers_survey_dict[key].replace(' ','_'))\n",
    "    exec(program)\n",
    "\n",
    "    "
   ]
  },
  {
   "cell_type": "code",
   "execution_count": 65,
   "metadata": {},
   "outputs": [],
   "source": [
    "df_Expense.groupby('week_start').agg({'Status':'count'}).rename(columns={'Status':'Expense'}).join(\\\n",
    "df_Feature.groupby('week_start').agg({'Status':'count'}).rename(columns={'Status':'Feature'}),how='inner').join(\\\n",
    "df_Content.groupby('week_start').agg({'Status':'count'}).rename(columns={'Status':'Content'}),how='inner').join(\\\n",
    "df_Other_Service.groupby('week_start').agg({'Status':'count'}).rename(columns={'Status':'Other Service'}),how='inner')"
   ]
  },
  {
   "cell_type": "code",
   "execution_count": 33,
   "metadata": {},
   "outputs": [],
   "source": [
    "df_Feature.dtypes"
   ]
  },
  {
   "cell_type": "code",
   "execution_count": 41,
   "metadata": {},
   "outputs": [],
   "source": [
    "df_Feature['week_start'] = (df_Feature['Started'] - df_Feature['Started'].dt.weekday.astype('timedelta64[D]')).dt.date\n",
    "df_Feature['week_start'].unique()"
   ]
  },
  {
   "cell_type": "code",
   "execution_count": null,
   "metadata": {},
   "outputs": [],
   "source": []
  }
 ],
 "metadata": {
  "kernelspec": {
   "display_name": "Python 3",
   "language": "python",
   "name": "python3"
  },
  "language_info": {
   "codemirror_mode": {
    "name": "ipython",
    "version": 3
   },
   "file_extension": ".py",
   "mimetype": "text/x-python",
   "name": "python",
   "nbconvert_exporter": "python",
   "pygments_lexer": "ipython3",
   "version": "3.7.6"
  }
 },
 "nbformat": 4,
 "nbformat_minor": 4
}
