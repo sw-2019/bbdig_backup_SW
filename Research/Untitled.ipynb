{
 "cells": [
  {
   "cell_type": "code",
   "execution_count": 1,
   "metadata": {},
   "outputs": [],
   "source": [
    "# Set up modules for Google functionality\n",
    "from google.cloud import bigquery # To run BQ statements\n",
    "from google_auth_oauthlib import flow # To authorise as user\n",
    "from googleapiclient.discovery import build # To pull in from sheets, slides etc. API\n",
    "from google.auth.transport.requests import Request\n",
    "\n",
    "# Display\n",
    "import pprint\n",
    "\n",
    "# Operating system stuff\n",
    "import pickle\n",
    "import os.path\n",
    "import sys\n",
    "\n",
    "# Data handling\n",
    "import json\n",
    "import requests\n",
    "from pandas import read_csv\n",
    "\n",
    "\n",
    "# Stats, models, datasheets\n",
    "import pandas as pd\n",
    "import pyreadstat\n",
    "\n",
    "# Visualisation\n",
    "from matplotlib import pyplot\n",
    "import matplotlib.pyplot as plt\n",
    "import matplotlib_venn # For venn diagrams\n",
    "from pandas.plotting import autocorrelation_plot\n",
    "\n",
    "# Network graphs\n",
    "import networkx as nx\n",
    "\n",
    "\n",
    "# Misc\n",
    "from xlsxwriter.utility import xl_rowcol_to_cell # Used to create cell references\n",
    "import itertools\n",
    "\n",
    "# Load custom scripts in reusable_code folder\n",
    "sys.path.append(r'/home/jupyter/reusable_code')\n",
    "\n",
    "import google_api_functions as gaf\n",
    "import my_qualtrics as qltx"
   ]
  },
  {
   "cell_type": "code",
   "execution_count": 2,
   "metadata": {},
   "outputs": [],
   "source": [
    "my_session=qltx.session('ExTDN3nBP2Q8vVVnUJeMsjUCbyuWPyEDxblfUqCW')"
   ]
  },
  {
   "cell_type": "code",
   "execution_count": 3,
   "metadata": {},
   "outputs": [],
   "source": []
  },
  {
   "cell_type": "code",
   "execution_count": 4,
   "metadata": {},
   "outputs": [],
   "source": []
  },
  {
   "cell_type": "code",
   "execution_count": 5,
   "metadata": {},
   "outputs": [],
   "source": [
    "my_session.Get_list_of_surveys()"
   ]
  },
  {
   "cell_type": "code",
   "execution_count": 6,
   "metadata": {},
   "outputs": [],
   "source": [
    "my_session.Get_Account_Info('britboxresearch')"
   ]
  },
  {
   "cell_type": "code",
   "execution_count": 8,
   "metadata": {},
   "outputs": [],
   "source": [
    "my_session.Get_Survey_Info('SV_3RfuqXNl3NxuE8l')"
   ]
  },
  {
   "cell_type": "code",
   "execution_count": null,
   "metadata": {},
   "outputs": [],
   "source": []
  }
 ],
 "metadata": {
  "kernelspec": {
   "display_name": "Python 3",
   "language": "python",
   "name": "python3"
  },
  "language_info": {
   "codemirror_mode": {
    "name": "ipython",
    "version": 3
   },
   "file_extension": ".py",
   "mimetype": "text/x-python",
   "name": "python",
   "nbconvert_exporter": "python",
   "pygments_lexer": "ipython3",
   "version": "3.7.6"
  }
 },
 "nbformat": 4,
 "nbformat_minor": 4
}
