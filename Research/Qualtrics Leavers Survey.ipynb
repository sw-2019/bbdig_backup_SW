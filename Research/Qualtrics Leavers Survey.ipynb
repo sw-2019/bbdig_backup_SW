{
 "cells": [
  {
   "cell_type": "markdown",
   "metadata": {},
   "source": [
    "## 1) Import Modules required throughout"
   ]
  },
  {
   "cell_type": "code",
   "execution_count": 1,
   "metadata": {},
   "outputs": [],
   "source": [
    "import requests\n",
    "import time\n",
    "import zipfile\n",
    "import io\n",
    "from pprint import pprint\n",
    "import json"
   ]
  },
  {
   "cell_type": "markdown",
   "metadata": {},
   "source": [
    "## 2) Set up your credentials (britbox, your token)"
   ]
  },
  {
   "cell_type": "code",
   "execution_count": 2,
   "metadata": {},
   "outputs": [],
   "source": [
    "mytoken='ExTDN3nBP2Q8vVVnUJeMsjUCbyuWPyEDxblfUqCW'\n",
    "org_id='britboxresearch'"
   ]
  },
  {
   "cell_type": "code",
   "execution_count": null,
   "metadata": {},
   "outputs": [],
   "source": []
  },
  {
   "cell_type": "code",
   "execution_count": 3,
   "metadata": {},
   "outputs": [],
   "source": [
    "accountinfo=Get_Account_Info(mytoken,org_id)\n",
    "accountinfo['result']['stats']['responseCounts']['auditable']"
   ]
  },
  {
   "cell_type": "code",
   "execution_count": null,
   "metadata": {},
   "outputs": [],
   "source": [
    "survey_directory=Get_list_of_surveys(mytoken)\n",
    "survey_dict={i['name']:i['id'] for i in survey_directory if i['name'][-14:]=='Leavers survey'}"
   ]
  },
  {
   "cell_type": "code",
   "execution_count": null,
   "metadata": {},
   "outputs": [],
   "source": [
    "survey_dict\n",
    "surveyid=survey_dict['Content - Leavers survey']"
   ]
  },
  {
   "cell_type": "code",
   "execution_count": null,
   "metadata": {},
   "outputs": [],
   "source": [
    "survey_details=Get_Survey_Info(mytoken,surveyid)"
   ]
  },
  {
   "cell_type": "code",
   "execution_count": null,
   "metadata": {},
   "outputs": [],
   "source": [
    "# Get Survey API\n",
    "survey_details"
   ]
  },
  {
   "cell_type": "code",
   "execution_count": null,
   "metadata": {},
   "outputs": [],
   "source": []
  },
  {
   "cell_type": "markdown",
   "metadata": {},
   "source": [
    "# Download survey from API"
   ]
  },
  {
   "cell_type": "code",
   "execution_count": null,
   "metadata": {},
   "outputs": [],
   "source": [
    "\n",
    "####### Start the survey download\n",
    "url = \"https://eu.qualtrics.com/API/v3/surveys/{}/export-responses\".format(surveyid)\n",
    "headers = {\"content-type\": \"application/json\",\n",
    "    \"X-API-TOKEN\": mytoken,\n",
    "    'Accept-Charset': 'UTF-8',\n",
    "    'compress':'true'\n",
    "    }\n",
    "response = requests.request(\"POST\", url, headers=headers, data='{\"format\":\"csv\"}')\n",
    "progressID=json.loads(response.text)['result']['progressId'] # Get the ID for the download\n",
    "\n",
    "\n",
    "\n",
    "\n",
    "####### Check if export complete\n",
    "url = \"https://eu.qualtrics.com/API/v3/surveys/{}/export-responses/{}\".format(surveyid,progressID)\n",
    "headers = {\"content-type\": \"application/json\",\n",
    "        \"X-API-TOKEN\": mytoken\n",
    "        }\n",
    "    \n",
    "export_complete=False  #Assume not complete\n",
    "while export_complete==False:\n",
    "    response = requests.request(\"GET\", url, headers=headers, data='{\"format\":\"csv\"}')\n",
    "    response_dict=json.loads(response.text)['result']\n",
    "    \n",
    "    if float(response_dict['percentComplete'])>=100: #If complete, update value to break loop\n",
    "        export_complete=True\n",
    "        break\n",
    "    time.sleep(2) #Wait 1 second before restarting loop if not\n",
    "    \n",
    "\n",
    "fileId=response_dict['fileId'] #Retrieve the file ID of the download    \n",
    "\n",
    "####### Check if export complete\n",
    "\n",
    "url = \"https://eu.qualtrics.com/API/v3/surveys/{}/export-responses/{}/file\".format(surveyid,fileId)\n",
    "headers = {\"content-type\": \"application/json\",\n",
    "        \"X-API-TOKEN\": mytoken\n",
    "        }\n",
    "response = requests.request(\"GET\", url, headers=headers, stream=True)"
   ]
  },
  {
   "cell_type": "code",
   "execution_count": null,
   "metadata": {},
   "outputs": [],
   "source": [
    "\n",
    "# Step 4: Unzipping the file and storing it locally\n",
    "zipfile.ZipFile(io.BytesIO(response.content)).extractall(\"Leavers Survey\")\n",
    "print('Complete')\n",
    "\n",
    " "
   ]
  },
  {
   "cell_type": "code",
   "execution_count": null,
   "metadata": {},
   "outputs": [],
   "source": []
  },
  {
   "cell_type": "markdown",
   "metadata": {},
   "source": [
    "\n",
    "\n",
    "### Long term goals\n",
    "\n",
    "1) Have a single file combining the four surveys, all time.\n",
    "\n",
    "2) Dynamically look up the last response for one of the surveys, and pull data from then until now, or have option to pull a specified date range, or a relative date range to now.\n",
    "\n",
    "3) Pull the latest data for each of the 4 surveys\n",
    "\n",
    "4) Pull the question spec: Match question text, conditionally format based on type\n",
    "\n",
    "5) Append the data to history for each of the surveys\n",
    "\n",
    "6) Union dynamically to create a master file with appropriate fields overlapping\n"
   ]
  },
  {
   "cell_type": "code",
   "execution_count": null,
   "metadata": {},
   "outputs": [],
   "source": []
  }
 ],
 "metadata": {
  "kernelspec": {
   "display_name": "Python 3",
   "language": "python",
   "name": "python3"
  },
  "language_info": {
   "codemirror_mode": {
    "name": "ipython",
    "version": 3
   },
   "file_extension": ".py",
   "mimetype": "text/x-python",
   "name": "python",
   "nbconvert_exporter": "python",
   "pygments_lexer": "ipython3",
   "version": "3.7.6"
  }
 },
 "nbformat": 4,
 "nbformat_minor": 4
}
