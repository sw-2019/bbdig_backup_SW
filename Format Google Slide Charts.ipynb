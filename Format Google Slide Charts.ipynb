{
 "cells": [
  {
   "cell_type": "code",
   "execution_count": 9,
   "metadata": {},
   "outputs": [],
   "source": [
    "from googleapiclient.discovery import build\n",
    "import sys\n",
    "# Load custom scripts in reusable_code folder\n",
    "sys.path.append(r'/home/jupyter/reusable_code')\n",
    "\n",
    "import google_api_functions as gaf\n",
    "\n",
    "creds=gaf.Authenticate_Google(r'/home/jupyter/reusable_code/')"
   ]
  },
  {
   "cell_type": "code",
   "execution_count": 10,
   "metadata": {},
   "outputs": [],
   "source": [
    "bb_palette={'Union Blue':{'blue': 0.376470588235294,'green': 0.207843137254902,'red': 0.0313725490196078},\n",
    "'Sunset Red':{'blue': 0.364705882352941,'green': 0.32156862745098,'red': 0.823529411764706},\n",
    "'Dorset Blue':{'blue': 0.72156862745098,'green': 0.627450980392157,'red': 0.294117647058824},\n",
    "'Apple':{'blue': 0.549019607843137,'green': 0.709803921568628,'red': 0.552941176470588},\n",
    "'Orange':{'blue': 0.368627450980392,'green': 0.513725490196078,'red': 0.87843137254902},\n",
    "'Apricot':{'blue': 0.364705882352941,'green': 0.701960784313725,'red': 0.909803921568627},\n",
    "'Dorset Blue Highlight':{'blue': 0.901960784313726,'green': 0.792156862745098,'red': 0.36078431372549},\n",
    "'Sunset Red Highlight':{'blue': 0.6,'green': 0.56078431372549,'red': 1},\n",
    "'Union Blue Highlight':{'blue': 0.811764705882353,'green': 0.415686274509804,'red': 0},\n",
    "'Raspberry':{'blue': 0.392156862745098,'green': 0.247058823529412,'red': 0.6},\n",
    "'Dark Storm':{'blue': 0.137254901960784,'green': 0.125490196078431,'red': 0.117647058823529},\n",
    "'Mild Storm':{'blue': 0.192156862745098,'green': 0.168627450980392,'red': 0.156862745098039},\n",
    "'Light Storm':{'blue': 0.294117647058824,'green': 0.262745098039216,'red': 0.243137254901961},\n",
    "'Dark Cloud':{'blue': 0.847058823529412,'green': 0.823529411764706,'red': 0.803921568627451},\n",
    "'Light Cloud':{'blue': 0.956862745098039,'green': 0.929411764705882,'red': 0.909803921568627},\n",
    "'White':{'blue': 1,'green': 1,'red': 1},}"
   ]
  },
  {
   "cell_type": "code",
   "execution_count": 11,
   "metadata": {},
   "outputs": [],
   "source": [
    "# One off retrieval of SLIDES service\n",
    "service = build('slides', 'v1', credentials=creds)\n",
    "slides = service.presentations()\n",
    "\n",
    "# One off retrieval of SHEETS service\n",
    "service = build('sheets', 'v4', credentials=creds)\n",
    "sheet = service.spreadsheets()"
   ]
  },
  {
   "cell_type": "code",
   "execution_count": 14,
   "metadata": {},
   "outputs": [],
   "source": [
    "slideID='1tRtUmxdgyQj9aEdAc6wNqMpFHjvWXbDvBrJGqFmGYdg'"
   ]
  },
  {
   "cell_type": "code",
   "execution_count": 15,
   "metadata": {},
   "outputs": [],
   "source": [
    "slide_info=slides.get(presentationId=slideID).execute()"
   ]
  },
  {
   "cell_type": "code",
   "execution_count": 16,
   "metadata": {},
   "outputs": [],
   "source": [
    "chart_dict={}\n",
    "from pprint import pprint \n",
    "for i in slide_info['slides']:\n",
    "    for j in i['pageElements']:\n",
    "        if \"sheetsChart\" in j.keys():\n",
    "            if j[\"sheetsChart\"][\"spreadsheetId\"] in chart_dict.keys():\n",
    "                chart_dict[j[\"sheetsChart\"][\"spreadsheetId\"]].append(j[\"sheetsChart\"][\"chartId\"])\n",
    "            else:\n",
    "                chart_dict[j[\"sheetsChart\"][\"spreadsheetId\"]]=([j[\"sheetsChart\"][\"chartId\"]])\n"
   ]
  },
  {
   "cell_type": "code",
   "execution_count": 17,
   "metadata": {},
   "outputs": [],
   "source": [
    "chart_dict"
   ]
  },
  {
   "cell_type": "code",
   "execution_count": 36,
   "metadata": {},
   "outputs": [],
   "source": [
    "def format_graphs(spreadsheet_id,chart_id,graph_title=None,left_axis_title=None,bottom_axis_title=None):\n",
    "    \n",
    "    sheet_info=sheet.get(spreadsheetId=spreadsheet_id).execute() # Get all info on the google sheet\n",
    "    all_charts=[]\n",
    "    for eachtab in sheet_info['sheets']:\n",
    "        if 'charts' in eachtab.keys():\n",
    "            for eachchart in eachtab['charts']:\n",
    "                all_charts.append(eachchart)\n",
    "            \n",
    "    \n",
    "    chart_spec=[x for x in all_charts if str(x['chartId'])==chart_id][0] # Full dictionary of First sheet, first chart\n",
    "    new_chart_spec=chart_spec\n",
    "    \n",
    "            #set chart default font\n",
    "    new_chart_spec['spec']['fontName']='Verdana'\n",
    "\n",
    "    # Set chart title\n",
    "    if graph_title:\n",
    "        new_chart_spec['spec']['title']=graph_title\n",
    "\n",
    "    # Set title font type, size and colour\n",
    "    new_chart_spec['spec']['titleTextFormat']={\n",
    "      \"foregroundColor\": bb_palette['Dark Storm'],\n",
    "      \"fontFamily\": 'Verdana',\n",
    "      \"fontSize\": 18,\n",
    "      \"bold\": True,\n",
    "      \"italic\": False\n",
    "    }\n",
    "    # Set title position/ alignment\n",
    "    new_chart_spec['spec']['titleTextPosition']={'horizontalAlignment': 'CENTER'}\n",
    "\n",
    "    # Set background colour\n",
    "    new_chart_spec['spec']['backgroundColor']=bb_palette['White']\n",
    "\n",
    "    if 'basicChart' in new_chart_spec['spec'].keys(): \n",
    "        # Set legend position\n",
    "        new_chart_spec['spec']['basicChart']['legendPosition']='BOTTOM_LEGEND'\n",
    "\n",
    "        \n",
    "        \n",
    "         # Set left axis\n",
    "        Left_axis_index=[n for n,i in enumerate(new_chart_spec['spec']['basicChart']['axis']) if i['position']=='LEFT_AXIS'][0]\n",
    "\n",
    "        # Axis title\n",
    "        if left_axis_title:\n",
    "            new_chart_spec['spec']['basicChart']['axis'][Left_axis_index]['title']=left_axis_title\n",
    "        # Axis text format\n",
    "        new_chart_spec['spec']['basicChart']['axis'][Left_axis_index]['format']={\n",
    "          \"foregroundColor\": bb_palette['Dark Storm'],\n",
    "          \"fontFamily\": 'Verdana',\n",
    "          \"fontSize\": 14,\n",
    "          \"bold\": False,\n",
    "          \"italic\": True\n",
    "        }\n",
    "        \n",
    "        if 'title' in new_chart_spec['spec']['basicChart']['axis'][Left_axis_index].keys():\n",
    "            # Axis text alignment\n",
    "            new_chart_spec['spec']['basicChart']['axis'][Left_axis_index]['titleTextPosition']={'horizontalAlignment': 'CENTER'}\n",
    "\n",
    "\n",
    "            \n",
    "            \n",
    "            # Set bottom axis\n",
    "        Bottom_axis_index=[n for n,i in enumerate(new_chart_spec['spec']['basicChart']['axis']) if i['position']=='BOTTOM_AXIS'][0]\n",
    "        # Axis title\n",
    "        if bottom_axis_title:\n",
    "            new_chart_spec['spec']['basicChart']['axis'][Bottom_axis_index]['title']=bottom_axis_title\n",
    "\n",
    "        # Axis text format\n",
    "        new_chart_spec['spec']['basicChart']['axis'][Bottom_axis_index]['format']={\n",
    "          \"foregroundColor\": bb_palette['Dark Storm'],\n",
    "          \"fontFamily\": 'Verdana',\n",
    "          \"fontSize\": 14,\n",
    "          \"bold\": True,\n",
    "          \"italic\": False\n",
    "        }\n",
    "\n",
    "        if 'title' in new_chart_spec['spec']['basicChart']['axis'][Bottom_axis_index].keys():\n",
    "            # Axis text alignment\n",
    "            new_chart_spec['spec']['basicChart']['axis'][Bottom_axis_index]['titleTextPosition']={'horizontalAlignment': 'CENTER'}\n",
    "\n",
    "            \n",
    "        # Colour series\n",
    "        for n1,i in enumerate(new_chart_spec['spec']['basicChart']['series']):    \n",
    "            i['color']=[bb_palette[x] for n,x in enumerate(bb_palette.keys()) if n==n1][0]\n",
    "        \n",
    "    data = {'requests': [\n",
    "    {\n",
    "        'updateChartSpec':{\"chartId\":new_chart_spec['chartId'],\n",
    "                           \"spec\":new_chart_spec['spec']\n",
    "                          }\n",
    "    }\n",
    "]}\n",
    "\n",
    "    sheet.batchUpdate(spreadsheetId=spreadsheet_id, body=data).execute()\n"
   ]
  },
  {
   "cell_type": "code",
   "execution_count": 38,
   "metadata": {},
   "outputs": [],
   "source": [
    "excl_list=[]\n",
    "for k in chart_dict:\n",
    "    for x in chart_dict[k]:\n",
    "        if k not in excl_list:\n",
    "            print(k)\n",
    "            print(x)\n",
    "            #format_graphs(k,str(x))\n",
    "            try:\n",
    "                format_graphs(k,str(x))\n",
    "            except:\n",
    "                print('Couldn''t amend graph')"
   ]
  },
  {
   "cell_type": "code",
   "execution_count": 41,
   "metadata": {},
   "outputs": [],
   "source": [
    "sheet_info=sheet.get(spreadsheetId='18Jkn__U-YrQxWxepmUO2LDYefVriwOLynAyD5RmMzQE').execute() # Get all info on the google sheet\n",
    "chart_spec=[x for x in sheet_info['sheets'][0]['charts'] if str(x['chartId'])==chart_id][0] # Full dictionary of First sheet, first chart"
   ]
  },
  {
   "cell_type": "code",
   "execution_count": 42,
   "metadata": {},
   "outputs": [],
   "source": [
    "sheet_info=sheet.get(spreadsheetId='18Jkn__U-YrQxWxepmUO2LDYefVriwOLynAyD5RmMzQE').execute() # Get all info on the google sheet\n",
    "all_charts=[]\n",
    "for eachtab in sheet_info['sheets']:\n",
    "    if 'charts' in eachtab.keys():\n",
    "        for eachchart in eachtab['charts']:\n",
    "            all_charts.append(eachchart)\n",
    "\n",
    "\n",
    "chart_spec=[x for x in all_charts if str(x['chartId'])=='1473784709'][0] # Full dictionary of First sheet, first chart"
   ]
  },
  {
   "cell_type": "code",
   "execution_count": 43,
   "metadata": {},
   "outputs": [],
   "source": [
    "chart_spec"
   ]
  },
  {
   "cell_type": "code",
   "execution_count": null,
   "metadata": {},
   "outputs": [],
   "source": []
  }
 ],
 "metadata": {
  "kernelspec": {
   "display_name": "Python 3",
   "language": "python",
   "name": "python3"
  },
  "language_info": {
   "codemirror_mode": {
    "name": "ipython",
    "version": 3
   },
   "file_extension": ".py",
   "mimetype": "text/x-python",
   "name": "python",
   "nbconvert_exporter": "python",
   "pygments_lexer": "ipython3",
   "version": "3.7.6"
  }
 },
 "nbformat": 4,
 "nbformat_minor": 4
}
