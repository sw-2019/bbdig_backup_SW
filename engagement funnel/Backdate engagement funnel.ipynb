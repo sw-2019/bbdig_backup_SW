{
 "cells": [
  {
   "cell_type": "code",
   "execution_count": 4,
   "metadata": {},
   "outputs": [],
   "source": [
    "# Set up modules for Google functionality\n",
    "from google.cloud import bigquery # To run BQ statements\n",
    "from google_auth_oauthlib import flow # To authorise as user\n",
    "from googleapiclient.discovery import build # To pull in from sheets, slides etc. API\n",
    "from google.auth.transport.requests import Request\n",
    "from google.cloud.bigquery import magics\n",
    "\n",
    "import sys\n",
    "sys.path.append(r'/home/jupyter/reusable_code')\n",
    "\n",
    "import google_api_functions as gaf\n",
    "creds=gaf.Authenticate_Google(r'/home/jupyter/reusable_code/') # Return logged-in credentials\n"
   ]
  },
  {
   "cell_type": "code",
   "execution_count": 5,
   "metadata": {},
   "outputs": [],
   "source": [
    "\n",
    "bq = bigquery.Client(project='itv-bde-analytics-dev',credentials=creds) #Apply credentials to BQ client \"bq\"\n",
    "magics.context.credentials = credentials  #apply these credentials to the BQ magic syntax too\n"
   ]
  },
  {
   "cell_type": "code",
   "execution_count": 10,
   "metadata": {},
   "outputs": [],
   "source": [
    "for i in range(0,22):\n",
    "    query=\"\"\"\n",
    "\n",
    "    insert `itv-bde-analytics-dev.britbox_analytics.weekly_engagement_funnel`  \n",
    "    with\n",
    "    entitled as \n",
    "    (select distinct britbox_id, timestamp_sub(timestamp_trunc(current_timestamp,WEEK(MONDAY)),INTERVAL (7*({}+1)) DAY) as week_beginning from `itv-bde-svod-prd.reporting.Entitlements_oldf_reporting` \n",
    "    where start_date<= \n",
    "    timestamp_sub(timestamp_sub(timestamp_trunc(current_timestamp,WEEK(MONDAY)),INTERVAL (7*{}) DAY),INTERVAL 1 MILLISECOND) --starts before the end of last week\n",
    "    and end_date>=timestamp_sub(timestamp_trunc(current_timestamp,WEEK(MONDAY)),INTERVAL (7*({}+1)) DAY) --ends after the beginning of last week\n",
    "    )\n",
    "\n",
    "    ,logged_in as \n",
    "    (select distinct coalesce(TRIM(JSON_EXTRACT(raw,'$.user.itv_id'),\"\\\\\"\"),TRIM(JSON_EXTRACT(raw,'$.user.id'),\"\\\\\"\")) as user_id, 1 as logged_in\n",
    "    from `itv-bde-svod-prd.svod.svod_page_raw_in` \n",
    "    where timestamp_trunc(_PARTITIONTIME,WEEK(MONDAY))=timestamp_sub(timestamp_trunc(current_timestamp,WEEK(MONDAY)),INTERVAL (7*({}+1)) DAY) --last week\n",
    "    )\n",
    "\n",
    "    ,viewed as \n",
    "    (select itv_id, 1 as viewed, max(case when consumption/60000 >10 then 1 else 0 end) as viewed_10mins from `itv-bde-svod-prd.pes.svod_stream_summary`\n",
    "    where timestamp_trunc(_PARTITIONTIME,WEEK(MONDAY))=timestamp_sub(timestamp_trunc(current_timestamp,WEEK(MONDAY)),INTERVAL (7*({}+1)) DAY) --last week\n",
    "    group by 1\n",
    "    )\n",
    "\n",
    "    ,joined as (select\n",
    "    a.*\n",
    "    ,ifnull(b.logged_in,0) as logged_in\n",
    "    ,ifnull(c.viewed,0) as viewed\n",
    "    ,ifnull(c.viewed_10mins,0) as viewed_10mins\n",
    "\n",
    "    from entitled a\n",
    "    left join logged_in b\n",
    "    on a.britbox_id=b.user_id\n",
    "\n",
    "    left join viewed c\n",
    "    on b.user_id=c.itv_id)\n",
    "\n",
    "    select week_beginning,\n",
    "    count(distinct britbox_id) as entitled_custs\n",
    "    /*Absolutes*/\n",
    "    ,count(*) as entitled\n",
    "    ,sum(logged_in) as logged_in\n",
    "    ,sum(viewed) as viewed\n",
    "    ,sum(viewed_10mins) as viewed_10mins\n",
    "\n",
    "    ,count(*)/count(*) as entitled_pc\n",
    "    ,sum(logged_in)/count(*) as logged_in_pc\n",
    "    ,sum(viewed)/count(*) as viewed_pc\n",
    "    ,sum(viewed_10mins)/count(*) as viewed_10mins_pc\n",
    "\n",
    "\n",
    "    ,sum(logged_in)/count(*) as conversion_to_login\n",
    "    ,sum(viewed)/sum(logged_in) as conversion_to_view\n",
    "    ,sum(viewed_10mins)/sum(viewed) as conversion_to_view_10mins\n",
    "\n",
    "    from joined\n",
    "    group by 1\n",
    "\n",
    "    \"\"\".format(i,i,i,i,i)\n",
    "    #print(query)\n",
    "    bq.query(query)\n",
    "    "
   ]
  },
  {
   "cell_type": "code",
   "execution_count": null,
   "metadata": {},
   "outputs": [],
   "source": []
  }
 ],
 "metadata": {
  "kernelspec": {
   "display_name": "Python 3",
   "language": "python",
   "name": "python3"
  },
  "language_info": {
   "codemirror_mode": {
    "name": "ipython",
    "version": 3
   },
   "file_extension": ".py",
   "mimetype": "text/x-python",
   "name": "python",
   "nbconvert_exporter": "python",
   "pygments_lexer": "ipython3",
   "version": "3.7.6"
  }
 },
 "nbformat": 4,
 "nbformat_minor": 4
}
