{
 "cells": [
  {
   "cell_type": "code",
   "execution_count": 88,
   "metadata": {},
   "outputs": [],
   "source": [
    "from PIL import Image, ImageDraw,ImageFont,ImageChops\n",
    "\n",
    "import sys\n",
    "sys.path.append(r'/home/jupyter/reusable_code')\n",
    "import google_api_functions as gaf\n",
    "\n",
    "# Google Sheets Credentials\n",
    "creds=gaf.Authenticate_Google(r'/home/jupyter/reusable_code/') # Return logged-in credentials\n",
    "\n",
    "values,colourDf=gaf.read_google_sheets_as_rows('18t_E2ZBbFxxm32ApsajUMP1KGo--m2aqEO6xy4v4XvY','Sheet1',creds)\n",
    "colourDictRGB={i['Colour']:(int(i['R']),int(i['G']),int(i['B'])) for i in colourDf[['Colour','R','G','B','Colour Palette']].to_dict('records') if i['Colour Palette']=='Overall'}\n",
    "colourDictRGBInternal={i['Colour']:(int(i['R']),int(i['G']),int(i['B'])) for i in colourDf[['Colour','R','G','B','Colour Palette']].to_dict('records') if i['Colour Palette']=='Internal'}# and i['Colour'][-9:]!='Highlight']\n",
    "#colourDf\n",
    "\n"
   ]
  },
  {
   "cell_type": "markdown",
   "metadata": {},
   "source": [
    "# Create a blank canvas and write the text on it"
   ]
  },
  {
   "cell_type": "code",
   "execution_count": 112,
   "metadata": {},
   "outputs": [],
   "source": [
    "def trim(im, border):\n",
    "    bg = Image.new(im.mode, im.size, border)\n",
    "    diff = ImageChops.difference(im, bg)\n",
    "    bbox = diff.getbbox()\n",
    "    if bbox:\n",
    "        return im.crop(bbox)\n",
    "    \n",
    "def Concat_Image_and_Text(image_to_merge,text_string,text_colour='black',savepath=None,\n",
    "    # Specify canvass size\n",
    "    canvasHeight=1000,\n",
    "    canvasWidth=1000,\n",
    "    # Specify how big the text box should be as a proportion of the canvass\n",
    "    max_text_height_pc=0.2, # 20% of the height\n",
    "    max_text_width_pc=1, # 100% of width\n",
    "    textIndentSize_pc=0.05 # 5% of size \n",
    "):\n",
    "\n",
    "    \n",
    "    # Calculate how big the text box should be in absolute terms\n",
    "    textIndentSize=textIndentSize_pc*canvasWidth\n",
    "    max_text_height=max_text_height_pc*canvasHeight\n",
    "    max_text_width=max_text_width_pc*(canvasWidth-(2*textIndentSize))\n",
    "\n",
    "    # Draw a blank canvas\n",
    "    img = Image.new('RGBA', (canvasWidth, canvasHeight), color = (0,0,0,0))\n",
    "    d = ImageDraw.Draw(img)\n",
    "\n",
    "    # Initialise Font\n",
    "    fontSize=7\n",
    "    fnt = ImageFont.truetype(r'/home/jupyter/reusable_code/Montserrat-Medium.ttf', fontSize)\n",
    "    textboxWidth,textboxHeight=d.multiline_textsize(text_string, font=fnt, spacing=2) # See how large the text box would be to write the selected text in the selected space\n",
    "\n",
    "    # Iteratively increase Text Size until it is too big\n",
    "    while textboxWidth<max_text_width and textboxHeight<max_text_height:\n",
    "        fontSize+=1\n",
    "        fnt = ImageFont.truetype(r'/home/jupyter/reusable_code/Montserrat-Medium.ttf', fontSize)\n",
    "        textboxWidth,textboxHeight=d.textsize(text_string, font=fnt, spacing=2)\n",
    "        #print(textboxWidth,textboxHeight)\n",
    "\n",
    "    # Identify the top left of the text box\n",
    "    textLocY=canvasHeight-textboxHeight-textIndentSize\n",
    "    textLocX=(canvasWidth/2)-(textboxWidth/2)\n",
    "\n",
    "    picCanvasHeight=textLocY-1\n",
    "\n",
    "    d.multiline_text((textLocX,textLocY), text_string, font=fnt, fill=text_colour,align='center') # Write the text in\n",
    "    \n",
    "    #### Add in an image above the text\n",
    "    \n",
    "    pic=Image.open(image_to_merge) # Open the image\n",
    "    #print(pic.size)\n",
    "    pic=trim(pic,0) # crop surrounding whitespace using function above\n",
    "    #print(pic.size)\n",
    "    \n",
    "    pic = pic.convert(\"RGBA\") # Convert to RGBA\n",
    "    scaling_factor=min(canvasWidth/pic.size[0],picCanvasHeight/pic.size[1]) # Calculate the ratio needed to make the image fit the available space\n",
    "    newsize=tuple(int(i*scaling_factor) for i in pic.size) # Apply that ratio to get a new image size\n",
    "    pic =pic.resize(newsize) # Resize the image\n",
    "    \n",
    "    # Work out the top left coordinates of the image within the canvas, in order to centre the image\n",
    "    picLocY=int((picCanvasHeight/2)-(pic.size[1]/2))\n",
    "    picLocX=int((canvasWidth/2)-(pic.size[0]/2))\n",
    "    img.paste(pic, (picLocX, picLocY),pic) # Paste the image in\n",
    "    if savepath==None:\n",
    "        savepath=image_to_merge.split('.')[0]+'_new.png'\n",
    "  \n",
    "    img.save(savepath,\"PNG\") # Save it\n",
    "    \n"
   ]
  },
  {
   "cell_type": "code",
   "execution_count": 84,
   "metadata": {},
   "outputs": [],
   "source": [
    "Concat_Image_and_Text(image_to_merge=r'/home/jupyter/Images/Icon Trading_new.png', text_string='''Trading Report''',\\\n",
    "                      text_colour=colourDictRGBInternal['Union Blue'],savepath=r'/home/jupyter/Images/SiteIcon Reporting Trading.png')\n",
    "Concat_Image_and_Text(image_to_merge=r'/home/jupyter/Images/Icon Play_new.png', text_string='''Viewing Dashboard''',\\\n",
    "                      text_colour=colourDictRGBInternal['Union Blue'],savepath=r'/home/jupyter/Images/SiteIcon Reporting Viewing.png')\n",
    "Concat_Image_and_Text(image_to_merge=r'/home/jupyter/Images/Icon KPIs_new.png', text_string='''Customer Experience KPIs''',\\\n",
    "                      text_colour=colourDictRGBInternal['Union Blue'],savepath=r'/home/jupyter/Images/SiteIcon Reporting Customer Experience KPIs.png')\n",
    "Concat_Image_and_Text(image_to_merge=r'/home/jupyter/Images/Icon Funnel_new.png', text_string='''Conversion Funnel''',\\\n",
    "                      text_colour=colourDictRGBInternal['Union Blue'],savepath=r'/home/jupyter/Images/SiteIcon Reporting Conversion Funnel.png')"
   ]
  },
  {
   "cell_type": "code",
   "execution_count": 85,
   "metadata": {},
   "outputs": [],
   "source": [
    "Concat_Image_and_Text(image_to_merge=r'/home/jupyter/Images/Icon Search BritBox_new.png', text_string='''Brand Tracker''',\\\n",
    "                      text_colour=colourDictRGBInternal['Union Blue'],savepath=r'/home/jupyter/Images/SiteIcon Reporting Brand Tracker.png')\n",
    "Concat_Image_and_Text(image_to_merge=r'/home/jupyter/Images/Icon Search Competitors_new.png', text_string='''SVOD Market \\nOverview''',\\\n",
    "                      text_colour=colourDictRGBInternal['Union Blue'],savepath=r'/home/jupyter/Images/SiteIcon Reporting SVOD Market Overview.png')\n",
    "Concat_Image_and_Text(image_to_merge=r'/home/jupyter/Images/Icon Acquisition_new.png', text_string='''Joiners Survey''',\\\n",
    "                      text_colour=colourDictRGBInternal['Union Blue'],savepath=r'/home/jupyter/Images/SiteIcon Reporting Joiners Survey.png')\n",
    "Concat_Image_and_Text(image_to_merge=r'/home/jupyter/Images/Icon Churn_new.png', text_string='''Leavers Survey''',\\\n",
    "                      text_colour=colourDictRGBInternal['Union Blue'],savepath=r'/home/jupyter/Images/SiteIcon Reporting Leavers Survey.png')"
   ]
  },
  {
   "cell_type": "code",
   "execution_count": 87,
   "metadata": {},
   "outputs": [],
   "source": []
  },
  {
   "cell_type": "code",
   "execution_count": 113,
   "metadata": {},
   "outputs": [],
   "source": [
    "Concat_Image_and_Text(image_to_merge=r'/home/jupyter/Images/Audience Segments_new.png', text_string='''SVOD Audience\\nSegments''',\\\n",
    "                      text_colour=colourDictRGBInternal['Union Blue'],savepath=r'/home/jupyter/Images/SiteIcon Insight SVOD Audience Segments.png')"
   ]
  },
  {
   "cell_type": "code",
   "execution_count": 115,
   "metadata": {},
   "outputs": [],
   "source": [
    "Concat_Image_and_Text(image_to_merge=r'/home/jupyter/Images/LoveIsland_brand_Packshot_720_1080_wkk03p7.jpeg', text_string='''Love Island 2021\\nLoss of Exclusivity Impact''',\\\n",
    "                      text_colour=colourDictRGBInternal['Union Blue'],savepath=r'/home/jupyter/Images/SiteIcon Insight Love Island- 2021 Loss of Exclusivity.png')\n",
    "Concat_Image_and_Text(image_to_merge=r'/home/jupyter/Images/Boris1_Spitting_Image_credit_AvalonBritBoxMark Harrison (2).jpeg', text_string='''Spitting Image\\nLaunch Impact''',\\\n",
    "                      text_colour=colourDictRGBInternal['Union Blue'],savepath=r'/home/jupyter/Images/SiteIcon Insight Spitting Image Launch Impact.png')\n",
    "Concat_Image_and_Text(image_to_merge=r'/home/jupyter/Images/Icon Churn Door_new.png', text_string='''Behaviour-driven\\n Churn 2020''',\\\n",
    "                      text_colour=colourDictRGBInternal['Union Blue'],savepath=r'/home/jupyter/Images/SiteIcon Insight Churn Deep Dive.png')\n",
    "Concat_Image_and_Text(image_to_merge=r'/home/jupyter/Images/Icon PiggyBank_new.png', text_string='''Lifetime\\nValue 2020''',\\\n",
    "                      text_colour=colourDictRGBInternal['Union Blue'],savepath=r'/home/jupyter/Images/SiteIcon Insight Lifetime Value 2020.png')\n",
    "Concat_Image_and_Text(image_to_merge=r'/home/jupyter/Images/Icon Chart_new.png', text_string='''Econometrics\\nYear 1''',\\\n",
    "                      text_colour=colourDictRGBInternal['Union Blue'],savepath=r'/home/jupyter/Images/SiteIcon Insight Econometrics Year 1.png')\n",
    "Concat_Image_and_Text(image_to_merge=r'/home/jupyter/Images/Icon Venn_new.png', text_string='''Content\\nSegmentation''',\\\n",
    "                      text_colour=colourDictRGBInternal['Union Blue'],savepath=r'/home/jupyter/Images/SiteIcon Insight Content Segmentation.png')\n",
    "Concat_Image_and_Text(image_to_merge=r'/home/jupyter/Images/Stripe vs iTunes_new.png', text_string='''Stripe vs iTunes\\nChurn Mini-dive''',\\\n",
    "                      text_colour=colourDictRGBInternal['Union Blue'],savepath=r'/home/jupyter/Images/SiteIcon Insight Stripe vs iTunes Churn.png')\n",
    "Concat_Image_and_Text(image_to_merge=r'/home/jupyter/Images/BB_2021BAU_Marcella_Square_1080x1080.jpeg', text_string='''Drama Drops Impact\\nJan 2021''',\\\n",
    "                      text_colour=colourDictRGBInternal['Union Blue'],savepath=r'/home/jupyter/Images/SiteIcon Insight Drama Drops.png')\n",
    "Concat_Image_and_Text(image_to_merge=r'/home/jupyter/Images/Icon MegaPhone_new.png', text_string='''Messaging\\nResearch 2020''',\\\n",
    "                      text_colour=colourDictRGBInternal['Union Blue'],savepath=r'/home/jupyter/Images/SiteIcon Insight Messaging Research 2020.png')\n",
    "Concat_Image_and_Text(image_to_merge=r'/home/jupyter/Images/Icon LightBulb_new.png', text_string='''Editorial\\nConcept Testing''',\\\n",
    "                      text_colour=colourDictRGBInternal['Union Blue'],savepath=r'/home/jupyter/Images/SiteIcon Insight Editorial Concept Testing.png')\n"
   ]
  },
  {
   "cell_type": "code",
   "execution_count": 126,
   "metadata": {},
   "outputs": [],
   "source": []
  },
  {
   "cell_type": "code",
   "execution_count": 127,
   "metadata": {},
   "outputs": [],
   "source": []
  },
  {
   "cell_type": "code",
   "execution_count": null,
   "metadata": {},
   "outputs": [],
   "source": []
  },
  {
   "cell_type": "code",
   "execution_count": null,
   "metadata": {},
   "outputs": [],
   "source": []
  }
 ],
 "metadata": {
  "kernelspec": {
   "display_name": "Python 3",
   "language": "python",
   "name": "python3"
  },
  "language_info": {
   "codemirror_mode": {
    "name": "ipython",
    "version": 3
   },
   "file_extension": ".py",
   "mimetype": "text/x-python",
   "name": "python",
   "nbconvert_exporter": "python",
   "pygments_lexer": "ipython3",
   "version": "3.7.6"
  }
 },
 "nbformat": 4,
 "nbformat_minor": 4
}
