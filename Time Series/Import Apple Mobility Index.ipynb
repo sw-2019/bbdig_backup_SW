{
 "cells": [
  {
   "cell_type": "code",
   "execution_count": 37,
   "metadata": {},
   "outputs": [],
   "source": [
    "import pandas as pd\n",
    "import re\n",
    "import numpy as np\n",
    "import datetime"
   ]
  },
  {
   "cell_type": "code",
   "execution_count": 3,
   "metadata": {},
   "outputs": [],
   "source": [
    "mobility_data=pd.read_csv('https://covid19-static.cdn-apple.com/covid19-mobility-data/2021HotfixDev18/v3/en-us/applemobilitytrends-2020-11-19.csv')"
   ]
  },
  {
   "cell_type": "code",
   "execution_count": 10,
   "metadata": {},
   "outputs": [],
   "source": [
    "walkingdataUK=mobility_data[(mobility_data['region']=='United Kingdom')&(mobility_data['transportation_type']=='walking')]"
   ]
  },
  {
   "cell_type": "code",
   "execution_count": 26,
   "metadata": {},
   "outputs": [],
   "source": [
    "datecols=[x for x in walkingdataUK.columns if re.match('\\d{4}-\\d{2}-\\d{2}',x)]"
   ]
  },
  {
   "cell_type": "code",
   "execution_count": 45,
   "metadata": {},
   "outputs": [],
   "source": [
    "walkingdataUK_TS=walkingdataUK[datecols].stack().droplevel(level=0)"
   ]
  },
  {
   "cell_type": "code",
   "execution_count": 49,
   "metadata": {},
   "outputs": [],
   "source": [
    "walkingdataUK_TS.index=pd.to_datetime(walkingdataUK_TS.index)"
   ]
  },
  {
   "cell_type": "code",
   "execution_count": 51,
   "metadata": {},
   "outputs": [],
   "source": [
    "walkingdataUK_TS.index"
   ]
  },
  {
   "cell_type": "code",
   "execution_count": 167,
   "metadata": {},
   "outputs": [],
   "source": [
    "mobility_data=pd.read_csv('https://covid19-static.cdn-apple.com/covid19-mobility-data/2021HotfixDev18/v3/en-us/applemobilitytrends-2020-11-19.csv')\n",
    "walkingdataUK=mobility_data[(mobility_data['region']=='United Kingdom')&(mobility_data['transportation_type']=='walking')]\n",
    "datecols=[x for x in walkingdataUK.columns if re.match('\\d{4}-\\d{2}-\\d{2}',x)]\n",
    "walkingdataUK_TS=walkingdataUK[datecols].stack().droplevel(level=0)\n",
    "walkingdataUK_TS.index=pd.to_datetime(walkingdataUK_TS.index)\n",
    "walkingdataUK_TS"
   ]
  },
  {
   "cell_type": "code",
   "execution_count": 168,
   "metadata": {},
   "outputs": [],
   "source": [
    "walkingdataUK_TS=walkingdataUK_TS.reindex(pd.date_range(start=walkingdataUK_TS.index.min(), end=walkingdataUK_TS.index.max()))\n",
    "walkingdataUK_TS['2020-05-11']=(walkingdataUK_TS['2020-05-10']+(1/3)*(walkingdataUK_TS['2020-05-13']-walkingdataUK_TS['2020-05-10']))\n",
    "walkingdataUK_TS['2020-05-12']=(walkingdataUK_TS['2020-05-10']+(2/3)*(walkingdataUK_TS['2020-05-13']-walkingdataUK_TS['2020-05-10']))\n"
   ]
  },
  {
   "cell_type": "code",
   "execution_count": 169,
   "metadata": {},
   "outputs": [],
   "source": [
    "walkingdataUK_TS"
   ]
  },
  {
   "cell_type": "code",
   "execution_count": 171,
   "metadata": {},
   "outputs": [],
   "source": []
  },
  {
   "cell_type": "code",
   "execution_count": 172,
   "metadata": {},
   "outputs": [],
   "source": [
    "walkingdataUK_TS['2020-05-11']"
   ]
  },
  {
   "cell_type": "code",
   "execution_count": 122,
   "metadata": {},
   "outputs": [],
   "source": [
    "q=walkingdataUK_TS.get('2020-05-13')-walkingdataUK_TS.get('2020-05-10')*(2/3)+walkingdataUK_TS.get('2020-05-10')\n",
    "walkingdataUK_TS['2020-05-12']=q"
   ]
  },
  {
   "cell_type": "code",
   "execution_count": 111,
   "metadata": {},
   "outputs": [],
   "source": [
    "walkingdataUK_TS.get('2020-05-10')\n",
    "#+(2/3)*(walkingdataUK_TS.get('2020-05-13')-walkingdataUK_TS.get('2020-05-10'))\n",
    "walkingdataUK_TS.get('2020-05-13')-walkingdataUK_TS.get('2020-05-10')*(2/3)+walkingdataUK_TS.get('2020-05-10')"
   ]
  },
  {
   "cell_type": "code",
   "execution_count": 87,
   "metadata": {},
   "outputs": [],
   "source": [
    "walkingdataUK_TS.get('2020-05-10')"
   ]
  },
  {
   "cell_type": "code",
   "execution_count": 92,
   "metadata": {},
   "outputs": [],
   "source": [
    "walkingdataUK_TS['2020-05-11']=7"
   ]
  },
  {
   "cell_type": "code",
   "execution_count": 93,
   "metadata": {},
   "outputs": [],
   "source": [
    "walkingdataUK_TS['2020-05-11']"
   ]
  },
  {
   "cell_type": "code",
   "execution_count": null,
   "metadata": {},
   "outputs": [],
   "source": []
  }
 ],
 "metadata": {
  "kernelspec": {
   "display_name": "Python 3",
   "language": "python",
   "name": "python3"
  },
  "language_info": {
   "codemirror_mode": {
    "name": "ipython",
    "version": 3
   },
   "file_extension": ".py",
   "mimetype": "text/x-python",
   "name": "python",
   "nbconvert_exporter": "python",
   "pygments_lexer": "ipython3",
   "version": "3.7.6"
  }
 },
 "nbformat": 4,
 "nbformat_minor": 4
}
