{
 "cells": [
  {
   "cell_type": "markdown",
   "metadata": {},
   "source": [
    "# Set up:\n",
    "1) Modules\n",
    "2) Credentials & keys for Trello and Google Sheets\n",
    "3) Load Trello board\n",
    "4) Configure pandas output"
   ]
  },
  {
   "cell_type": "code",
   "execution_count": null,
   "metadata": {},
   "outputs": [],
   "source": []
  },
  {
   "cell_type": "code",
   "execution_count": 1,
   "metadata": {},
   "outputs": [],
   "source": [
    "# Set up modules\n",
    "import pandas as pd\n",
    "import sys\n",
    "import requests\n",
    "from xlsxwriter.utility import xl_rowcol_to_cell\n",
    "sys.path.append(r'/home/jupyter/reusable_code')\n",
    "import google_api_functions as gaf\n",
    "import trello_generic as tg\n",
    "import sqlite3\n",
    "from google.cloud import bigquery # To run BQ statements\n",
    "import re\n",
    "# Set up SQL DB\n",
    "conn = sqlite3.connect('SQL_connection1.db') #Create a connection object\n",
    "\n",
    "# Set up credentials for Trello and Google \n",
    "\n",
    "# Google Sheets Credentials\n",
    "creds=gaf.Authenticate_Google(r'/home/jupyter/reusable_code/') # Return logged-in credentials\n",
    "\n",
    "# General setup and credentials: Trello\n",
    "from trello import TrelloClient\n",
    "trelloUserCreds=tg.readTrelloCredsFromFile(r'/home/jupyter/reusable_code/trellocreds.pickle')\n",
    "mykey,mysecret,mytoken=trelloUserCreds\n",
    "\n",
    "client = TrelloClient(api_key=mykey,api_secret=mysecret,token=mytoken)\n",
    "\n",
    "# Return Trello board, client and other credentials objects. \"myboard_creds\" is a tuple of items which can be unpacked\n",
    "# to cover off all of the various levels you might need access at\n",
    "dataBoard,dataBoard_id,dataBoard_creds=tg.Return_board_by_name(mykey,mysecret,mytoken,\"Data 2021\")\n",
    "researchBoard,researchBoard_id,researchBoard_creds=tg.Return_board_by_name(mykey,mysecret,mytoken,\"Research 2021\")\n",
    "#oldBoard,oldBoard_id,oldBoard_creds=tg.Return_board_by_name(mykey,mysecret,mytoken,\"Insights & Data\")\n",
    "pd.set_option('display.max_rows', 50)\n",
    "pd.set_option('display.max_columns', 500)"
   ]
  },
  {
   "cell_type": "markdown",
   "metadata": {},
   "source": [
    "# Read Trello board into a DataFrame"
   ]
  },
  {
   "cell_type": "code",
   "execution_count": 2,
   "metadata": {},
   "outputs": [],
   "source": [
    "dataCard_df,dataCard_list=tg.cards_to_dataframe(dataBoard_creds,checklist_options=None\\\n",
    "                           ,labels_as_binary_flags=True, label_colours=True,comment_names=False,get_attachments=True #)\n",
    "                                               ,card_number_cutoff=10, lists_to_exclude=['Template(s)','Ideation','Completed','No longer required'])"
   ]
  },
  {
   "cell_type": "code",
   "execution_count": 3,
   "metadata": {},
   "outputs": [],
   "source": [
    "dataCard_list"
   ]
  },
  {
   "cell_type": "markdown",
   "metadata": {},
   "source": [
    "# Turn \"New Insight Brief(s)\" into proper cards"
   ]
  },
  {
   "cell_type": "code",
   "execution_count": null,
   "metadata": {
    "jupyter": {
     "source_hidden": true
    }
   },
   "outputs": [],
   "source": [
    "def monthToNum(shortMonth):\n",
    "    return {\n",
    "            'Jan' : '01',\n",
    "            'Feb' : '02',\n",
    "            'Mar' : '03',\n",
    "            'Apr' : '04',\n",
    "            'May' : '05',\n",
    "            'Jun' : '06',\n",
    "            'Jul' : '07',\n",
    "            'Aug' : '08',\n",
    "            'Sep' : '09', \n",
    "            'Oct' : '10',\n",
    "            'Nov' : '11',\n",
    "            'Dec' : '12'\n",
    "    }[shortMonth]\n",
    "\n",
    "\n",
    "def Process_New_Insight_Briefs():\n",
    "    MonthLookup={}\n",
    "    \n",
    "    New_briefs=[i for i in dataCard_list if i['Name']=='New Insight Brief' and i['List'] in ['New Projects (need prioritisation)','Backlog', 'Prioritised','In Progress']]\n",
    "    \n",
    "    for i in New_briefs:\n",
    "            CardInfo=re.split('Sent via Google Form Notifications',i['Description'])[0] # Take the bit before the generic email signature\n",
    "            print(CardInfo)\n",
    "            \n",
    "            #############################\n",
    "            # Reset card name\n",
    "            #############################\n",
    "            i['Card Object'].set_name(re.search('\\*Project Name\\*: \\*(.*)\\*',CardInfo)[1])\n",
    "\n",
    "            #############################\n",
    "            # Set Due Date            \n",
    "            #############################\n",
    "            DeadlineInfo=re.search('\\*Needed by: \\*(.*)',CardInfo)[1]\n",
    "            \n",
    "            try:\n",
    "                DueDate=datetime.strptime(DeadlineInfo[:12], '%b %d, %Y')\n",
    "                i['Card Object'].set_due(DueDate)\n",
    "            except:\n",
    "                pass\n",
    "            \n",
    "            #############################\n",
    "            # Set labels for team        \n",
    "            #############################\n",
    "            try:\n",
    "                Team=re.search('\\*Submitted by\\*: .* in the (.+) team',CardInfo)[1]\n",
    "                try:\n",
    "                    LabelObject=[i for i in labellist if i.name==Team][0]\n",
    "                    i['Card Object'].add_label(LabelObject)\n",
    "                except:\n",
    "                    print('Could not add label for team: \"{}\"'.format(Team))\n",
    "            except:\n",
    "                pass\n",
    "          \n",
    "                \n",
    "            #############################\n",
    "            # Set labels for priorities/ projects            \n",
    "            #############################\n",
    "            projects=re.findall('\\*Supports projects\\*: (.*)',CardInfo)\n",
    "            if len(projects)>0:\n",
    "                projectList=re.split('\\n',projects[0])\n",
    "                for project in projectList:\n",
    "                    try:\n",
    "                        LabelObject=[i for i in labellist if i.name==project][0]\n",
    "                        i['Card Object'].add_label(LabelObject)\n",
    "                    except:\n",
    "                        print('Could not add label for project: \"{}\"'.format(project))\n",
    "    \n",
    "            #############################\n",
    "            # Set custom field (type)\n",
    "            #############################\n",
    "            WorkType=re.search('\\*(.*) brief\\*',CardInfo)[1]\n",
    "            if WorkType=='No idea- you tell me':            # If unknown leave blank\n",
    "                pass\n",
    "            else:\n",
    "                try:\n",
    "                    tg.Update_custom_field(dataBoard_creds,i['Trello ID'],'Type',WorkType)\n",
    "                except:\n",
    "                    print('Could not update Type field with value: {}'.format(WorkType))\n",
    "            \n",
    "            #############################\n",
    "            # Set custom field (Blocker) \n",
    "            try:\n",
    "                Blockerinfo= re.search('\\*Blocker: \\*(.*)? which should be resolved by',CardInfo)[1]\n",
    "                tg.Update_custom_field(dataBoard_creds,i['Trello ID'],'Blockers/ Dependencies 1',Blockerinfo)\n",
    "            except:\n",
    "                pass\n",
    "            \n",
    "            # Set custom field (Blocker date) \n",
    "            try:\n",
    "                Blockerdatetext= re.search('\\*Blocker: \\*.* which should be resolved by (.+)',CardInfo)[1]\n",
    "                BlockerDate= '-'.join([Blockerdatetext[8:12],monthToNum(Blockerdatetext[0:3]),Blockerdatetext[4:6]])   \n",
    "                tg.Update_custom_field(dataBoard_creds,i['Trello ID'],'Blocker 1 Due Date',BlockerDate)\n",
    "            except:\n",
    "                pass\n",
    "            \n",
    "            # Redo description            \n",
    "            NewDesc=re.split('Project Detail',CardInfo)[1]+'\\n Submitted By: '\\\n",
    "            +re.search('\\*Submitted by\\*: (.*)@...',CardInfo)[1].replace('.',' ')\\\n",
    "            +'\\nRequired by: '+DeadlineInfo\n",
    "            i['Card Object'].set_description(NewDesc)\n",
    "            \n",
    "            # If research move to research board\n",
    "            if WorkType=='Research':\n",
    "                tg.MoveCard(i['Card Object'],'5fe35ef42dd5616a3e37bc12',mykey,mytoken,boardid=researchBoard_id)\n",
    "    \n",
    "    return New_briefs\n",
    "   "
   ]
  },
  {
   "cell_type": "code",
   "execution_count": null,
   "metadata": {},
   "outputs": [],
   "source": [
    "briefs=Process_New_Insight_Briefs()"
   ]
  },
  {
   "cell_type": "code",
   "execution_count": null,
   "metadata": {},
   "outputs": [],
   "source": [
    "# Reimport\n",
    "dataCard_df,dataCard_list=tg.cards_to_dataframe(dataBoard_creds,checklist_options=None\\\n",
    "                           ,labels_as_binary_flags=True, label_colours=False,comment_names=False,get_attachments=True #)\n",
    "                                               ,card_number_cutoff=10000)"
   ]
  },
  {
   "cell_type": "markdown",
   "metadata": {},
   "source": [
    "## Copy to BigQuery"
   ]
  },
  {
   "cell_type": "code",
   "execution_count": 12,
   "metadata": {},
   "outputs": [],
   "source": [
    "creds=gaf.Authenticate_Google(r'/home/jupyter/reusable_code/')\n",
    "bq = bigquery.Client(project='itv-bde-analytics-dev',credentials=creds)\n",
    "dataset=bq.dataset('britbox_sandbox')\n",
    "table_ref = dataset.table(\"SW_Data_Workstack\")"
   ]
  },
  {
   "cell_type": "code",
   "execution_count": 13,
   "metadata": {},
   "outputs": [],
   "source": [
    "# Create a copy for amending then loading into BQ\n",
    "df_for_bq=dataCard_df.copy()\n",
    "\n",
    "# Most of the columns are \"object\" type, which holds mixed types. Explicitly make dates as such else it'll break load as it expects a \"bytes\" type then finds a datetime\n",
    "df_for_bq['Due Date'] = pd.to_datetime(df_for_bq['Due Date'].astype(str))\n",
    "df_for_bq['Card Created Date'] = pd.to_datetime(df_for_bq['Card Created Date'].astype(str))\n",
    "df_for_bq['Hard Deadline'] = pd.to_datetime(df_for_bq['Hard Deadline'].astype(str))\n",
    "df_for_bq['Blocker 1 Due Date'] = pd.to_datetime(df_for_bq['Blocker 1 Due Date'].astype(str))\n",
    "\n",
    "# Struggles to identify and load array of STRUCTs with different datatypes, so just don't for now\n",
    "\n",
    "df_for_bq=df_for_bq.drop(columns=['listMovementHistory', 'listMovementSummary'])\n",
    "\n",
    "\n",
    "# Remove characters that you can't have in a BQ variable name\n",
    "newcol_names={x:x.replace(\" \", \"_\").replace(\"/\",\"\").replace(\"?\",\"\").replace(\"-\",\"\").replace(\"&\",\"\") for x in df_for_bq.columns}\n",
    "df_for_bq=df_for_bq.rename(columns=newcol_names)\n",
    "\n",
    "#Remove blank column names which might arise from blank labels on the board\n",
    "df_col=[i for i in df_for_bq.columns if len(i)>0] \n",
    "df_for_bq=df_for_bq[df_col]"
   ]
  },
  {
   "cell_type": "code",
   "execution_count": 14,
   "metadata": {},
   "outputs": [],
   "source": [
    "df_for_bq.head()"
   ]
  },
  {
   "cell_type": "code",
   "execution_count": 15,
   "metadata": {},
   "outputs": [],
   "source": [
    "try:\n",
    "    bq.delete_table(table_ref)\n",
    "except:\n",
    "    pass\n",
    "job = bq.load_table_from_dataframe(df_for_bq, table_ref)\n",
    "\n",
    "job.result()  # Waits for table load to complete.\n",
    "print(\"Loaded dataframe to {}\".format(table_ref.path))"
   ]
  },
  {
   "cell_type": "code",
   "execution_count": null,
   "metadata": {},
   "outputs": [],
   "source": [
    "df_for_bq.columns"
   ]
  },
  {
   "cell_type": "markdown",
   "metadata": {},
   "source": [
    "# Tidy up DataFrame to include only the records and columns of interest"
   ]
  },
  {
   "cell_type": "code",
   "execution_count": null,
   "metadata": {},
   "outputs": [],
   "source": [
    "query=\"\"\"\n",
    "create or replace table `itv-bde-analytics-dev.britbox_sandbox.SW_Data_Workstack1` as\n",
    "with x  as (select \n",
    "Name\n",
    ",Description\n",
    ",List\n",
    ",Due_Date\n",
    ",Trello_ID\n",
    ",Trello_URL\n",
    ",Card_Created_Date\n",
    ",Comments\n",
    ",Trello_attachments\n",
    ",Other_attachments\n",
    ",Blocker_1_Due_Date\n",
    ",Supported_by\n",
    ",Ad_hoc\n",
    ",Assigned_to\n",
    ",Blockers_Dependencies_1\n",
    ",Type\n",
    ",Subtype\n",
    ",Blockers_Dependencies_2\n",
    ",Project_Brief_Location\n",
    ",Paused_or_Blocked\n",
    ",Mark_for_Deletion\n",
    ",Hard_Deadline\n",
    ",EPIC\n",
    ",isEPIC\n",
    ",split(Labels,'|') as labels1\n",
    "from `itv-bde-analytics-dev.britbox_sandbox.SW_Data_Workstack`\n",
    "where list not in ('Template(s)','No longer required')\n",
    ")\n",
    "\n",
    "select x.* except (labels1)\n",
    ", array_agg(case when trim(split(labels2,':')[safe_offset(1)])='green' then \n",
    "trim(split(labels2,':')[safe_offset(0)]) end ignore nulls) as Teams\n",
    ", array_agg(case when trim(split(labels2,':')[safe_offset(1)])='yellow' then \n",
    "trim(split(labels2,':')[safe_offset(0)]) end ignore nulls) as Priorities\n",
    ", array_agg(case when trim(split(labels2,':')[safe_offset(1)])='blue' then \n",
    "trim(split(labels2,':')[safe_offset(0)]) end ignore nulls) as TeamObjectives\n",
    "from x\n",
    "cross join unnest (labels1) as labels2\n",
    "group by 1,2,3,4,5,6,7,8,9,10\n",
    ",11,12,13,14,15,16,17,18,19,20,21,22,23,24\n",
    ";\"\"\"\n",
    "df = bq.query(query).to_dataframe()"
   ]
  },
  {
   "cell_type": "markdown",
   "metadata": {},
   "source": [
    "### Post-prioritisation session admin"
   ]
  },
  {
   "cell_type": "markdown",
   "metadata": {},
   "source": [
    "##### Move all cards from New to Backog"
   ]
  },
  {
   "cell_type": "code",
   "execution_count": null,
   "metadata": {},
   "outputs": [],
   "source": [
    "\n",
    "from_list=[i for i in dataBoard.list_lists() if i.name=='New Projects (need prioritisation)'][0]\n",
    "to_list=[i for i in dataBoard.list_lists() if i.name=='Backlog'][0]\n",
    "from_list.move_all_cards(to_list)   "
   ]
  },
  {
   "cell_type": "markdown",
   "metadata": {},
   "source": [
    "##### Move all cards from Recently Completed to Completed"
   ]
  },
  {
   "cell_type": "code",
   "execution_count": null,
   "metadata": {},
   "outputs": [],
   "source": [
    "\n",
    "from_list=[i for i in dataBoard.list_lists() if i.name=='Recently Completed'][0]\n",
    "to_list=[i for i in dataBoard.list_lists() if i.name=='Completed'][0]\n",
    "from_list.move_all_cards(to_list)   "
   ]
  },
  {
   "cell_type": "code",
   "execution_count": null,
   "metadata": {},
   "outputs": [],
   "source": []
  },
  {
   "cell_type": "code",
   "execution_count": null,
   "metadata": {},
   "outputs": [],
   "source": []
  },
  {
   "cell_type": "code",
   "execution_count": null,
   "metadata": {},
   "outputs": [],
   "source": []
  },
  {
   "cell_type": "code",
   "execution_count": null,
   "metadata": {},
   "outputs": [],
   "source": []
  },
  {
   "cell_type": "code",
   "execution_count": null,
   "metadata": {},
   "outputs": [],
   "source": []
  },
  {
   "cell_type": "code",
   "execution_count": null,
   "metadata": {},
   "outputs": [],
   "source": []
  },
  {
   "cell_type": "code",
   "execution_count": null,
   "metadata": {},
   "outputs": [],
   "source": []
  }
 ],
 "metadata": {
  "kernelspec": {
   "display_name": "Python 3",
   "language": "python",
   "name": "python3"
  },
  "language_info": {
   "codemirror_mode": {
    "name": "ipython",
    "version": 3
   },
   "file_extension": ".py",
   "mimetype": "text/x-python",
   "name": "python",
   "nbconvert_exporter": "python",
   "pygments_lexer": "ipython3",
   "version": "3.7.6"
  }
 },
 "nbformat": 4,
 "nbformat_minor": 4
}
