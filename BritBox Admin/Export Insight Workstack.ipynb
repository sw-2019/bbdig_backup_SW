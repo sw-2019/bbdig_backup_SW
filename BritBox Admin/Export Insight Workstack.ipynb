{
 "cells": [
  {
   "cell_type": "markdown",
   "metadata": {},
   "source": [
    "# Set up:\n",
    "1) Modules\n",
    "2) Credentials & keys for Trello and Google Sheets\n",
    "3) Load Trello board\n",
    "4) Configure pandas output"
   ]
  },
  {
   "cell_type": "code",
   "execution_count": null,
   "metadata": {},
   "outputs": [],
   "source": []
  },
  {
   "cell_type": "code",
   "execution_count": 96,
   "metadata": {},
   "outputs": [],
   "source": [
    "# Set up modules\n",
    "import pandas as pd\n",
    "import sys\n",
    "import requests\n",
    "from xlsxwriter.utility import xl_rowcol_to_cell\n",
    "sys.path.append(r'/home/jupyter/reusable_code')\n",
    "import google_api_functions as gaf\n",
    "import trello_generic as tg\n",
    "import sqlite3\n",
    "from google.cloud import bigquery # To run BQ statements\n",
    "import re\n",
    "# Set up SQL DB\n",
    "conn = sqlite3.connect('SQL_connection1.db') #Create a connection object\n",
    "\n",
    "# Set up credentials for Trello and Google \n",
    "\n",
    "# Google Sheets Credentials\n",
    "creds=gaf.Authenticate_Google(r'/home/jupyter/reusable_code/') # Return logged-in credentials\n",
    "\n",
    "# General setup and credentials: Trello\n",
    "from trello import TrelloClient\n",
    "trelloUserCreds=tg.readTrelloCredsFromFile(r'/home/jupyter/reusable_code/trellocreds.pickle')\n",
    "mykey,mysecret,mytoken=trelloUserCreds\n",
    "\n",
    "client = TrelloClient(api_key=mykey,api_secret=mysecret,token=mytoken)\n",
    "\n",
    "# Return Trello board, client and other credentials objects. \"myboard_creds\" is a tuple of items which can be unpacked\n",
    "# to cover off all of the various levels you might need access at\n",
    "dataBoard,dataBoard_id,dataBoard_creds=tg.Return_board_by_name(mykey,mysecret,mytoken,\"Data 2021\")\n",
    "researchBoard,researchBoard_id,researchBoard_creds=tg.Return_board_by_name(mykey,mysecret,mytoken,\"Research 2021\")\n",
    "#oldBoard,oldBoard_id,oldBoard_creds=tg.Return_board_by_name(mykey,mysecret,mytoken,\"Insights & Data\")\n",
    "pd.set_option('display.max_rows', 50)\n",
    "pd.set_option('display.max_columns', 500)"
   ]
  },
  {
   "cell_type": "markdown",
   "metadata": {},
   "source": [
    "# Read Trello board into a DataFrame"
   ]
  },
  {
   "cell_type": "code",
   "execution_count": 97,
   "metadata": {},
   "outputs": [],
   "source": [
    "dataCard_df,dataCard_list=tg.cards_to_dataframe(dataBoard_creds,checklist_options=None\\\n",
    "                           ,labels_as_binary_flags=True, label_colours=True,comment_names=False,get_attachments=True #)\n",
    "                                               ,card_number_cutoff=10000)"
   ]
  },
  {
   "cell_type": "code",
   "execution_count": 98,
   "metadata": {},
   "outputs": [],
   "source": [
    "dataCard_list[10]"
   ]
  },
  {
   "cell_type": "markdown",
   "metadata": {},
   "source": [
    "# Turn \"New Insight Brief(s)\" into proper cards"
   ]
  },
  {
   "cell_type": "code",
   "execution_count": 55,
   "metadata": {
    "jupyter": {
     "source_hidden": true
    }
   },
   "outputs": [],
   "source": [
    "def monthToNum(shortMonth):\n",
    "    return {\n",
    "            'Jan' : '01',\n",
    "            'Feb' : '02',\n",
    "            'Mar' : '03',\n",
    "            'Apr' : '04',\n",
    "            'May' : '05',\n",
    "            'Jun' : '06',\n",
    "            'Jul' : '07',\n",
    "            'Aug' : '08',\n",
    "            'Sep' : '09', \n",
    "            'Oct' : '10',\n",
    "            'Nov' : '11',\n",
    "            'Dec' : '12'\n",
    "    }[shortMonth]\n",
    "\n",
    "\n",
    "def Process_New_Insight_Briefs():\n",
    "    MonthLookup={}\n",
    "    \n",
    "    New_briefs=[i for i in dataCard_list if i['Name']=='New Insight Brief' and i['List'] in ['New Projects (need prioritisation)','Backlog', 'Prioritised','In Progress']]\n",
    "    \n",
    "    for i in New_briefs:\n",
    "            CardInfo=re.split('Sent via Google Form Notifications',i['Description'])[0] # Take the bit before the generic email signature\n",
    "            print(CardInfo)\n",
    "            \n",
    "            #############################\n",
    "            # Reset card name\n",
    "            #############################\n",
    "            i['Card Object'].set_name(re.search('\\*Project Name\\*: \\*(.*)\\*',CardInfo)[1])\n",
    "\n",
    "            #############################\n",
    "            # Set Due Date            \n",
    "            #############################\n",
    "            DeadlineInfo=re.search('\\*Needed by: \\*(.*)',CardInfo)[1]\n",
    "            \n",
    "            try:\n",
    "                DueDate=datetime.strptime(DeadlineInfo[:12], '%b %d, %Y')\n",
    "                i['Card Object'].set_due(DueDate)\n",
    "            except:\n",
    "                pass\n",
    "            \n",
    "            #############################\n",
    "            # Set labels for team        \n",
    "            #############################\n",
    "            try:\n",
    "                Team=re.search('\\*Submitted by\\*: .* in the (.+) team',CardInfo)[1]\n",
    "                try:\n",
    "                    LabelObject=[i for i in labellist if i.name==Team][0]\n",
    "                    i['Card Object'].add_label(LabelObject)\n",
    "                except:\n",
    "                    print('Could not add label for team: \"{}\"'.format(Team))\n",
    "            except:\n",
    "                pass\n",
    "          \n",
    "                \n",
    "            #############################\n",
    "            # Set labels for priorities/ projects            \n",
    "            #############################\n",
    "            projects=re.findall('\\*Supports projects\\*: (.*)',CardInfo)\n",
    "            if len(projects)>0:\n",
    "                projectList=re.split('\\n',projects[0])\n",
    "                for project in projectList:\n",
    "                    try:\n",
    "                        LabelObject=[i for i in labellist if i.name==project][0]\n",
    "                        i['Card Object'].add_label(LabelObject)\n",
    "                    except:\n",
    "                        print('Could not add label for project: \"{}\"'.format(project))\n",
    "    \n",
    "            #############################\n",
    "            # Set custom field (type)\n",
    "            #############################\n",
    "            WorkType=re.search('\\*(.*) brief\\*',CardInfo)[1]\n",
    "            if WorkType=='No idea- you tell me':            # If unknown leave blank\n",
    "                pass\n",
    "            else:\n",
    "                try:\n",
    "                    tg.Update_custom_field(dataBoard_creds,i['Trello ID'],'Type',WorkType)\n",
    "                except:\n",
    "                    print('Could not update Type field with value: {}'.format(WorkType))\n",
    "            \n",
    "            #############################\n",
    "            # Set custom field (Blocker) \n",
    "            try:\n",
    "                Blockerinfo= re.search('\\*Blocker: \\*(.*)? which should be resolved by',CardInfo)[1]\n",
    "                tg.Update_custom_field(dataBoard_creds,i['Trello ID'],'Blockers/ Dependencies 1',Blockerinfo)\n",
    "            except:\n",
    "                pass\n",
    "            \n",
    "            # Set custom field (Blocker date) \n",
    "            try:\n",
    "                Blockerdatetext= re.search('\\*Blocker: \\*.* which should be resolved by (.+)',CardInfo)[1]\n",
    "                BlockerDate= '-'.join([Blockerdatetext[8:12],monthToNum(Blockerdatetext[0:3]),Blockerdatetext[4:6]])   \n",
    "                tg.Update_custom_field(dataBoard_creds,i['Trello ID'],'Blocker 1 Due Date',BlockerDate)\n",
    "            except:\n",
    "                pass\n",
    "            \n",
    "            # Redo description            \n",
    "            NewDesc=re.split('Project Detail',CardInfo)[1]+'\\n Submitted By: '\\\n",
    "            +re.search('\\*Submitted by\\*: (.*)@...',CardInfo)[1].replace('.',' ')\\\n",
    "            +'\\nRequired by: '+DeadlineInfo\n",
    "            i['Card Object'].set_description(NewDesc)\n",
    "            \n",
    "            # If research move to research board\n",
    "            if WorkType=='Research':\n",
    "                tg.MoveCard(i['Card Object'],'5fe35ef42dd5616a3e37bc12',mykey,mytoken,boardid=researchBoard_id)\n",
    "    \n",
    "    return New_briefs\n",
    "   "
   ]
  },
  {
   "cell_type": "code",
   "execution_count": 94,
   "metadata": {},
   "outputs": [],
   "source": [
    "briefs=Process_New_Insight_Briefs()"
   ]
  },
  {
   "cell_type": "code",
   "execution_count": 95,
   "metadata": {},
   "outputs": [],
   "source": [
    "# Reimport\n",
    "dataCard_df,dataCard_list=tg.cards_to_dataframe(dataBoard_creds,checklist_options=None\\\n",
    "                           ,labels_as_binary_flags=True, label_colours=False,comment_names=False,get_attachments=True #)\n",
    "                                               ,card_number_cutoff=10000)"
   ]
  },
  {
   "cell_type": "markdown",
   "metadata": {},
   "source": [
    "## Copy to BigQuery"
   ]
  },
  {
   "cell_type": "code",
   "execution_count": 99,
   "metadata": {},
   "outputs": [],
   "source": [
    "creds=gaf.Authenticate_Google(r'/home/jupyter/reusable_code/')\n",
    "bq = bigquery.Client(project='itv-bde-analytics-dev',credentials=creds)\n",
    "dataset=bq.dataset('britbox_sandbox')"
   ]
  },
  {
   "cell_type": "code",
   "execution_count": 100,
   "metadata": {},
   "outputs": [],
   "source": [
    "table_ref = dataset.table(\"SW_Data_Workstack\")\n",
    "table_ref"
   ]
  },
  {
   "cell_type": "code",
   "execution_count": 101,
   "metadata": {},
   "outputs": [],
   "source": [
    "df_for_bq=dataCard_df.copy()"
   ]
  },
  {
   "cell_type": "code",
   "execution_count": 102,
   "metadata": {},
   "outputs": [],
   "source": [
    "# Most of the columns are \"object\" type, which holds mixed types. Explicitly make dates as such else it'll break load as it expects a \"bytes\" type then finds a datetime\n",
    "df_for_bq['Due Date'] = pd.to_datetime(df_for_bq['Due Date'].astype(str))\n",
    "df_for_bq['Card Created Date'] = pd.to_datetime(df_for_bq['Card Created Date'].astype(str))\n",
    "df_for_bq['Hard Deadline'] = pd.to_datetime(df_for_bq['Hard Deadline'].astype(str))\n",
    "df_for_bq['Blocker 1 Due Date'] = pd.to_datetime(df_for_bq['Blocker 1 Due Date'].astype(str))\n",
    "\n",
    "# Remove characters that you can't have in a BQ variable name\n",
    "newcol_names={x:x.replace(\" \", \"_\").replace(\"/\",\"\").replace(\"?\",\"\").replace(\"-\",\"\").replace(\"&\",\"\") for x in df_for_bq.columns}\n",
    "df_for_bq=df_for_bq.rename(columns=newcol_names)\n",
    "\n",
    "#Remove blank column names which might arise from blank labels on the board\n",
    "df_col=[i for i in df_for_bq.columns if len(i)>0] \n",
    "df_for_bq=df_for_bq[df_col]"
   ]
  },
  {
   "cell_type": "code",
   "execution_count": 103,
   "metadata": {},
   "outputs": [],
   "source": [
    "df_for_bq[df_for_bq['Marketing']==True]"
   ]
  },
  {
   "cell_type": "code",
   "execution_count": 104,
   "metadata": {},
   "outputs": [],
   "source": [
    "try:\n",
    "    bq.delete_table(table_ref)\n",
    "except:\n",
    "    pass\n",
    "job = bq.load_table_from_dataframe(df_for_bq, table_ref)\n",
    "\n",
    "job.result()  # Waits for table load to complete.\n",
    "print(\"Loaded dataframe to {}\".format(table_ref.path))"
   ]
  },
  {
   "cell_type": "code",
   "execution_count": 105,
   "metadata": {},
   "outputs": [],
   "source": [
    "df_for_bq.columns"
   ]
  },
  {
   "cell_type": "markdown",
   "metadata": {},
   "source": [
    "# Tidy up DataFrame to include only the records and columns of interest"
   ]
  },
  {
   "cell_type": "code",
   "execution_count": 106,
   "metadata": {},
   "outputs": [],
   "source": [
    "query=\"\"\"\n",
    "create or replace table `itv-bde-analytics-dev.britbox_sandbox.SW_Data_Workstack1` as\n",
    "with x  as (select \n",
    "Name\n",
    ",Description\n",
    ",List\n",
    ",Due_Date\n",
    ",Trello_ID\n",
    ",Trello_URL\n",
    ",Card_Created_Date\n",
    ",Comments\n",
    ",Trello_attachments\n",
    ",Other_attachments\n",
    ",Blocker_1_Due_Date\n",
    ",Supported_by\n",
    ",Ad_hoc\n",
    ",Assigned_to\n",
    ",Blockers_Dependencies_1\n",
    ",Type\n",
    ",Subtype\n",
    ",Blockers_Dependencies_2\n",
    ",Project_Brief_Location\n",
    ",Paused_or_Blocked\n",
    ",Mark_for_Deletion\n",
    ",Hard_Deadline\n",
    ",EPIC\n",
    ",isEPIC\n",
    ",split(Labels,'|') as labels1\n",
    "from `itv-bde-analytics-dev.britbox_sandbox.SW_Data_Workstack`\n",
    "where list not in ('Template(s)','No longer required')\n",
    ")\n",
    "\n",
    "select x.* except (labels1)\n",
    ", array_agg(case when trim(split(labels2,':')[safe_offset(1)])='green' then \n",
    "trim(split(labels2,':')[safe_offset(0)]) end ignore nulls) as Teams\n",
    ", array_agg(case when trim(split(labels2,':')[safe_offset(1)])='yellow' then \n",
    "trim(split(labels2,':')[safe_offset(0)]) end ignore nulls) as Priorities\n",
    ", array_agg(case when trim(split(labels2,':')[safe_offset(1)])='blue' then \n",
    "trim(split(labels2,':')[safe_offset(0)]) end ignore nulls) as TeamObjectives\n",
    "from x\n",
    "cross join unnest (labels1) as labels2\n",
    "group by 1,2,3,4,5,6,7,8,9,10\n",
    ",11,12,13,14,15,16,17,18,19,20,21,22,23,24\n",
    ";\"\"\"\n",
    "df = bq.query(query).to_dataframe()"
   ]
  },
  {
   "cell_type": "code",
   "execution_count": null,
   "metadata": {},
   "outputs": [],
   "source": []
  },
  {
   "cell_type": "code",
   "execution_count": null,
   "metadata": {},
   "outputs": [],
   "source": []
  },
  {
   "cell_type": "code",
   "execution_count": null,
   "metadata": {},
   "outputs": [],
   "source": []
  },
  {
   "cell_type": "code",
   "execution_count": null,
   "metadata": {},
   "outputs": [],
   "source": []
  },
  {
   "cell_type": "code",
   "execution_count": null,
   "metadata": {},
   "outputs": [],
   "source": []
  },
  {
   "cell_type": "code",
   "execution_count": null,
   "metadata": {},
   "outputs": [],
   "source": []
  },
  {
   "cell_type": "code",
   "execution_count": null,
   "metadata": {},
   "outputs": [],
   "source": []
  },
  {
   "cell_type": "code",
   "execution_count": null,
   "metadata": {},
   "outputs": [],
   "source": []
  },
  {
   "cell_type": "code",
   "execution_count": null,
   "metadata": {},
   "outputs": [],
   "source": []
  },
  {
   "cell_type": "code",
   "execution_count": null,
   "metadata": {},
   "outputs": [],
   "source": []
  },
  {
   "cell_type": "code",
   "execution_count": 90,
   "metadata": {},
   "outputs": [],
   "source": [
    "df.shape"
   ]
  },
  {
   "cell_type": "code",
   "execution_count": 91,
   "metadata": {},
   "outputs": [],
   "source": [
    "pd.DataFrame([x.name for x in dataBoard.get_labels()]).to_sql('Stakeholders',con=conn)"
   ]
  },
  {
   "cell_type": "code",
   "execution_count": null,
   "metadata": {},
   "outputs": [],
   "source": []
  },
  {
   "cell_type": "code",
   "execution_count": null,
   "metadata": {},
   "outputs": [],
   "source": [
    "pd.read_sql_query('''select \"0\" from Stakeholders''',conn)"
   ]
  },
  {
   "cell_type": "code",
   "execution_count": null,
   "metadata": {},
   "outputs": [],
   "source": [
    "query=\"\"\" \n",
    "select \n",
    "Name as Task\n",
    ", Type\n",
    ", Subtype\n",
    ", Description\n",
    ", project_brief_location as Brief\n",
    ", List as status\n",
    ",assigned_to\n",
    ",supported_by\n",
    ", trello_id\n",
    ", trello_url\n",
    ",planned_start_date\n",
    ",expected_completion_date\n",
    ",hard_deadline\n",
    ", case when expected_completion_date is not null and hard_deadline is not null \n",
    "and hard_deadline<expected_completion_date then 'Late' \n",
    "when hard_deadline<>current_timestamp() then 'Late'\n",
    "else 'On track' end as Late_flag\n",
    ",Blockers_Dependencies_1\n",
    ",Blockers_Dependencies_2\n",
    ", Ad_hoc\n",
    ", Labels as Stakeholders\n",
    ",Card_Created_Date\n",
    ",Other_attachments\n",
    "\n",
    ",Agency_Tool\n",
    ",Budget_Source\n",
    ",Cost_Budget\n",
    "from \n",
    "`itv-bde-analytics-dev.britbox_sandbox.SW_Insight_Workstack`\n",
    "where list not in ('Completed','Meta Projects','No longer required',\"Admin, Procurements & Governance Backlog\")\n",
    "and name not in ('Analysis Template','Reporting Template','Research Template')\n",
    "\"\"\"\n",
    "Mynewtable = bq.query(query).to_dataframe()\n",
    "\n",
    "# Revert the names back into user-friendly ones\n",
    "newcol_names={x:x.replace(\"_\", \" \").title() for x in Mynewtable.columns}\n",
    "Mynewtable=Mynewtable.rename(columns=newcol_names)\n",
    "Mynewtable"
   ]
  },
  {
   "cell_type": "markdown",
   "metadata": {},
   "source": [
    "# Export DataFrame to Google Sheets"
   ]
  },
  {
   "cell_type": "code",
   "execution_count": null,
   "metadata": {},
   "outputs": [],
   "source": [
    "\n",
    "# Write catalogue to google sheet 'BritBox content catalogue- Cleaned'\n",
    "gaf.Write_whole_df_to_gsheet(creds,Mynewtable,spreadsheetId='1DZRe7PLCU1tAy9OctY0QAfNjFns9_3ZiglsMpiUXf8Q'\\\n",
    "                              ,Sheetname='All Outstanding Projects'\\\n",
    "                        ,valueInputOption='RAW')"
   ]
  },
  {
   "cell_type": "markdown",
   "metadata": {},
   "source": [
    "# Loop each stakeholder and produce a filtered view"
   ]
  },
  {
   "cell_type": "code",
   "execution_count": null,
   "metadata": {},
   "outputs": [],
   "source": [
    "\n",
    "for x in [\"Exec\"\\\n",
    ",\"Marketing\"\\\n",
    ",\"Editorial\"\\\n",
    ",\"Product\"\\\n",
    ",\"Commercial/ Strategy\"\\\n",
    ",\"Finance\"\\\n",
    ",\"Legal\"\\\n",
    ",\"Tech\"\\\n",
    ",\"Data Development/ Team Capability\"]:\n",
    "\n",
    "\n",
    "    Stakeholder_tab = bq.query(query+'''and {}=True'''.format(x.replace(\" \", \"_\").replace(\"/\",\"\").replace(\"?\",\"\").replace(\"-\",\"\"))).to_dataframe()\n",
    "    newcol_names={x:x.replace(\"_\", \" \").title() for x in Stakeholder_tab.columns}\n",
    "    # Revert the names back into user-friendly ones\n",
    "    Stakeholder_tab=Stakeholder_tab.rename(columns=newcol_names)\n",
    "    \n",
    "    gaf.Write_whole_df_to_gsheet(creds,Stakeholder_tab,spreadsheetId='1DZRe7PLCU1tAy9OctY0QAfNjFns9_3ZiglsMpiUXf8Q'\\\n",
    "                              ,Sheetname='{} Tasks'.format(x)\\\n",
    "                        ,valueInputOption='RAW')\n"
   ]
  },
  {
   "cell_type": "markdown",
   "metadata": {},
   "source": [
    "# Summary statistics\n",
    "BELOW HERE IS OLD (NON GCP) CODE"
   ]
  },
  {
   "cell_type": "markdown",
   "metadata": {},
   "source": [
    "### Budget used"
   ]
  },
  {
   "cell_type": "code",
   "execution_count": null,
   "metadata": {},
   "outputs": [],
   "source": [
    "pd.read_sql_query('''select distinct list,name,\"Budget Source\",\"Cost/ Budget\",\"Agency/ Tool\" from Weekly_workstack \n",
    "where \"Budget Source\" is not null\n",
    "or \"Cost/ Budget\" is not null\n",
    "''',conn)"
   ]
  },
  {
   "cell_type": "markdown",
   "metadata": {},
   "source": [
    "### Workstack distribution by team"
   ]
  },
  {
   "cell_type": "code",
   "execution_count": null,
   "metadata": {},
   "outputs": [],
   "source": [
    "stakeholders=[x.name for x in myboard.get_labels()]\n"
   ]
  },
  {
   "cell_type": "code",
   "execution_count": null,
   "metadata": {},
   "outputs": [],
   "source": [
    "query=conn.cursor()\n",
    "try:\n",
    "    query.execute('''drop table Summary_by_team''')\n",
    "except:\n",
    "    pass\n",
    "query.execute('''create table Summary_by_team (team String, type String,Completed Numeric, ToDo Numeric, Total Numeric,\n",
    "Completed_ex_adhoc numeric, todo_ex_adhoc numeric, total_ex_adhoc numeric\n",
    ")''')    \n",
    "for x in stakeholders:\n",
    "    query.execute('''insert into Summary_by_team \n",
    "                        select '{}', type\n",
    "                        ,count(case when List='Completed' then 1 end),\n",
    "                        count(case when List not in ('Completed','No longer required','Meta Projects') then 1 end),\n",
    "                        count(case when List not in ('No longer required','Meta Projects') then 1 end)\n",
    "                        ,count(case when List='Completed' and ifnull(\"Ad hoc?\",0)=0 then 1 end),\n",
    "                        count(case when List not in ('Completed','No longer required','Meta Projects')  \n",
    "                        and ifnull(\"Ad hoc?\",0)=0 then 1 end),\n",
    "                        count(case when List not in ('No longer required','Meta Projects')  \n",
    "                        and ifnull(\"Ad hoc?\",0)=0 then 1 end)\n",
    "                        \n",
    "                        from Weekly_workstack\n",
    "                        where \"{}\"=1 \n",
    "                        group by 1,2\n",
    "        '''.format(x,x))            \n",
    "query.fetchall()\n",
    "query.close()"
   ]
  },
  {
   "cell_type": "code",
   "execution_count": null,
   "metadata": {},
   "outputs": [],
   "source": [
    "pd.read_sql_query('''select team,sum(completed) as completed, sum(todo) as todo from Summary_by_team\n",
    "group by 1 order by 2 desc''',conn)\\\n",
    ".plot(x='team',kind='bar')\n"
   ]
  },
  {
   "cell_type": "code",
   "execution_count": null,
   "metadata": {},
   "outputs": [],
   "source": [
    "#pd.read_sql_query('''select * from summary_by_team''',conn)"
   ]
  },
  {
   "cell_type": "code",
   "execution_count": null,
   "metadata": {},
   "outputs": [],
   "source": [
    "pd.read_sql_query('''select team,sum(Completed_ex_adhoc) as completed\n",
    ", sum(todo_ex_adhoc) as todo from Summary_by_team \n",
    "where type<>'Research' \n",
    "group by 1 order by 2 desc''',conn)\\\n",
    ".plot(x='team',kind='bar')"
   ]
  },
  {
   "cell_type": "code",
   "execution_count": null,
   "metadata": {},
   "outputs": [],
   "source": [
    "pd.read_sql_query('''select team,type,total from Summary_by_team order by Completed desc''',conn)\\\n",
    ".pivot(index='team', columns='type',values='Total')\\\n",
    ".plot(kind='bar',stacked=True)\n"
   ]
  },
  {
   "cell_type": "code",
   "execution_count": null,
   "metadata": {},
   "outputs": [],
   "source": [
    "pd.read_sql_query('''select team,type,ToDo from Summary_by_team order by Completed desc''',conn)\\\n",
    ".pivot(index='team', columns='type',values='ToDo')\\\n",
    ".plot(kind='bar',stacked=True)\n",
    "\n",
    "pd.read_sql_query('''select team,type,Completed from Summary_by_team order by Completed desc''',conn)\\\n",
    ".pivot(index='team', columns='type',values='Completed')\\\n",
    ".plot(kind='bar',stacked=True)\n"
   ]
  },
  {
   "cell_type": "code",
   "execution_count": null,
   "metadata": {},
   "outputs": [],
   "source": [
    "pd.read_sql_query('''select team,type,ToDo from Summary_by_team where type<>'Research' order by Completed desc''',conn)\\\n",
    ".pivot(index='team', columns='type',values='ToDo')\\\n",
    ".plot(kind='bar',stacked=True)\n",
    "\n",
    "pd.read_sql_query('''select team,type,Completed from Summary_by_team where type<>'Research' order by Completed desc''',conn)\\\n",
    ".pivot(index='team', columns='type',values='Completed')\\\n",
    ".plot(kind='bar',stacked=True)"
   ]
  },
  {
   "cell_type": "code",
   "execution_count": null,
   "metadata": {},
   "outputs": [],
   "source": [
    "pd.read_sql_query('''select Type, count(*) as N from Weekly_workstack \n",
    "where list='Completed'\n",
    "''',conn)"
   ]
  },
  {
   "cell_type": "code",
   "execution_count": null,
   "metadata": {},
   "outputs": [],
   "source": [
    "pd.read_sql_query('''select distinct list from Weekly_workstack''',conn)"
   ]
  },
  {
   "cell_type": "code",
   "execution_count": null,
   "metadata": {},
   "outputs": [],
   "source": [
    "Mynewtable"
   ]
  },
  {
   "cell_type": "code",
   "execution_count": null,
   "metadata": {},
   "outputs": [],
   "source": [
    "# 1) Silos >> Distinct areas where people can do\n",
    "# Resource>> Map to silos they can do, map to leave they have, map to speed of doing silo, map to % free time outside meetings, map to num swimlanes (parallel projects)\n",
    "# Schedule against swimlanes, where \n",
    "# "
   ]
  }
 ],
 "metadata": {
  "kernelspec": {
   "display_name": "Python 3",
   "language": "python",
   "name": "python3"
  },
  "language_info": {
   "codemirror_mode": {
    "name": "ipython",
    "version": 3
   },
   "file_extension": ".py",
   "mimetype": "text/x-python",
   "name": "python",
   "nbconvert_exporter": "python",
   "pygments_lexer": "ipython3",
   "version": "3.7.6"
  }
 },
 "nbformat": 4,
 "nbformat_minor": 4
}
