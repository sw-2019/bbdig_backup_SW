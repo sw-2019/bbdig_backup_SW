{
 "cells": [
  {
   "cell_type": "code",
   "execution_count": 1,
   "metadata": {},
   "outputs": [],
   "source": [
    "import Talent_Graph_from_Massive as tgm"
   ]
  },
  {
   "cell_type": "code",
   "execution_count": 2,
   "metadata": {},
   "outputs": [],
   "source": [
    "talent_graph=tgm.Refresh_Talent_Graph()\n",
    "G=talent_graph[0]\n",
    "#talent_nodes=all_graph[1]\n",
    "#show_nodes=all_graph[2]\n",
    "#edge=all_graph[3]"
   ]
  },
  {
   "cell_type": "code",
   "execution_count": 3,
   "metadata": {},
   "outputs": [],
   "source": [
    "# Filter to only show people in x% of shows?\n",
    "filtered_graph=tgm.filter_graph(talent_graph,0.7)"
   ]
  },
  {
   "cell_type": "code",
   "execution_count": 4,
   "metadata": {},
   "outputs": [],
   "source": [
    "#Show everything that person x has been in\n",
    "tgm.Show_all_shows_for_cast(talent_graph,'Julie Walters')"
   ]
  },
  {
   "cell_type": "code",
   "execution_count": 5,
   "metadata": {},
   "outputs": [],
   "source": [
    "#Show everything that person x has been in\n",
    "tgm.Show_all_shows_for_cast(filtered_graph,'Claire Foy')"
   ]
  },
  {
   "cell_type": "code",
   "execution_count": 6,
   "metadata": {
    "scrolled": true
   },
   "outputs": [],
   "source": [
    "# Show all programmes in common between Person A and Person B\n",
    "tgm.Shows_in_common(talent_graph,'David Jason', 'Nicholas Lyndhurst')\n"
   ]
  },
  {
   "cell_type": "code",
   "execution_count": 7,
   "metadata": {},
   "outputs": [],
   "source": [
    "tgm.Cast_of(talent_graph,'Only Fools and Horses')"
   ]
  },
  {
   "cell_type": "code",
   "execution_count": 8,
   "metadata": {},
   "outputs": [],
   "source": [
    "# Show everything that the stars of a show have been in\n",
    "tgm.Stars_of(talent_graph,'Downton Abbey')"
   ]
  },
  {
   "cell_type": "code",
   "execution_count": 9,
   "metadata": {},
   "outputs": [],
   "source": [
    "# Actors with most shows\n",
    "tgm.cast_in_most_titles(5,talent_graph)"
   ]
  },
  {
   "cell_type": "code",
   "execution_count": null,
   "metadata": {},
   "outputs": [],
   "source": [
    "# Shows with largest_cast\n",
    "tgm.shows_with_largest_cast(5,talent_graph)"
   ]
  },
  {
   "cell_type": "code",
   "execution_count": null,
   "metadata": {},
   "outputs": [],
   "source": [
    "talent_graph[1]"
   ]
  },
  {
   "cell_type": "code",
   "execution_count": null,
   "metadata": {},
   "outputs": [],
   "source": [
    "key_talent_list=['David Tennant','Sheridan Smith','Olivia Colman','Anna Friel','John Simm','Adrian Lester','David Jason',\\\n",
    "                'James Nesbitt']\n",
    "\n",
    "for n,i in enumerate(key_talent_list):\n",
    "    for m,j in enumerate(key_talent_list):\n",
    "        if m>n and i!=j:\n",
    "            tgm.Is_there_a_path_between(talent_graph,i,j)"
   ]
  },
  {
   "cell_type": "code",
   "execution_count": 5,
   "metadata": {},
   "outputs": [],
   "source": [
    "key_talent_list=['David Tennant','Sheridan Smith','Olivia Colman','Anna Friel','John Simm','Adrian Lester','David Jason',\\\n",
    "                'James Nesbitt', 'Katherine Kelly', 'Imelda Staunton']\n",
    "\n",
    "for n,i in enumerate(key_talent_list):\n",
    "    for m,j in enumerate(key_talent_list):\n",
    "        if m>n and i!=j:\n",
    "            tgm.paths_between(talent_graph,i,j)"
   ]
  },
  {
   "cell_type": "code",
   "execution_count": null,
   "metadata": {},
   "outputs": [],
   "source": [
    "for i in nx.ego_graph(talent_graph[0], 'David Tennant', radius=4, center=True, undirected=False, distance=None):\n",
    "    print(i)"
   ]
  },
  {
   "cell_type": "code",
   "execution_count": null,
   "metadata": {},
   "outputs": [],
   "source": [
    "# Verify the shortest length between two actors \n",
    "tgm.Is_there_a_path_between(talent_graph,'John Thaw','Laurence Fox')"
   ]
  },
  {
   "cell_type": "code",
   "execution_count": 10,
   "metadata": {},
   "outputs": [],
   "source": [
    "# Shortest path between actors\n",
    "my_results=tgm.paths_between(talent_graph,'David Tennant','Laurence Fox')"
   ]
  },
  {
   "cell_type": "code",
   "execution_count": null,
   "metadata": {},
   "outputs": [],
   "source": [
    "# Shortest path between actors\n",
    "my_results=tgm.paths_between(filtered_graph,'John Thaw','Laurence Fox',3)"
   ]
  },
  {
   "cell_type": "code",
   "execution_count": null,
   "metadata": {},
   "outputs": [],
   "source": [
    "# Shortest path between actors\n",
    "my_results=tgm.paths_between(talent_graph,'John Thaw','Laurence Fox','shortest','spring')"
   ]
  },
  {
   "cell_type": "code",
   "execution_count": 11,
   "metadata": {},
   "outputs": [],
   "source": [
    "# Path between actors in 3 or fewer shows\n",
    "paths=tgm.paths_between(talent_graph,'David Jason','John Simm',2,'custom')\n"
   ]
  },
  {
   "cell_type": "code",
   "execution_count": null,
   "metadata": {},
   "outputs": [],
   "source": [
    "paths=tgm.paths_between(talent_graph,'Anna Friel','John Simm',4,'custom')\n"
   ]
  },
  {
   "cell_type": "code",
   "execution_count": null,
   "metadata": {},
   "outputs": [],
   "source": [
    "for i in nx.all_pairs_shortest_path(G):\n",
    "    print(i)"
   ]
  },
  {
   "cell_type": "code",
   "execution_count": null,
   "metadata": {},
   "outputs": [],
   "source": [
    "nx.degree_histogram(G)"
   ]
  },
  {
   "cell_type": "code",
   "execution_count": null,
   "metadata": {},
   "outputs": [],
   "source": [
    "nx.betweenness_centrality(G)"
   ]
  },
  {
   "cell_type": "code",
   "execution_count": 26,
   "metadata": {},
   "outputs": [],
   "source": [
    "tgm.Is_there_a_path_between(talent_graph,'Joanne Froggatt','John Simm')"
   ]
  },
  {
   "cell_type": "code",
   "execution_count": 25,
   "metadata": {},
   "outputs": [],
   "source": [
    "tgm.paths_between(talent_graph,'Joanne Froggatt','John Simm','shortest')"
   ]
  },
  {
   "cell_type": "code",
   "execution_count": 16,
   "metadata": {},
   "outputs": [],
   "source": [
    "my_results=tgm.paths_between(talent_graph,'Sheridan Smith','John Simm',3)"
   ]
  },
  {
   "cell_type": "code",
   "execution_count": 24,
   "metadata": {},
   "outputs": [],
   "source": [
    "for i in my_results:\n",
    "    if 'Nicola Walker' in i and 'Hermione Norris' in i:\n",
    "        print(i)\n",
    "    if 'David Niven' in i and 'David Tennant' in i:\n",
    "        print(i)\n",
    "        \n",
    "    if 'Siobhan Finneran' in i and 'Joanne Froggatt' in i:\n",
    "        print(i)\n",
    "    if 'Downton Abbey' in i:\n",
    "        print(i)"
   ]
  },
  {
   "cell_type": "code",
   "execution_count": 18,
   "metadata": {},
   "outputs": [],
   "source": [
    "for i in my_results:\n",
    "    if 'Nicola Walker' in i:\n",
    "        print(i)\n",
    "    if 'Hermione Norris' in i:\n",
    "        print(i)\n",
    "    if 'David Niven' in i:\n",
    "        print(i)\n",
    "    if 'David Tennant' in i:\n",
    "        print(i)\n",
    "    \n",
    "    if 'Siobhan Finneran' in i:\n",
    "        print(i)\n",
    "    \n",
    "    if 'Joanne Froggatt' in i:\n",
    "        print(i)\n",
    "    \n",
    "        "
   ]
  },
  {
   "cell_type": "code",
   "execution_count": 19,
   "metadata": {},
   "outputs": [],
   "source": [
    "talent_nodes=talent_graph[1]\n",
    "\n",
    "core_talent=['Nicola Walker','Hermione Norris','David Niven','David Tennant','Siobhan Finneran','Joanne Froggatt']\n",
    "for x in core_talent:\n",
    "    if x in talent_nodes:\n",
    "        print(x)"
   ]
  },
  {
   "cell_type": "code",
   "execution_count": 15,
   "metadata": {},
   "outputs": [],
   "source": [
    "my_results=tgm.paths_between(talent_graph,'Sheridan Smith','John Simm',4)"
   ]
  },
  {
   "cell_type": "code",
   "execution_count": null,
   "metadata": {},
   "outputs": [],
   "source": []
  }
 ],
 "metadata": {
  "kernelspec": {
   "display_name": "Python 3",
   "language": "python",
   "name": "python3"
  },
  "language_info": {
   "codemirror_mode": {
    "name": "ipython",
    "version": 3
   },
   "file_extension": ".py",
   "mimetype": "text/x-python",
   "name": "python",
   "nbconvert_exporter": "python",
   "pygments_lexer": "ipython3",
   "version": "3.7.6"
  }
 },
 "nbformat": 4,
 "nbformat_minor": 4
}
