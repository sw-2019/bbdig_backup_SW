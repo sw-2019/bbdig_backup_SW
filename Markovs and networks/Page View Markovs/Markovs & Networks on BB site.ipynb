{
 "cells": [
  {
   "cell_type": "code",
   "execution_count": 8,
   "metadata": {},
   "outputs": [],
   "source": [
    "# Set up modules for Google functionality\n",
    "from google.cloud import bigquery # To run BQ statements\n",
    "from google_auth_oauthlib import flow # To authorise as user\n",
    "from googleapiclient.discovery import build # To pull in from sheets, slides etc. API\n",
    "from google.auth.transport.requests import Request\n",
    "from google.cloud.bigquery import magics\n",
    "\n",
    "# Display\n",
    "import pprint\n",
    "\n",
    "# Operating system stuff\n",
    "import pickle\n",
    "import os.path\n",
    "import sys\n",
    "\n",
    "# Data handling\n",
    "import json\n",
    "import requests\n",
    "from pandas import read_csv\n",
    "from pandas import datetime\n",
    "import re\n",
    "\n",
    "# Stats, models, datasheets\n",
    "import pandas as pd\n",
    "import pyreadstat\n",
    "import math\n",
    "\n",
    "# Visualisation\n",
    "from matplotlib import pyplot\n",
    "import matplotlib.pyplot as plt\n",
    "import matplotlib_venn # For venn diagrams\n",
    "from pandas.plotting import autocorrelation_plot\n",
    "\n",
    "# Network graphs\n",
    "import networkx as nx\n",
    "\n",
    "# Misc\n",
    "from xlsxwriter.utility import xl_rowcol_to_cell # Used to create cell references\n",
    "import itertools\n",
    "\n",
    "\n",
    "# Load custom scripts in reusable_code folder\n",
    "sys.path.append(r'/home/jupyter/reusable_code')\n",
    "\n",
    "import google_api_functions as gaf\n",
    "creds=gaf.Authenticate_Google(r'/home/jupyter/reusable_code/')\n"
   ]
  },
  {
   "cell_type": "code",
   "execution_count": 12,
   "metadata": {},
   "outputs": [],
   "source": [
    "!pip show bq\n"
   ]
  },
  {
   "cell_type": "code",
   "execution_count": 10,
   "metadata": {},
   "outputs": [],
   "source": [
    "bq = bigquery.Client(project='itv-bde-analytics-dev',credentials=creds) #Apply credentials to BQ client \"bq\"\n",
    "magics.context.credentials = creds  #apply these credentials to the BQ magic syntax too\n"
   ]
  },
  {
   "cell_type": "code",
   "execution_count": 11,
   "metadata": {},
   "outputs": [],
   "source": [
    "query=\"\"\"\n",
    "\n",
    "select screen_type,\n",
    "count(distinct screen_name) \n",
    "from `itv-bde-svod-prd.cpt.structured_cpt`\n",
    "where date(timestamp)='2020-04-02'\n",
    "and platform_id='dotcom'\n",
    "group by 1\n",
    "order by 2 desc;\n",
    "\"\"\"\n",
    "df = bq.query(query).to_dataframe()\n",
    "df"
   ]
  },
  {
   "cell_type": "code",
   "execution_count": 147,
   "metadata": {},
   "outputs": [],
   "source": [
    "df"
   ]
  },
  {
   "cell_type": "code",
   "execution_count": 66,
   "metadata": {},
   "outputs": [],
   "source": [
    "query=\"\"\" \n",
    "select \n",
    "case when user_itv_id is null then 'Logged out' else 'Logged in' end as login_status,\n",
    "screen_type,\n",
    "case when screen_type in ('player','program-detail','show-detail','movie-detail') then screen_type\n",
    "when screen_type ='sub-category' then 'actor-pages'\n",
    "else replace(screen_name,'dotcom.','') end as screen_id,\n",
    "form_id,\n",
    "--referrer\n",
    "count(*) as N\n",
    "from `itv-bde-svod-prd.cpt.structured_cpt`\n",
    "where date(timestamp)='2020-04-02'\n",
    "and platform_id='dotcom'\n",
    "group by 1,2,3,4\n",
    "order by 1,2,3,4;\n",
    "\"\"\"\n",
    "df = bq.query(query).to_dataframe()\n",
    "df\n"
   ]
  },
  {
   "cell_type": "code",
   "execution_count": null,
   "metadata": {},
   "outputs": [],
   "source": []
  },
  {
   "cell_type": "markdown",
   "metadata": {},
   "source": [
    "##NOTE\n",
    "When using \\ in the SQL code, it acts as an escape character in Python so it causes errors when copy-pasted directly from the GCP BQ editor. You either need to escape your escape, i.e. \\ in BQ becomes \\\\ in Python, and \\\\ in BQ becomes \\\\\\\\ in Python.\n",
    "\n",
    "The other alternative is to use r\"\"\" \"\"\" syntax to take it as a raw text string, over-riding any escaping etc. in Python, same as you'd do to read in a file name"
   ]
  },
  {
   "cell_type": "code",
   "execution_count": 49,
   "metadata": {},
   "outputs": [],
   "source": [
    "query=\"\"\"\n",
    "create or replace table `itv-bde-analytics-dev.britbox_sandbox.Markov_test` as\n",
    "with base as \n",
    "(select *,\n",
    "/*\n",
    "case \n",
    "when screen_type in ('player','program-detail','show-detail','movie-detail','feature') then screen_type\n",
    "when screen_type ='sub-category' then 'actor-pages'\n",
    "else screen_name||first_form\n",
    "end||\"-\"||lgin_status\n",
    " as screen_id\n",
    "*/\n",
    "screen_type||\"-\"||lgin_status as screen_id\n",
    " from\n",
    "(select \n",
    "TRIM(JSON_EXTRACT(raw,'$.cid'),\"\\\\\"\") as device_id,\n",
    "ifnull(TRIM(JSON_EXTRACT(raw,'$.screen.type'),\"\\\\\"\"),'Unknown') as screen_type,\n",
    "ifnull(replace(TRIM(JSON_EXTRACT(raw,'$.screen.name'),\"\\\\\"\"),'dotcom.',''),'Unknown') as screen_name,\n",
    "case when coalesce(TRIM(JSON_EXTRACT(raw,'$.user.itv_id'),\"\\\\\"\"),TRIM(JSON_EXTRACT(raw,'$.user.id'),\"\\\\\"\"))  \n",
    "is null then 'LgdOut' \n",
    "else 'LgdIn' end as lgin_status,\n",
    "ifnull(regexp_extract_all(\n",
    "regexp_extract_all(REGEXP_EXTRACT(TRIM(JSON_EXTRACT(raw,'$.forms'),\"\\\\\"\"),\n",
    "'({.*})'),'(\\\\\\\\{.*?\\\\\\\\})')[safe_offset(0)],'\"id\":\"(.*?)\",')[safe_offset(0)],'') as first_form,\n",
    "timestamp\n",
    "from `itv-bde-svod-prd.svod.svod_page_raw_in`\n",
    "where _PARTITIONDATE='2020-04-04'\n",
    "and TRIM(JSON_EXTRACT(raw,'$.platform.id'),\"\\\\\"\")='dotcom'\n",
    "and TRIM(JSON_EXTRACT(raw,'$.event'),\"\\\\\"\")='screen.load.auto.dataLayer.load'\n",
    ")\n",
    ")\n",
    ",paths as (select device_id, screen_id, timestamp,\n",
    "case \n",
    "when lag(timestamp) over (partition by device_id order by timestamp) is null then 'Start'\n",
    "when timestamp_diff(timestamp,lag(timestamp) over (partition by device_id order by timestamp),MINUTE)>180\n",
    "then 'Start' else 'In Session' end as sesh_Start,\n",
    "case \n",
    "when lead(timestamp) over (partition by device_id order by timestamp) is null then 'Bounce'\n",
    "when timestamp_diff(lead(timestamp) over (partition by device_id order by timestamp),timestamp,MINUTE)<180\n",
    "then lead(screen_id) over (partition by device_id order by timestamp) else 'Bounce' end as next_screen\n",
    "from base)\n",
    "\n",
    ",results as (select \n",
    "sesh_start as from_node,\n",
    "screen_id as to_node,\n",
    "count(*) as pages,\n",
    "count(distinct device_id) as devices\n",
    "from paths\n",
    "where sesh_start='Start'\n",
    "group by 1,2\n",
    "union all\n",
    "select \n",
    "screen_id as from_node,\n",
    "next_screen as to_node,\n",
    "count(*) as pages,\n",
    "count(distinct device_id) as devices\n",
    "from paths\n",
    "group by 1,2)\n",
    "\n",
    "select results.*,\n",
    "pages/sum(pages) over (partition by from_node) as pc_transitions\n",
    "from results\n",
    ";\n",
    "\"\"\"\n",
    "bq.query(query).to_dataframe()\n"
   ]
  },
  {
   "cell_type": "code",
   "execution_count": 47,
   "metadata": {},
   "outputs": [],
   "source": [
    "query=r\"\"\"\n",
    "\"\"\""
   ]
  },
  {
   "cell_type": "code",
   "execution_count": 50,
   "metadata": {},
   "outputs": [],
   "source": [
    "query=\"\"\"select * from `itv-bde-analytics-dev.britbox_sandbox.Markov_test`\"\"\"\n",
    "df=bq.query(query).to_dataframe()\n",
    "df"
   ]
  },
  {
   "cell_type": "code",
   "execution_count": 84,
   "metadata": {},
   "outputs": [],
   "source": [
    "sorted_df=df.sort_values(by='pages', ascending=False) # Sorts the data\n",
    "df_dict=sorted_df.loc[:250].to_dict(orient='records') #Selects only first N rows to minimise graph size\n"
   ]
  },
  {
   "cell_type": "code",
   "execution_count": 85,
   "metadata": {},
   "outputs": [],
   "source": [
    "nodes=[]\n",
    "edges=[]\n",
    "\n",
    "import re\n",
    "for n,i in enumerate(df_dict):\n",
    "    edges.append((i['from_node'],i['to_node'],math.log10(i['pages'])))\n",
    "    nodes.append(i['from_node'])\n",
    "    nodes.append(i['to_node'])\n",
    "    \n",
    "nodes=list(set(nodes))#dedupe"
   ]
  },
  {
   "cell_type": "code",
   "execution_count": 86,
   "metadata": {},
   "outputs": [],
   "source": [
    "G=nx.Graph()\n",
    "G.add_nodes_from(nodes)\n",
    "G.add_weighted_edges_from(edges)"
   ]
  },
  {
   "cell_type": "code",
   "execution_count": 87,
   "metadata": {},
   "outputs": [],
   "source": [
    "nx.draw(G,pos=nx.circular_layout(G))"
   ]
  },
  {
   "cell_type": "code",
   "execution_count": 81,
   "metadata": {},
   "outputs": [],
   "source": [
    "longest_non_repeating_route=max(len(x) for x in nx.all_simple_paths(G,source='Start',target='Bounce'))"
   ]
  },
  {
   "cell_type": "markdown",
   "metadata": {},
   "source": [
    "## Trying to do an interactive graph using the instructions from here:\n",
    "https://pyvis.readthedocs.io/en/latest/"
   ]
  },
  {
   "cell_type": "code",
   "execution_count": 88,
   "metadata": {},
   "outputs": [],
   "source": [
    "#%pip install pyvis\n",
    "from pyvis.network import Network\n",
    "net = Network(notebook=True, height=1000, width=1000)\n"
   ]
  },
  {
   "cell_type": "code",
   "execution_count": 89,
   "metadata": {},
   "outputs": [],
   "source": [
    "net.add_nodes(nodes)"
   ]
  },
  {
   "cell_type": "code",
   "execution_count": 90,
   "metadata": {},
   "outputs": [],
   "source": [
    "for e in edges:\n",
    "    net.add_edge(e[0],e[1],weight=e[2])"
   ]
  },
  {
   "cell_type": "code",
   "execution_count": 93,
   "metadata": {},
   "outputs": [],
   "source": [
    "#help(net)\n",
    "net.toggle_physics(False)\n",
    "net.show_buttons(['physics','edges'])\n",
    "net.show(\"mygraph.html\")\n"
   ]
  },
  {
   "cell_type": "markdown",
   "metadata": {},
   "source": [
    "## Trying to do an interactive graph using the instructions from here:\n",
    "\n",
    "https://medium.com/kenlok/how-to-draw-an-interactive-network-graph-using-dash-b6b744f60931"
   ]
  },
  {
   "cell_type": "code",
   "execution_count": 7,
   "metadata": {},
   "outputs": [],
   "source": [
    "#%pip install dash \n",
    "import dash\n",
    "import dash_html_components as html\n",
    "import dash_core_components as dcc\n",
    "from dash.dependencies import Input, Output\n",
    "import plotly.graph_objs as go\n",
    "import networkx as nx"
   ]
  },
  {
   "cell_type": "code",
   "execution_count": 18,
   "metadata": {},
   "outputs": [],
   "source": [
    "pos = nx.layout.spring_layout(G)\n",
    "#Create Edges\n",
    "edge_trace = go.Scatter(\n",
    "    x=[],\n",
    "    y=[],\n",
    "    line=dict(width=0.5,color='#888'),\n",
    "    hoverinfo='none',\n",
    "    mode='lines')\n",
    "for edge in G.edges():\n",
    "    #x0, y0 = G.nodes[edge[0]]['pos']\n",
    "    #x1, y1 = G.node[edge[1]]['pos']\n",
    "    x0, y0 = pos[edge[0]]\n",
    "    x1, y1 = pos[edge[1]]    \n",
    "    \n",
    "    edge_trace['x'] += tuple([x0, x1, None])\n",
    "    edge_trace['y'] += tuple([y0, y1, None])\n",
    "\n"
   ]
  },
  {
   "cell_type": "code",
   "execution_count": 20,
   "metadata": {},
   "outputs": [],
   "source": [
    "node_trace = go.Scatter(\n",
    "    x=[],\n",
    "    y=[],\n",
    "    text=[],\n",
    "    mode='markers',\n",
    "    hoverinfo='text',\n",
    "    marker=dict(\n",
    "        showscale=True,\n",
    "        colorscale='YlGnBu',\n",
    "        reversescale=True,\n",
    "        color=[],\n",
    "        size=10,\n",
    "        colorbar=dict(\n",
    "            thickness=15,\n",
    "            title='Node Connections',\n",
    "            xanchor='left',\n",
    "            titleside='right'\n",
    "        ),  \n",
    "        line=dict(width=2)))\n",
    "\n",
    "for node in G.nodes():\n",
    "    x, y = pos[node]\n",
    "    node_trace['x'] += tuple([x])\n",
    "    node_trace['y'] += tuple([y])"
   ]
  },
  {
   "cell_type": "code",
   "execution_count": 21,
   "metadata": {},
   "outputs": [],
   "source": [
    "#add color to node points\n",
    "for node, adjacencies in enumerate(G.adjacency()):\n",
    "    node_trace['marker']['color']+=tuple([len(adjacencies[1])])\n",
    "    node_info = 'Name: ' + str(adjacencies[0]) + '<br># of connections: '+str(len(adjacencies[1]))\n",
    "    node_trace['text']+=tuple([node_info])"
   ]
  },
  {
   "cell_type": "code",
   "execution_count": 24,
   "metadata": {},
   "outputs": [],
   "source": [
    "fig = go.Figure(data=[edge_trace, node_trace],\n",
    "             layout=go.Layout(\n",
    "                title='Flow through website',\n",
    "                titlefont=dict(size=16),\n",
    "                showlegend=False,\n",
    "                hovermode='closest',\n",
    "                margin=dict(b=20,l=5,r=5,t=40),\n",
    "                annotations=[ dict(\n",
    "                    showarrow=False,\n",
    "                    xref=\"paper\", yref=\"paper\",\n",
    "                    x=0.005, y=-0.002 ) ],\n",
    "                xaxis=dict(showgrid=False, zeroline=False, showticklabels=False),\n",
    "                yaxis=dict(showgrid=False, zeroline=False, showticklabels=False)))"
   ]
  },
  {
   "cell_type": "code",
   "execution_count": 25,
   "metadata": {},
   "outputs": [],
   "source": [
    "app.layout = html.Div([\n",
    "                html.Div(dcc.Graph(id='Graph',figure=fig)),\n",
    "                html.Div(className='row', children=[\n",
    "                    html.Div([html.H2('Overall Data'),\n",
    "                              html.P('Num of nodes: ' + str(len(G.nodes))),\n",
    "                              html.P('Num of edges: ' + str(len(G.edges)))],\n",
    "                              className='three columns'),\n",
    "                    html.Div([\n",
    "                            html.H2('Selected Data'),\n",
    "                            html.Div(id='selected-data'),\n",
    "                        ], className='six columns')\n",
    "                    ])\n",
    "                ])\n",
    "\n",
    "\n",
    "@app.callback(\n",
    "    Output('selected-data', 'children'),\n",
    "    [Input('Graph','selectedData')])\n",
    "def display_selected_data(selectedData):\n",
    "    num_of_nodes = len(selectedData['points'])\n",
    "    text = [html.P('Num of nodes selected: '+str(num_of_nodes))]\n",
    "    for x in selectedData['points']:\n",
    "        material = int(x['text'].split('<br>')[0][10:])\n",
    "        text.append(html.P(str(material)))\n",
    "    return text"
   ]
  },
  {
   "cell_type": "markdown",
   "metadata": {},
   "source": [
    "## WRITE A FUNCTION WHICH\n",
    "- Resizes axis\n",
    "- Do weighted edges\n",
    "- Labels graph\n",
    "-  Applies a colour scheme\n",
    "- Allows you to resize nodes"
   ]
  },
  {
   "cell_type": "code",
   "execution_count": 112,
   "metadata": {},
   "outputs": [],
   "source": [
    "#More precise drawing options\n",
    "import numpy as np\n",
    "#Position the nodes on the graph by the centrality metrics of the node\n",
    "dc=nx.degree_centrality(G)\n",
    "bc=nx.betweenness_centrality(G)\n",
    "pos={}\n",
    "for i in bc:\n",
    "    pos[i]=np.asarray([bc[i],dc[i]])\n",
    "    \n",
    "#Position the nodes on the graph using one of the defaults\n",
    "pos = nx.circular_layout(G)  # positions for all nodes\n",
    "labelpos=[i+1 for i in pos]\n",
    "#print(pos)\n",
    "\n",
    "axsize = plt.subplots(figsize=(15,15))[1]# Set graph size for picture\n",
    "#axsize.set_facecolor(bb_palette['Light Cloud']) # Set graph background colour\n",
    "plt.axis('off')\n",
    "\n",
    "\n",
    "#Draw nodes at specified positions\n",
    "nx.draw_networkx_nodes(G, pos, node_size=2)\n",
    "\n",
    "\n",
    "edgelist=[(i[0],i[1]) for i in edges]\n",
    "width=[i[2] for i in edges]\n",
    "nx.draw_networkx_edges(G,pos,edgelist=edges,width=width)\n",
    "    \n",
    "# labels\n",
    "nx.draw_networkx_labels(G, pos, font_size=7, font_family='sans-serif')\n",
    "nx.draw_networkx_labels(G,pos=pos,label_pos=20,font_size=7,\\\n",
    "                            #font_color=bb_palette['Dark Storm'],font_family='monserrat'\n",
    "                       )\n",
    "plt.show()"
   ]
  },
  {
   "cell_type": "markdown",
   "metadata": {},
   "source": [
    "## Write a \"pos\" function"
   ]
  },
  {
   "cell_type": "code",
   "execution_count": null,
   "metadata": {},
   "outputs": [],
   "source": [
    "# For directed graph (edges only go one way) or undirected graph with start and end nodes- equivalent of Matrices with absorbing nodes\n",
    "# Initialise all positions as -1,-1\n",
    "# Identify start nodes (no inputs, some outputs)\n",
    "# Identify end nodes (only inputs, no outputs)\n",
    "# Position start nodes at -1 + padding\n",
    "# Position end nodes at 1 - padding\n",
    "\n",
    "# For all other nodes:\n",
    "# Identify longest path e.g. 12 and set to P\n",
    "# Create P X bands evenly distributed \n",
    "# Identify average length t start nodes and end nodes\n",
    "\n",
    "\n",
    "\n",
    "# NODE SIZE as number of connections? Number of edges OR sum of weights"
   ]
  },
  {
   "cell_type": "code",
   "execution_count": 115,
   "metadata": {},
   "outputs": [],
   "source": [
    "# Pos goes between -1 and 1 on both axes from the looks of it...\n",
    "for node in pos:\n",
    "    print(pos[node])\n"
   ]
  },
  {
   "cell_type": "markdown",
   "metadata": {},
   "source": [
    "# Make an array for Markov chains.\n",
    "For this we need symmetry, so all nodes need to be captured. This can be achieved with a cross join.\n",
    "We also need to make \"bounce\" absorbing, this can union in."
   ]
  },
  {
   "cell_type": "code",
   "execution_count": 124,
   "metadata": {},
   "outputs": [],
   "source": [
    "query=\"\"\"\n",
    "with nodes as \n",
    "(select distinct nodes from\n",
    "(\n",
    "select distinct from_node as nodes from `itv-bde-analytics-dev.britbox_sandbox.Markov_test`\n",
    "union all\n",
    "select distinct to_node as nodes from `itv-bde-analytics-dev.britbox_sandbox.Markov_test`\n",
    "))\n",
    "\n",
    ",cross_join as (select a.nodes as from_node,b.nodes as to_node from nodes a cross join nodes b)\n",
    "\n",
    "select x.from_node,\n",
    "x.to_node,\n",
    "ifnull(case \n",
    "    when x.from_node='Bounce' and x.to_node='Bounce' then 1\n",
    "    else y.pc_transitions\n",
    "end,0) as transition\n",
    "from cross_join x\n",
    "left join \n",
    "`itv-bde-analytics-dev.britbox_sandbox.Markov_test` y\n",
    "on x.from_node=y.from_node\n",
    "and x.to_node=y.to_node\n",
    "order by x.to_node,y.to_node\n",
    "\"\"\"\n",
    "markov_base_df=bq.query(query).to_dataframe()\n",
    "markov_base_df"
   ]
  },
  {
   "cell_type": "code",
   "execution_count": 125,
   "metadata": {},
   "outputs": [],
   "source": [
    "# Calculate (and flag) which states are absorbing states\n",
    "# markov_base_df[(markov_base_df['transition']==1) & (markov_base_df['from_node']==markov_base_df['to_node'])]\n",
    "markov_base_df['Absorbing']=(markov_base_df['transition']==1) & (markov_base_df['from_node']==markov_base_df['to_node'])"
   ]
  },
  {
   "cell_type": "code",
   "execution_count": 126,
   "metadata": {},
   "outputs": [],
   "source": [
    "markov_base_df.groupby('from_node').agg({\"transition\":\"sum\"}).head()"
   ]
  },
  {
   "cell_type": "code",
   "execution_count": 98,
   "metadata": {},
   "outputs": [],
   "source": [
    "markov_base_df[(markov_base_df['from_node']=='Start') & (markov_base_df['transition']>0)].sort_values(by='transition', ascending=False)"
   ]
  },
  {
   "cell_type": "code",
   "execution_count": 100,
   "metadata": {},
   "outputs": [],
   "source": [
    "query=\"\"\"select from_node,to_node, pc_transitions from `itv-bde-analytics-dev.britbox_sandbox.Markov_test` where from_node='Start'\n",
    "order by pc_transitions desc\n",
    "\"\"\"\n",
    "bq.query(query).to_dataframe()\n",
    "#Works at this point"
   ]
  },
  {
   "cell_type": "code",
   "execution_count": 140,
   "metadata": {},
   "outputs": [],
   "source": [
    "pivoted_markov_df=markov_base_df.pivot(index='from_node',columns='to_node',values='transition')"
   ]
  },
  {
   "cell_type": "code",
   "execution_count": 141,
   "metadata": {},
   "outputs": [],
   "source": [
    "pivoted_markov_df"
   ]
  },
  {
   "cell_type": "code",
   "execution_count": null,
   "metadata": {},
   "outputs": [],
   "source": []
  },
  {
   "cell_type": "code",
   "execution_count": 103,
   "metadata": {},
   "outputs": [],
   "source": [
    "pivoted_markov_df.to_numpy()"
   ]
  },
  {
   "cell_type": "code",
   "execution_count": 104,
   "metadata": {},
   "outputs": [],
   "source": [
    "P=pivoted_markov_df.to_numpy(landing-page-LgdOut)"
   ]
  },
  {
   "cell_type": "code",
   "execution_count": 106,
   "metadata": {},
   "outputs": [],
   "source": [
    "import numpy as np\n",
    "np.linalg.matrix_power(P,2)"
   ]
  },
  {
   "cell_type": "code",
   "execution_count": 109,
   "metadata": {},
   "outputs": [],
   "source": [
    "pivoted_markov_df.index"
   ]
  },
  {
   "cell_type": "code",
   "execution_count": 121,
   "metadata": {},
   "outputs": [],
   "source": []
  },
  {
   "cell_type": "code",
   "execution_count": 123,
   "metadata": {},
   "outputs": [],
   "source": [
    "markov_base_df[markov_base_df['Absorbing']==True]"
   ]
  },
  {
   "cell_type": "code",
   "execution_count": null,
   "metadata": {},
   "outputs": [],
   "source": [
    "|"
   ]
  }
 ],
 "metadata": {
  "kernelspec": {
   "display_name": "Python 3",
   "language": "python",
   "name": "python3"
  },
  "language_info": {
   "codemirror_mode": {
    "name": "ipython",
    "version": 3
   },
   "file_extension": ".py",
   "mimetype": "text/x-python",
   "name": "python",
   "nbconvert_exporter": "python",
   "pygments_lexer": "ipython3",
   "version": "3.7.6"
  }
 },
 "nbformat": 4,
 "nbformat_minor": 4
}
