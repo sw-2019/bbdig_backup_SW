{
 "cells": [
  {
   "cell_type": "code",
   "execution_count": 144,
   "metadata": {},
   "outputs": [],
   "source": [
    "#Import modules\n",
    "import networkx as nx\n",
    "import matplotlib.pyplot as plt\n",
    "import pandas as pd\n",
    "import numpy as np"
   ]
  },
  {
   "cell_type": "code",
   "execution_count": 133,
   "metadata": {},
   "outputs": [],
   "source": [
    "%load_ext google.cloud.bigquery"
   ]
  },
  {
   "cell_type": "code",
   "execution_count": 134,
   "metadata": {},
   "outputs": [],
   "source": [
    "%%bigquery mydata\n",
    "SELECT * FROM `skyuk-uk-nowtv-analytics-prod.SWA63.Page_transitions_for_modelling_SUMMARY`\n"
   ]
  },
  {
   "cell_type": "code",
   "execution_count": 135,
   "metadata": {},
   "outputs": [],
   "source": [
    "mydata.head()\n"
   ]
  },
  {
   "cell_type": "code",
   "execution_count": 136,
   "metadata": {},
   "outputs": [],
   "source": [
    "# What usernames are there?\n",
    "mydata['username'].drop_duplicates()"
   ]
  },
  {
   "cell_type": "code",
   "execution_count": 137,
   "metadata": {},
   "outputs": [],
   "source": [
    "# Create a dataframe for each individual username\n",
    "for i in mydata['username'].drop_duplicates().tolist():\n",
    "    exec (\"df_{0}=mydata[mydata['username']=='{0}']\".format(i))"
   ]
  },
  {
   "cell_type": "code",
   "execution_count": 149,
   "metadata": {},
   "outputs": [],
   "source": [
    "# Select one of the dataframes to work from\n",
    "myworkingdf=df_Roku\n",
    "\n",
    "#number of connections\n",
    "print(len(myworkingdf))\n",
    "\n",
    "#Sort\n",
    "myworkingdf[\"N\"] = pd.to_numeric(myworkingdf[\"N\"])\n",
    "myworkingdf=myworkingdf.sort_values('pc_navs_overall',ascending=False)\n",
    "myworkingdf['pc_sum']=myworkingdf['pc_navs_overall'].cumsum()\n",
    "\n",
    "#myworkingdf=myworkingdf[myworkingdf['N']>100]\n",
    "\n",
    "#Only select top 90% of navigations\n",
    "myworkingdf=myworkingdf[myworkingdf['pc_sum']<0.80]\n",
    "\n",
    "print(len(myworkingdf))\n",
    "myworkingdf.head(30)"
   ]
  },
  {
   "cell_type": "code",
   "execution_count": 150,
   "metadata": {},
   "outputs": [],
   "source": [
    "#Create empty directed graph\n",
    "mygraph=nx.DiGraph()"
   ]
  },
  {
   "cell_type": "code",
   "execution_count": 151,
   "metadata": {},
   "outputs": [],
   "source": [
    "#Add pages navigated from or two as nodes\n",
    "pages_from = myworkingdf['page_summary'].tolist()\n",
    "pages_to = myworkingdf['next_page'].tolist()\n",
    "pages=list(set(pages_from+pages_to))\n",
    "len(pages)\n",
    "mygraph.add_nodes_from(pages)\n",
    "\n",
    "#Add pages navigated from or two as nodes\n",
    "#pages_from = myworkingdf['page_summary'].tolist()\n",
    "#pages_to = myworkingdf['next_page'].tolist()\n",
    "#pages=list(set(pages_from+pages_to))\n",
    "#len(pages)\n",
    "#for n,i in enumerate(pages):\n",
    "#    print(n)\n",
    "#    print(i)\n",
    "#    mygraph.add_node(n,label=i)\n"
   ]
  },
  {
   "cell_type": "code",
   "execution_count": 152,
   "metadata": {},
   "outputs": [],
   "source": [
    "#add edges with weights\n",
    "myworkingdf['navigation'] = myworkingdf[['page_summary', 'next_page','pc_navs_from_page']].apply(tuple, axis=1)\n",
    "myworkingdf.head()\n",
    "navigations=myworkingdf['navigation'].tolist()\n",
    "\n",
    "for i in navigations:\n",
    "    mygraph.add_edge(i[0],i[1],weight=i[2])"
   ]
  },
  {
   "cell_type": "code",
   "execution_count": 153,
   "metadata": {},
   "outputs": [],
   "source": [
    "mygraph.nodes()\n",
    "mygraph.edges(data=True)\n"
   ]
  },
  {
   "cell_type": "code",
   "execution_count": 154,
   "metadata": {},
   "outputs": [],
   "source": []
  },
  {
   "cell_type": "code",
   "execution_count": 155,
   "metadata": {},
   "outputs": [],
   "source": []
  },
  {
   "cell_type": "code",
   "execution_count": null,
   "metadata": {},
   "outputs": [],
   "source": []
  },
  {
   "cell_type": "code",
   "execution_count": 148,
   "metadata": {},
   "outputs": [],
   "source": [
    "#More precise drawing options\n",
    "\n",
    "#Position the nodes on the graph by the centrality metrics of the node\n",
    "dc=nx.degree_centrality(mygraph)\n",
    "bc=nx.betweenness_centrality(mygraph)\n",
    "pos={}\n",
    "for i in bc:\n",
    "    pos[i]=np.asarray([bc[i],dc[i]])\n",
    "    \n",
    "#Position the nodes on the graph using one of the defaults\n",
    "#pos = nx.spectral_layout(mygraph)  # positions for all nodes\n",
    "print(pos)\n",
    "\n",
    "#Draw nodes at specified positions\n",
    "nx.draw_networkx_nodes(mygraph, pos, node_size=2)\n",
    "\n",
    "# edges\n",
    "#nx.draw_networkx_edges(mygraph,pos)\n",
    "#major edges only\n",
    "\n",
    "#create a list of all weights\n",
    "all_weights=[]\n",
    "for (node1,node2,data) in mygraph.edges(data=True):\n",
    "    all_weights.append(data['weight']) #we'll use this when determining edge thickness\n",
    "#Dedupe to get list of unique weights\n",
    "    unique_weights = list(set(all_weights))\n",
    "#Plot the edges - one by one!\n",
    "    for weight in unique_weights:\n",
    "        # Loop through each unique weight, store the edges which have that weight in \"weighted edges\" and then plot with the corresponding width\n",
    "        weighted_edges = [(node1,node2) for (node1,node2,edge_attr) in mygraph.edges(data=True) if edge_attr['weight']==weight]\n",
    "        width = weight*2\n",
    "        nx.draw_networkx_edges(mygraph,pos,edgelist=weighted_edges,width=width)\n",
    "\n",
    "\n",
    "# labels\n",
    "nx.draw_networkx_labels(mygraph, pos, font_size=7, font_family='sans-serif')\n",
    "plt.show()"
   ]
  },
  {
   "cell_type": "code",
   "execution_count": 47,
   "metadata": {},
   "outputs": [],
   "source": [
    "#### Simple version without configuration\n",
    "#Add pages navigated from or two as nodes\n",
    "pages_from = myworkingdf['page_summary'].tolist()\n",
    "pages_to = myworkingdf['next_page'].tolist()\n",
    "pages=list(set(pages_from+pages_to))\n",
    "len(pages)\n",
    "mygraph.add_nodes_from(pages)\n",
    "\n",
    "#add edges\n",
    "myworkingdf['navigation'] = myworkingdf[['page_summary', 'next_page']].apply(tuple, axis=1)\n",
    "myworkingdf.head()\n",
    "navigations=myworkingdf['navigation'].tolist()\n",
    "mygraph.add_edges_from(navigations)\n",
    "\n",
    "# Draw\n",
    "nx.draw(mygraph)\n",
    "import matplotlib.pyplot as plt\n",
    "plt.show()\n"
   ]
  },
  {
   "cell_type": "code",
   "execution_count": 179,
   "metadata": {},
   "outputs": [],
   "source": [
    "#from itertools import combinations\n",
    "#for n1, n2 in combinations(mygraph.nodes(),2):\n",
    "#    print(n1,\"-->\",n2)\n"
   ]
  },
  {
   "cell_type": "code",
   "execution_count": null,
   "metadata": {},
   "outputs": [],
   "source": []
  },
  {
   "cell_type": "code",
   "execution_count": null,
   "metadata": {},
   "outputs": [],
   "source": []
  },
  {
   "cell_type": "code",
   "execution_count": 180,
   "metadata": {},
   "outputs": [],
   "source": [
    "# Select one of the dataframes to work from\n",
    "myworkingdf=df_Roku[df_Roku['next_page']=='PLAYER']\n",
    "\n"
   ]
  },
  {
   "cell_type": "code",
   "execution_count": 181,
   "metadata": {},
   "outputs": [],
   "source": [
    "#Create empty directed graph\n",
    "playergraph=nx.DiGraph()"
   ]
  },
  {
   "cell_type": "code",
   "execution_count": 182,
   "metadata": {},
   "outputs": [],
   "source": [
    "#Add pages navigated from or two as nodes\n",
    "pages_from = myworkingdf['page_summary'].tolist()\n",
    "pages_to = myworkingdf['next_page'].tolist()\n",
    "pages=list(set(pages_from+pages_to))\n",
    "len(pages)\n",
    "playergraph.add_nodes_from(pages)\n",
    "\n",
    "#Add pages navigated from or two as nodes\n",
    "#pages_from = myworkingdf['page_summary'].tolist()\n",
    "#pages_to = myworkingdf['next_page'].tolist()\n",
    "#pages=list(set(pages_from+pages_to))\n",
    "#len(pages)\n",
    "#for n,i in enumerate(pages):\n",
    "#    print(n)\n",
    "#    print(i)\n",
    "#    mygraph.add_node(n,label=i)\n"
   ]
  },
  {
   "cell_type": "code",
   "execution_count": 183,
   "metadata": {},
   "outputs": [],
   "source": [
    "#add edges with weights\n",
    "myworkingdf['navigation'] = myworkingdf[['page_summary', 'next_page','pc_navs_from_page']].apply(tuple, axis=1)\n",
    "myworkingdf.head()\n",
    "navigations=myworkingdf['navigation'].tolist()\n",
    "\n",
    "for i in navigations:\n",
    "    playergraph.add_edge(i[0],i[1],weight=i[2])"
   ]
  },
  {
   "cell_type": "code",
   "execution_count": 184,
   "metadata": {},
   "outputs": [],
   "source": [
    "#More precise drawing options\n",
    "    \n",
    "#Position the nodes on the graph using one of the defaults\n",
    "pos = nx.circular_layout(mygraph)  # positions for all nodes\n",
    "#print(pos)\n",
    "\n",
    "#Draw nodes at specified positions\n",
    "nx.draw_networkx_nodes(playergraph, pos, node_size=2)\n",
    "\n",
    "# edges\n",
    "#nx.draw_networkx_edges(mygraph,pos)\n",
    "#major edges only\n",
    "\n",
    "#create a list of all weights\n",
    "all_weights=[]\n",
    "for (node1,node2,data) in playergraph.edges(data=True):\n",
    "    all_weights.append(data['weight']) #we'll use this when determining edge thickness\n",
    "#Dedupe to get list of unique weights\n",
    "    unique_weights = list(set(all_weights))\n",
    "#Plot the edges - one by one!\n",
    "    for weight in unique_weights:\n",
    "        # Loop through each unique weight, store the edges which have that weight in \"weighted edges\" and then plot with the corresponding width\n",
    "        weighted_edges = [(node1,node2) for (node1,node2,edge_attr) in playergraph.edges(data=True) if edge_attr['weight']==weight]\n",
    "        width = weight*2\n",
    "        nx.draw_networkx_edges(playergraph,pos,edgelist=weighted_edges,width=width)\n",
    "\n",
    "\n",
    "# labels\n",
    "nx.draw_networkx_labels(playergraph, pos, font_size=7, font_family='sans-serif')\n",
    "plt.show()"
   ]
  },
  {
   "cell_type": "code",
   "execution_count": null,
   "metadata": {},
   "outputs": [],
   "source": []
  }
 ],
 "metadata": {
  "kernelspec": {
   "display_name": "Python 3",
   "language": "python",
   "name": "python3"
  },
  "language_info": {
   "codemirror_mode": {
    "name": "ipython",
    "version": 3
   },
   "file_extension": ".py",
   "mimetype": "text/x-python",
   "name": "python",
   "nbconvert_exporter": "python",
   "pygments_lexer": "ipython3",
   "version": "3.7.6"
  }
 },
 "nbformat": 4,
 "nbformat_minor": 4
}
