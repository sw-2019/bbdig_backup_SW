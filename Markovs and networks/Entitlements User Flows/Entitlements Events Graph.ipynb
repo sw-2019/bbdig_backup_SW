{
 "cells": [
  {
   "cell_type": "code",
   "execution_count": 17,
   "metadata": {},
   "outputs": [],
   "source": [
    "# modules\n",
    "import numpy as np\n",
    "import matplotlib.pyplot as plt\n",
    "from   scipy import optimize\n",
    "import pandas as pd\n",
    "from scipy.optimize import curve_fit\n",
    "import scipy.stats as stats\n",
    "import sys\n",
    "\n",
    "# Install/import plotly packages- this package has lots of graphical properties\n",
    "import plotly.graph_objects as go\n",
    "import plotly.offline as pyo\n",
    "\n",
    "# Load custom scripts in reusable_code folder\n",
    "sys.path.append(r'/home/jupyter/reusable_code')\n",
    "\n",
    "import google_api_functions as gaf\n",
    "\n",
    "from google.cloud import bigquery\n",
    "from datetime import date\n",
    "\n",
    "import re\n",
    "import networkx as nx"
   ]
  },
  {
   "cell_type": "code",
   "execution_count": 60,
   "metadata": {},
   "outputs": [],
   "source": [
    "creds=gaf.Authenticate_Google(r'/home/jupyter/reusable_code/')\n",
    "bb_palette={'Sunset Red':'#D2525D', 'Dorset Blue':'#4BA0B8','Union Blue':'#083560','Sunset Red Highlight':'#FF8F99',\\\n",
    "           'Dorset Blue Highlight':'#5CCAE5','Union Blue Highlight':'#80E4FF','Raspberry':'#993F64'\\\n",
    "            ,'Orange':'#E0835E','Apricot':'#E8B35D','Apple':'#72B58C','Dark Storm':'#1E2023','Mild Storm':'#282B31'\\\n",
    "           ,'Light Storm':'#3E434B','Dark Cloud':'#CDD2D8','Light Cloud':'#E8EDF2','White':'#FFFFFF'}\n"
   ]
  },
  {
   "cell_type": "code",
   "execution_count": 6,
   "metadata": {},
   "outputs": [],
   "source": [
    "# Extracting data to determine LTV\n",
    "bq = bigquery.Client(project='itv-bde-analytics-prd',credentials=creds)\n",
    "magics.context.credentials = creds  #apply these credentials to the BQ magic syntax too\n"
   ]
  },
  {
   "cell_type": "code",
   "execution_count": 15,
   "metadata": {},
   "outputs": [],
   "source": [
    "query=\"\"\"with entitlements_flows as\n",
    "(select billingprovider, Last_status as From_status,status as to_status,\n",
    "CONCAT(eventSubType.eventDescription , ' (',ifnull(TRIM(JSON_EXTRACT(raw,'$.eventType'),\"\\\\\"\"),concat('DERIVED:',eventtype)),')') as SVOD_event_received\n",
    ",case when eventSubType.eventDescription in ('never seen this combo before','outside agreed journey set') then 1 else 0 end as exclude_flag\n",
    ",count(*) as N\n",
    "from `itv-bde-analytics-prd.britbox_analytics.entitlements` \n",
    "group by 1,2,3,4,5)\n",
    "select *,\n",
    "N/sum(N) over (partition by billingProvider,from_status) as PC_transitions\n",
    "from entitlements_flows where exclude_flag=0\n",
    "--select exclude_flag, sum(N)/(Select sum(N) from entitlements_flows) as N from entitlements_flows group by 1 --99% journeys mapped\n",
    "order by 1,2,6 desc\"\"\"\n",
    "df = bq.query(query).to_dataframe()"
   ]
  },
  {
   "cell_type": "code",
   "execution_count": 16,
   "metadata": {},
   "outputs": [],
   "source": [
    "df"
   ]
  },
  {
   "cell_type": "code",
   "execution_count": 114,
   "metadata": {},
   "outputs": [],
   "source": [
    "sub_df=df[df['billingprovider']=='BT']\n",
    "nodes=list(set(sub_df['From_status'].to_list()+sub_df['to_status'].to_list()))"
   ]
  },
  {
   "cell_type": "code",
   "execution_count": null,
   "metadata": {},
   "outputs": [],
   "source": []
  },
  {
   "cell_type": "code",
   "execution_count": 115,
   "metadata": {},
   "outputs": [],
   "source": [
    "edge_list=sub_df[['From_status','to_status','SVOD_event_received','PC_transitions']].apply(tuple, axis=1).tolist()#.to_dict('records')\n"
   ]
  },
  {
   "cell_type": "code",
   "execution_count": 127,
   "metadata": {},
   "outputs": [],
   "source": [
    "G=nx.Graph()"
   ]
  },
  {
   "cell_type": "code",
   "execution_count": 128,
   "metadata": {},
   "outputs": [],
   "source": [
    "G.add_nodes_from(nodes)"
   ]
  },
  {
   "cell_type": "code",
   "execution_count": 129,
   "metadata": {},
   "outputs": [],
   "source": [
    "for i in edge_list:\n",
    "    G.add_edge(i[0],i[1],weight=i[3],label=i[2])"
   ]
  },
  {
   "cell_type": "code",
   "execution_count": 131,
   "metadata": {},
   "outputs": [],
   "source": [
    "#for i in nx.lexicographical_topological_sort(G):\n",
    "#    print(\"{} has {} ancestors and {} descendants\".format(i,len(nx.ancestors(G,i)),len(nx.descendants(G,i))))"
   ]
  },
  {
   "cell_type": "code",
   "execution_count": 119,
   "metadata": {},
   "outputs": [],
   "source": [
    "nx.is_directed_acyclic_graph(G)"
   ]
  },
  {
   "cell_type": "code",
   "execution_count": 120,
   "metadata": {},
   "outputs": [],
   "source": [
    "nx.is_aperiodic(G)"
   ]
  },
  {
   "cell_type": "code",
   "execution_count": 121,
   "metadata": {},
   "outputs": [],
   "source": [
    "pos=nx.random_layout(G)\n",
    "nx.draw(G,pos)"
   ]
  },
  {
   "cell_type": "code",
   "execution_count": null,
   "metadata": {},
   "outputs": [],
   "source": []
  },
  {
   "cell_type": "code",
   "execution_count": 124,
   "metadata": {},
   "outputs": [],
   "source": [
    "        \n",
    "axsize = plt.subplots(figsize=(15,15))[1]# Set graph size for picture\n",
    "axsize.set_facecolor(bb_palette['Light Cloud']) # Set graph background colour\n",
    "plt.axis('off')\n",
    "\n",
    "\n",
    "nx.draw_networkx_labels(G,pos=pos,label_pos=-1,font_size=12,font_color=bb_palette['Dark Storm'], font_family='monserrat')\n",
    "nx.draw_networkx_nodes(G,pos=pos,node_color=bb_palette['Dorset Blue'],ax=axsize,node_shape=\"s\")\n",
    "\n",
    "nx.draw_networkx_edges(G,pos=pos,edge_color=bb_palette['Union Blue'],width=[i[3]*5 for i in edge_list])\n",
    "nx.draw_networkx_edge_labels(G,pos,edge_labels={(i[0],i[1]):i[2] for i in edge_list})"
   ]
  },
  {
   "cell_type": "code",
   "execution_count": null,
   "metadata": {},
   "outputs": [],
   "source": []
  },
  {
   "cell_type": "code",
   "execution_count": null,
   "metadata": {},
   "outputs": [],
   "source": []
  },
  {
   "cell_type": "code",
   "execution_count": null,
   "metadata": {},
   "outputs": [],
   "source": []
  },
  {
   "cell_type": "code",
   "execution_count": null,
   "metadata": {},
   "outputs": [],
   "source": []
  }
 ],
 "metadata": {
  "kernelspec": {
   "display_name": "Python 3",
   "language": "python",
   "name": "python3"
  },
  "language_info": {
   "codemirror_mode": {
    "name": "ipython",
    "version": 3
   },
   "file_extension": ".py",
   "mimetype": "text/x-python",
   "name": "python",
   "nbconvert_exporter": "python",
   "pygments_lexer": "ipython3",
   "version": "3.7.6"
  }
 },
 "nbformat": 4,
 "nbformat_minor": 4
}
