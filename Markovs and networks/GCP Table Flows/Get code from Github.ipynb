{
 "cells": [
  {
   "cell_type": "markdown",
   "metadata": {},
   "source": [
    "# To run this script, you will need your user token (generate one if you don't have it).\n",
    "https://github.com/settings/tokens\n",
    "\n",
    "And save it as a file called _github_token.txt_ in a folder called _reusable_code_ on the Jupyter home"
   ]
  },
  {
   "cell_type": "code",
   "execution_count": 1,
   "metadata": {},
   "outputs": [],
   "source": [
    "import github\n",
    "import requests\n",
    "import re"
   ]
  },
  {
   "cell_type": "code",
   "execution_count": 2,
   "metadata": {},
   "outputs": [],
   "source": [
    "# Pick up Github token for authentication purposes \n",
    "mytoken=open('/home/jupyter/reusable_code/github_token.txt',\"r\").read()"
   ]
  },
  {
   "cell_type": "code",
   "execution_count": 3,
   "metadata": {},
   "outputs": [],
   "source": [
    "#Create GitHub connection/ instance\n",
    "g = github.Github(mytoken)\n",
    "\n",
    "# Get your specific user (update with your username)\n",
    "myuser=g.get_user('sw-2019')\n",
    "\n",
    "# Subset to just the ITV repo\n",
    "ITV_org=g.get_organization('ITV').get_repos()\n",
    "\n",
    "# Subset further to just a list of BritBox DIG repos according to our naming convention\n",
    "bbdig_repos=[i for i in ITV_org if i.full_name.replace('ITV/','')[:5]=='bbdig']\n",
    "\n",
    "# Get the bb_insight team\n",
    "bbinsightteam=g.get_organization('ITV').get_team([x.id for x in g.get_organization('ITV').get_teams() if x.name=='bb_insight'][0])\n"
   ]
  },
  {
   "cell_type": "markdown",
   "metadata": {},
   "source": [
    "### Loop all repos in bbdig_repos that you have admin access to, and add the team if they aren't there already"
   ]
  },
  {
   "cell_type": "code",
   "execution_count": null,
   "metadata": {},
   "outputs": [],
   "source": [
    "for r in bbdig_repos: # For each BBDIG repo\n",
    "    try:\n",
    "        amICollobarator=False\n",
    "        for x in r.get_collaborators(): # Loop collaborators\n",
    "            if x.login==myuser.login: # If I'm a collaborator\n",
    "                    amICollobarator=True\n",
    "                    if x.permissions.admin==True: #And I have admin permissions\n",
    "                        Madechanges=False\n",
    "                        if bbinsightteam.get_repo_permission(r)==None: #Check if the insight team has been added at all (None='No')\n",
    "                            bbinsightteam.add_to_repos(r) #Check if the team is not added at all (None='No')\n",
    "                            Madechanges=True\n",
    "                            bbinsightteam.set_repo_permission(repo=r,permission='admin') # And make them admin\n",
    "                            print('Added BB Insight team to {}'.format(r.name))\n",
    "                        else:\n",
    "                            if bbinsightteam.get_repo_permission(r).admin==False: #If team already exists but isn't admin\n",
    "                                bbinsightteam.set_repo_permission(repo=r,permission='admin') # Make them admin\n",
    "                                Madechanges=True\n",
    "                                print('Made BB Insight team admins on {}'.format(r.name))\n",
    "                        if Madechanges==False:\n",
    "                            print('I can edit {} but no changes were required, team is already admin'.format(r.name))\n",
    "                    else:\n",
    "                        print('No admin rights on {}'.format(r.name))\n",
    "\n",
    "        if amICollobarator==False:\n",
    "            print('I''m not a collaborator on {}'.format(r.name))\n",
    "    except:\n",
    "        print('Cannot influence {}'.format(r.name))\n"
   ]
  },
  {
   "cell_type": "code",
   "execution_count": 39,
   "metadata": {},
   "outputs": [],
   "source": [
    "#Subset\n",
    "\n",
    "repo1=bbdig_repos[11]\n",
    "repo1.name\n",
    "#help(repo1)\n",
    "#add_to_collaborators(self, collaborator, permission=NotSet)\n",
    "#repo1.add_to_collaborators('ClaireJeynes1', permission='admin')"
   ]
  },
  {
   "cell_type": "code",
   "execution_count": 40,
   "metadata": {},
   "outputs": [],
   "source": [
    "if bbinsightteam.get_repo_permission(repo1)==None:\n",
    "    bbinsightteam.add_to_repos(repo1)\n",
    "else:\n",
    "    if bbinsightteam.get_repo_permission(repo1).admin==False:\n",
    "        print('Not admin')\n",
    "        bbinsightteam.set_repo_permission(repo=repo1,permission='admin')\n"
   ]
  },
  {
   "cell_type": "code",
   "execution_count": 41,
   "metadata": {},
   "outputs": [],
   "source": [
    "bbinsightteam.get_repo_permission(repo1).admin"
   ]
  },
  {
   "cell_type": "code",
   "execution_count": 25,
   "metadata": {},
   "outputs": [],
   "source": []
  },
  {
   "cell_type": "code",
   "execution_count": null,
   "metadata": {},
   "outputs": [],
   "source": []
  },
  {
   "cell_type": "code",
   "execution_count": 58,
   "metadata": {},
   "outputs": [],
   "source": []
  },
  {
   "cell_type": "code",
   "execution_count": 59,
   "metadata": {},
   "outputs": [],
   "source": []
  },
  {
   "cell_type": "code",
   "execution_count": 45,
   "metadata": {},
   "outputs": [],
   "source": []
  },
  {
   "cell_type": "code",
   "execution_count": null,
   "metadata": {},
   "outputs": [],
   "source": []
  },
  {
   "cell_type": "code",
   "execution_count": 99,
   "metadata": {},
   "outputs": [],
   "source": [
    "help(r)"
   ]
  },
  {
   "cell_type": "code",
   "execution_count": 19,
   "metadata": {},
   "outputs": [],
   "source": [
    "# CURRENTLY ONLY CAPTURING `a.b.c` format of GCP names, not `b.c` without a project name\n",
    "def find_gcp_table_names(find_string,text_file):\n",
    "    return list(set([re.sub(find_string,\"\", x)[1:-1] for x in re.findall(find_string+\"`[a-z0-9_-]{0,100}\\.{0,1}[a-z0-9_-]*\\.[a-z0-9_-]*`\",text_file.lower())] \\\n",
    "                    +[re.sub(find_string,\"\", x)[1:-1] for x in re.findall(find_string+\"`{0,1}[a-z0-9_-]*\\.[a-z0-9_-]*`\",text_file.lower())]))\n",
    "\n",
    "def extract_edges (query_text):\n",
    "    to_tables=find_gcp_table_names(\"create or replace table \",query_text)+\\\n",
    "    find_gcp_table_names(\"create table \",query_text)+\\\n",
    "    find_gcp_table_names(\"create or replace view \",query_text)+\\\n",
    "    find_gcp_table_names(\"create view \",query_text)+\\\n",
    "    find_gcp_table_names(\"insert \",query_text)+\\\n",
    "    find_gcp_table_names(\"insert into \",query_text)+\\\n",
    "    find_gcp_table_names(\"delete from \",query_text)+\\\n",
    "    find_gcp_table_names(\"delete \",query_text)+\\\n",
    "    find_gcp_table_names(\"update \",query_text)+\\\n",
    "    find_gcp_table_names(\"merge into \",query_text)+\\\n",
    "    find_gcp_table_names(\"merge \",query_text)\n",
    "\n",
    "    #Might match on the delete from... can handle later with a from != to\n",
    "    from_tables=find_gcp_table_names(\"from \",query_text)+\\\n",
    "    find_gcp_table_names(\"join \",query_text)+\\\n",
    "    find_gcp_table_names(\"using \",query_text)+\\\n",
    "    find_gcp_table_names(\", \",query_text)+\\\n",
    "    find_gcp_table_names(\",\",query_text) #For coding syntax where from x,y is used\n",
    "    \n",
    "    mapping=[]\n",
    "    \n",
    "    for i in to_tables:\n",
    "        for j in from_tables:\n",
    "            mapping.append((j,i))\n",
    "    \n",
    "    return mapping\n",
    "\n"
   ]
  },
  {
   "cell_type": "code",
   "execution_count": null,
   "metadata": {},
   "outputs": [],
   "source": []
  },
  {
   "cell_type": "code",
   "execution_count": 21,
   "metadata": {},
   "outputs": [],
   "source": [
    "\n",
    "All_edges=[]\n",
    "\n",
    "# Loop all the repos\n",
    "for repo in bbdig_repos[:5]:\n",
    "    files=[file for file in repo.get_contents(\"\") if file.name.split('.')[-1]=='sql'] # Return SQL files in a repo\n",
    "    print(\"Repo: {}\".format(repo))\n",
    "    for file in files:\n",
    "        file_url=file.raw_data['download_url']\n",
    "        file_request=requests.get(file_url)\n",
    "        if file_request.ok:\n",
    "            file_contents=file_request.text\n",
    "#            print(file_contents)\n",
    "            file_contents_clean=\" \".join(file_contents.replace('\\n',' ').split(\" \")) # Remove newline characters and multiple spaces to standardise code\n",
    "            subscripts=file_contents_clean.split(\";\") # Create subscripts where the data is split into different blocks of code using semicolons\n",
    "            for script in subscripts:\n",
    "                #print(\"\\n\")\n",
    "                #print(script)\n",
    "                edges=extract_edges(script) #Function to derive to and from nodes from a SQL script\n",
    "                #print(edges)# Extract all the from>>to table edges \n",
    "                if len(edges)>0:\n",
    "                    All_edges.append(edges)\n",
    "                    \n",
    "        # Placeholder to include any ipynb or .py files\n",
    "All_edges\n"
   ]
  },
  {
   "cell_type": "code",
   "execution_count": null,
   "metadata": {},
   "outputs": [],
   "source": [
    "# replace itv-bde-analytics-dev and itv-bde-analytics-prd with itv-bde-analytics-*\n",
    "# replace no project with # itv-bde-analytics-*\n",
    "\n"
   ]
  },
  {
   "cell_type": "code",
   "execution_count": 95,
   "metadata": {},
   "outputs": [],
   "source": [
    "x=requests.get('https://raw.githubusercontent.com/ITV/bbdig_mart_entitlements/master/Account%20Deleted.sql?token=AMRDGLS5LEMXSOXYYMA63AC7NR56G')"
   ]
  },
  {
   "cell_type": "code",
   "execution_count": 96,
   "metadata": {},
   "outputs": [],
   "source": [
    "x.text"
   ]
  },
  {
   "cell_type": "code",
   "execution_count": 7,
   "metadata": {},
   "outputs": [],
   "source": [
    "https://raw.githubusercontent.com/ITV/bbdig_mart_entitlements"
   ]
  },
  {
   "cell_type": "code",
   "execution_count": 10,
   "metadata": {},
   "outputs": [],
   "source": [
    "import github\n"
   ]
  },
  {
   "cell_type": "code",
   "execution_count": 20,
   "metadata": {},
   "outputs": [],
   "source": [
    "mytoken=open('/home/jupyter/reusable_code/github_token.txt',\"r\").read()\n",
    "mytoken"
   ]
  },
  {
   "cell_type": "code",
   "execution_count": 26,
   "metadata": {
    "collapsed": true,
    "jupyter": {
     "outputs_hidden": true
    }
   },
   "outputs": [],
   "source": [
    "\n",
    "help(g)"
   ]
  },
  {
   "cell_type": "code",
   "execution_count": 36,
   "metadata": {},
   "outputs": [],
   "source": []
  },
  {
   "cell_type": "code",
   "execution_count": 43,
   "metadata": {},
   "outputs": [],
   "source": [
    "y.get_repos()[0].full_name"
   ]
  },
  {
   "cell_type": "code",
   "execution_count": 51,
   "metadata": {},
   "outputs": [],
   "source": []
  },
  {
   "cell_type": "code",
   "execution_count": 55,
   "metadata": {
    "collapsed": true,
    "jupyter": {
     "outputs_hidden": true
    }
   },
   "outputs": [],
   "source": [
    "help(repo1.get_dir_contents(\"\")[0])"
   ]
  },
  {
   "cell_type": "code",
   "execution_count": 56,
   "metadata": {},
   "outputs": [],
   "source": [
    "\n",
    "repo1.get_dir_contents(\"\")[0].path"
   ]
  },
  {
   "cell_type": "code",
   "execution_count": 61,
   "metadata": {},
   "outputs": [],
   "source": [
    "\n"
   ]
  },
  {
   "cell_type": "code",
   "execution_count": 131,
   "metadata": {},
   "outputs": [],
   "source": [
    "x=requests.get(repo1.get_contents(\"\")[0].raw_data['download_url'])"
   ]
  },
  {
   "cell_type": "code",
   "execution_count": 132,
   "metadata": {},
   "outputs": [],
   "source": [
    "query_text=x.text"
   ]
  },
  {
   "cell_type": "code",
   "execution_count": 133,
   "metadata": {},
   "outputs": [],
   "source": [
    "query_text"
   ]
  },
  {
   "cell_type": "code",
   "execution_count": 134,
   "metadata": {},
   "outputs": [],
   "source": [
    "\n",
    "\n",
    "# Remove newline characters (\\n)\n",
    "# Collapse multiple spaces into single spaces with \" \".join(<>.split(\" \"))\n",
    "# Separate code blocks using \";\""
   ]
  },
  {
   "cell_type": "code",
   "execution_count": 135,
   "metadata": {},
   "outputs": [],
   "source": [
    "import re\n"
   ]
  },
  {
   "cell_type": "code",
   "execution_count": 147,
   "metadata": {},
   "outputs": [],
   "source": [
    "create_tables=find_gcp_table_names(\"create or replace table \",\" \".join(query_text.replace('\\n',' ').split(\" \")))\n",
    "create_views=find_gcp_table_names(\"create or replace view \",\" \".join(query_text.replace('\\n',' ').split(\" \")))\n",
    "from_tables=find_gcp_table_names(\"from \",\" \".join(query_text.replace('\\n',' ').split(\" \")))\n",
    "join_tables=find_gcp_table_names(\"join \",\" \".join(query_text.replace('\\n',' ').split(\" \")))\n",
    "insert_tables=find_gcp_table_names(\"insert \",\" \".join(query_text.replace('\\n',' ').split(\" \")))"
   ]
  },
  {
   "cell_type": "code",
   "execution_count": 148,
   "metadata": {},
   "outputs": [],
   "source": [
    "create_views"
   ]
  },
  {
   "cell_type": "code",
   "execution_count": 81,
   "metadata": {},
   "outputs": [],
   "source": [
    "from_tables"
   ]
  },
  {
   "cell_type": "code",
   "execution_count": null,
   "metadata": {},
   "outputs": [],
   "source": [
    "CREATE \n",
    "INSERT\n",
    "INSERT INTO \n",
    "DELETE\n",
    "DELETE FROM\n",
    "UPDATE \n",
    "MERGE\n",
    "MERGE INTO \n",
    "\n",
    "\n",
    "FROM \n",
    "JOIN\n",
    "USING \n",
    "COMMA"
   ]
  }
 ],
 "metadata": {
  "kernelspec": {
   "display_name": "Python 3",
   "language": "python",
   "name": "python3"
  },
  "language_info": {
   "codemirror_mode": {
    "name": "ipython",
    "version": 3
   },
   "file_extension": ".py",
   "mimetype": "text/x-python",
   "name": "python",
   "nbconvert_exporter": "python",
   "pygments_lexer": "ipython3",
   "version": "3.7.6"
  }
 },
 "nbformat": 4,
 "nbformat_minor": 4
}
