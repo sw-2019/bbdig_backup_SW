{
 "cells": [
  {
   "cell_type": "code",
   "execution_count": 1,
   "metadata": {},
   "outputs": [],
   "source": [
    "my_file_handle=open(r\"C:\\Users\\SWA63\\OneDrive - Sky\\Steve Python Scripts\\Test code to import.txt\")\n",
    "mytext=my_file_handle.read()"
   ]
  },
  {
   "cell_type": "code",
   "execution_count": 2,
   "metadata": {},
   "outputs": [],
   "source": [
    "import re"
   ]
  },
  {
   "cell_type": "code",
   "execution_count": 3,
   "metadata": {},
   "outputs": [],
   "source": [
    "list(set([x[1:-1] for x in re.findall(\"`[a-zA-Z0-9_-]*\\.[a-zA-Z0-9_-]*\\.[a-zA-Z0-9_-]*`\",mytext)]))"
   ]
  },
  {
   "cell_type": "code",
   "execution_count": 4,
   "metadata": {},
   "outputs": [],
   "source": [
    "def find_gcp_table_names(find_string,text_file):\n",
    "\n",
    "    return list(set([re.sub(find_string,\"\", x)[1:-1] for x in re.findall(find_string+\"`[a-z0-9_-]*\\.[a-z0-9_-]*\\.[a-z0-9_-]*`\",text_file.lower())]))"
   ]
  },
  {
   "cell_type": "code",
   "execution_count": 37,
   "metadata": {},
   "outputs": [],
   "source": [
    "create_tables=find_gcp_table_names(\"create or replace table \")\n",
    "from_tables=find_gcp_table_names(\"from \")\n",
    "join_tables=find_gcp_table_names(\"join \")\n",
    "insert_tables=find_gcp_table_names(\"insert \")"
   ]
  },
  {
   "cell_type": "code",
   "execution_count": 35,
   "metadata": {},
   "outputs": [],
   "source": [
    "from_tables"
   ]
  },
  {
   "cell_type": "code",
   "execution_count": 36,
   "metadata": {},
   "outputs": [],
   "source": [
    "create_tables"
   ]
  },
  {
   "cell_type": "code",
   "execution_count": 5,
   "metadata": {},
   "outputs": [],
   "source": [
    "\n",
    "\n",
    "extension_dict={\".sas\":\"SAS\", \".epg\":\"SAS Enterprise Guide\",\".txt\":\"Raw Text\", \".sql\":\"SQL file\"}\n",
    "file_list={}\n",
    "import os\n",
    "import re\n",
    "path=(r\"C:\\Users\\SWA63\\OneDrive - Sky\\Steve Python Scripts\") \n",
    "#Loop through the files in the given directory\n",
    "for subdir, dirs, files in os.walk(path):       \n",
    "    for file in files:\n",
    "        edgelist=[]\n",
    "        frompath = subdir + os.sep + file #Get full path\n",
    "        extension=os.path.splitext(file)[-1]\n",
    "        \n",
    "        if extension in [key for key in extension_dict]:\n",
    "            print(file)\n",
    "            my_file_handle=open(frompath)\n",
    "            mytext=my_file_handle.read()\n",
    "            for n,i in enumerate(re.split(\"create or replace table `|insert `|insert into `|create table `\",mytext.lower())):\n",
    "                print(\"Loop \",n)\n",
    "                create_tables=find_gcp_table_names(\"create table \",\"create table `\"+i)+find_gcp_table_names(\"insert \",i)\n",
    "                from_tables=list(set(find_gcp_table_names(\"from \",i)+find_gcp_table_names(\"join \",i)))\n",
    "                \n",
    "                if len(create_tables)>1:\n",
    "                    print(\"ERROR: Two+ create table statements found, but only first will be matched to variables!\")\n",
    "                \n",
    "                if len(create_tables)==0:\n",
    "                    create_tables.append(\"Data source required for code logic\")\n",
    "                \n",
    "                for x in from_tables:\n",
    "                        edgelist.append((x,create_tables[0]))\n",
    "                        \n",
    "                file_list[os.path.splitext(file)[0]]={\"nodes\":list(set([x[0] for x in edgelist]+[x[1] for x in edgelist])),\\\n",
    "                                                      \"edges\":edgelist,\\\n",
    "                                                     \"filepath\":frompath,\\\n",
    "                                                     \"filename\":file,\n",
    "                                                     \"filetype\":extension_dict[extension]}\n",
    "                \n",
    "file_list               "
   ]
  },
  {
   "cell_type": "code",
   "execution_count": 13,
   "metadata": {},
   "outputs": [],
   "source": [
    "import syntasa_variable_mapping as svm\n",
    "mygraph=svm.Create_graph(nodes,edgelist)\n"
   ]
  },
  {
   "cell_type": "code",
   "execution_count": 14,
   "metadata": {},
   "outputs": [],
   "source": [
    "svm.plot_dir_graph(mygraph)"
   ]
  },
  {
   "cell_type": "code",
   "execution_count": 20,
   "metadata": {},
   "outputs": [],
   "source": [
    "# Can it handle?\n",
    "\n",
    "#--> SAS files\n",
    "#--> SAS EPG files\n",
    "# Tableau direct SQL??\n",
    "# Raw text?\n",
    "# GCP stuff directly?\n"
   ]
  },
  {
   "cell_type": "code",
   "execution_count": null,
   "metadata": {},
   "outputs": [],
   "source": []
  }
 ],
 "metadata": {
  "kernelspec": {
   "display_name": "Python 3",
   "language": "python",
   "name": "python3"
  },
  "language_info": {
   "codemirror_mode": {
    "name": "ipython",
    "version": 3
   },
   "file_extension": ".py",
   "mimetype": "text/x-python",
   "name": "python",
   "nbconvert_exporter": "python",
   "pygments_lexer": "ipython3",
   "version": "3.7.6"
  }
 },
 "nbformat": 4,
 "nbformat_minor": 4
}
