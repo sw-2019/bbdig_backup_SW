{
 "cells": [
  {
   "cell_type": "markdown",
   "metadata": {},
   "source": [
    "# Deprecated sections\n",
    "Holding it just in case. \n",
    "Shouldnt really need it cos of git etc - but havent been particularly diligent posting things up"
   ]
  },
  {
   "cell_type": "code",
   "execution_count": 13,
   "metadata": {},
   "outputs": [],
   "source": [
    "# i will need the longest path length (defines the width of the graph!)\n",
    "longest_path = len(nx.dag_longest_path(T))\n",
    "\n",
    "# i dont know why but you can only use the sort one time when its defined.. so saving it to a list for ease\n",
    "topo_order = list(nx.topological_sort(T))\n",
    "\n",
    "# run through the nodes\n",
    "# (start nodes) nodes with no predecessors : 0\n",
    "# (terminus nodes) essentially reports : longest_path\n",
    "# all others : \n",
    "# - search the predecessors (this is possible because the sort if a topo sort!) \n",
    "# - take the position so far from the predecessors\n",
    "x_pos = dict(T.nodes)\n",
    "for i in topo_order:\n",
    "    x_pos[i] = 0    \n",
    "    if T.in_degree(i) == 0 : \n",
    "        pass \n",
    "    elif i in known_reports: \n",
    "        x_pos[i] = longest_path -1\n",
    "    else :\n",
    "        max_value_from_predecessor = 0\n",
    "        for j in T.predecessors(i):\n",
    "            max_value_from_predecessor = max(max_value_from_predecessor,x_pos[j])\n",
    "        x_pos[i] = max_value_from_predecessor + 1\n",
    "      \n",
    "# set the y position\n",
    "# assign any old order for now, so long as not overlapping. \n",
    "# consider in the future some enhancements here\n",
    "y_pos = dict(T.nodes)\n",
    "for i in range(0,len(nx.dag_longest_path(T))+1) : \n",
    "    iterator = 0\n",
    "    for key, value in x_pos.items(): \n",
    "        if value == i : \n",
    "            y_pos[key] = iterator \n",
    "            iterator += 1\n",
    "    # redistributes the y coords\n",
    "    # feels clunky\n",
    "    for key, value in x_pos.items(): \n",
    "        if value == i : \n",
    "            y_pos[key] = y_pos[key] / iterator\n",
    "            \n",
    "# combine the x and the y coords \n",
    "pos = {key: [value, y_pos[key]] for key, value in x_pos.items()}\n",
    "\n",
    "# hit me with a graph\n",
    "nx.draw(T, pos, with_labels = False)"
   ]
  },
  {
   "cell_type": "code",
   "execution_count": null,
   "metadata": {},
   "outputs": [],
   "source": [
    "give nodes attributes:\n",
    "    colour for source, report, midway, view, table\n",
    "    \n",
    "come up with position algorithm \n"
   ]
  },
  {
   "cell_type": "code",
   "execution_count": null,
   "metadata": {},
   "outputs": [],
   "source": [
    "# need to remove objects if they do not contribute to a mart or a report\n",
    "# this is a set of nodes that are terminal\n",
    "# we might want to remove these from the diagram to make it simpler.. \n",
    "iteration = 1\n",
    "while iteration == 1 or len(remove) != 0 : \n",
    "\n",
    "    potentially_remove = {node for node,degree in dict(T.out_degree()).items() if degree == 0}\n",
    "    remove = potentially_remove.difference(known_marts, known_reports)\n",
    "    print(f\"--- iteration number : {iteration}\" ,end = \"\")\n",
    "    print(f\"original size of T : {len(list(T.nodes))}\" ,end = \"\")\n",
    "    print(f\"terminus nodes : {len(potentially_remove)}\" ,end = \"\")\n",
    "    print(f\"unacceptable terminus nodes : {len(remove)}\" ,end = \"\")\n",
    "    T.remove_nodes_from(remove)\n",
    "    print(f\"new size of T : {len(list(T.nodes))}\")\n",
    "    iteration+=1\n",
    "\n",
    "# hit me with a diagram \n",
    "nx.draw(T, with_labels = False)"
   ]
  },
  {
   "cell_type": "code",
   "execution_count": null,
   "metadata": {},
   "outputs": [],
   "source": [
    "# the degree of this object seemed wrong\n",
    "# so making a smaller graph of it\n",
    "looking_for = '`itv-bde-analytics-dev.britbox_sandbox.ss_KPI_highlevel`'\n",
    "cutdown_df = everything2.loc[\n",
    "    (everything2['destination_object'] == looking_for)\n",
    "     | (everything2['created_from_full'] == looking_for)\n",
    "]\n",
    "cutdown_df\n",
    "\n",
    "# create a graph\n",
    "U = nx.from_pandas_edgelist(\n",
    "    cutdown_df\n",
    "    , 'created_from_full'\n",
    "    , 'destination_object'\n",
    "    , None\n",
    "    , nx.DiGraph\n",
    "    )\n",
    "\n",
    "# draw it lol \n",
    "nx.draw(U, with_labels = True)\n",
    "\n",
    "for i,j in dict(U.in_degree()).items():\n",
    "    print(i,j)"
   ]
  },
  {
   "cell_type": "code",
   "execution_count": 54,
   "metadata": {},
   "outputs": [],
   "source": [
    "# draw planar graph\n",
    "nx.draw_planar(T, with_labels = True)\n",
    "\n",
    "# get planar coords, then draw graph\n",
    "pos = nx.planar_layout(T)\n",
    "nx.draw(T,pos, with_labels = True)\n",
    "\n",
    "# define my own positioning\n",
    "test = dict(T.nodes)\n",
    "test['`itv-bde-svod-dev.svod_entitlements.entitlements`'] = [0,-1]\n",
    "test['`itv-bde-analytics-dev.britbox_sandbox.ssna_1`'] = [0,2]\n",
    "test['`itv-bde-analytics-dev.britbox_sandbox.ssna_2`'] = [2,0]\n",
    "test['`itv-bde-analytics-dev.britbox_sandbox.ssna_3`'] = [4,4]\n",
    "test['`itv-bde-analytics-dev.britbox_sandbox.ssna_4`'] = [8,8]\n",
    "nx.draw(T,test, with_labels = True)"
   ]
  }
 ],
 "metadata": {
  "kernelspec": {
   "display_name": "Python 3",
   "language": "python",
   "name": "python3"
  },
  "language_info": {
   "codemirror_mode": {
    "name": "ipython",
    "version": 3
   },
   "file_extension": ".py",
   "mimetype": "text/x-python",
   "name": "python",
   "nbconvert_exporter": "python",
   "pygments_lexer": "ipython3",
   "version": "3.7.6"
  }
 },
 "nbformat": 4,
 "nbformat_minor": 4
}
