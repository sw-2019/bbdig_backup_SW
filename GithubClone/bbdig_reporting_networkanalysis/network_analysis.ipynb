{
 "cells": [
  {
   "cell_type": "markdown",
   "metadata": {},
   "source": [
    "## Python set up"
   ]
  },
  {
   "cell_type": "code",
   "execution_count": 3,
   "metadata": {},
   "outputs": [],
   "source": [
    "# Load custom scripts in reusable_code folder - do you have to do this every time? \n",
    "import sys\n",
    "sys.path.append(r'/home/jupyter/reusable_code')\n",
    "sys.path.append(r'/home/jupyter/GithubClose/bbdig_reporting_networkanalysis')\n",
    "\n",
    "!pip install bigquery_helper\n",
    "import pandas as pd\n",
    "import networkx as nx\n",
    "import matplotlib.pyplot as plt\n",
    "import plotly.graph_objects as go\n",
    "\n",
    "from google.cloud import bigquery\n",
    "from pandasql import sqldf  \n",
    "\n",
    "import google_api_functions as gaf\n",
    "import bigquery_helper as bqh\n",
    "import network_functions as nf\n",
    "\n",
    "# set up credentials \n",
    "creds=gaf.Authenticate_Google(r'/home/jupyter/reusable_code/')"
   ]
  },
  {
   "cell_type": "markdown",
   "metadata": {},
   "source": [
    "--------------------------------------------\n",
    "--------------------------------------------"
   ]
  },
  {
   "cell_type": "markdown",
   "metadata": {},
   "source": [
    "## General"
   ]
  },
  {
   "cell_type": "code",
   "execution_count": null,
   "metadata": {},
   "outputs": [],
   "source": [
    "loc = '/home/jupyter/network_analysis/bbdig_reporting_networkanalysis/'\n",
    "\n",
    "# pull in the data\n",
    "\n",
    "# add nodes and edges\n",
    "\n",
    "## use table names as nodes\n",
    "## from -> to as the directed edge\n",
    "## atributes - view / table / report / source"
   ]
  },
  {
   "cell_type": "markdown",
   "metadata": {},
   "source": [
    "## Views\n",
    "A look at the views in the various projects we can write to"
   ]
  },
  {
   "cell_type": "markdown",
   "metadata": {},
   "source": [
    "### pull in the data"
   ]
  },
  {
   "cell_type": "code",
   "execution_count": null,
   "metadata": {},
   "outputs": [],
   "source": [
    "# set up the view - can be omitted really as its a view\n",
    "set_up = ['views.sql', 'views2.sql']\n",
    "set_up2 = [loc + script for script in set_up]\n",
    "\n",
    "# run the scripts on bq\n",
    "bq = bigquery.Client(project='itv-bde-analytics-prd',credentials=creds)\n",
    "bqh.run_files(bq, set_up2)\n",
    "\n",
    "# pull the lot into python \n",
    "sql = \"\"\"\n",
    "select * \n",
    "from `itv-bde-analytics-prd.britbox_analytics.network_analysis_views`\n",
    "order by destination_object\n",
    "\"\"\"\n",
    "query_job = bq.query(sql, location = \"EU\")\n",
    "views = query_job.to_dataframe() "
   ]
  },
  {
   "cell_type": "markdown",
   "metadata": {},
   "source": [
    "## Tables\n",
    "A look at the tables we have created. This analyses all the queries ever run up to a static point"
   ]
  },
  {
   "cell_type": "code",
   "execution_count": null,
   "metadata": {},
   "outputs": [],
   "source": [
    "# set up the view - can be omitted really as its a view\n",
    "set_up = ['tables.sql', 'tables2.sql']\n",
    "set_up2 = [loc + script for script in set_up]\n",
    "\n",
    "# run the scripts on bq\n",
    "bq = bigquery.Client(project='itv-bde-analytics-prd',credentials=creds)\n",
    "bqh.run_files(bq, set_up2)\n",
    "\n",
    "# pull the lot into python \n",
    "sql = \"\"\"\n",
    "select * \n",
    "from `itv-bde-analytics-prd.britbox_analytics.network_analysis_tables`\n",
    "order by destination_object\n",
    "\"\"\"\n",
    "query_job = bq.query(sql, location = \"EU\")\n",
    "tables = query_job.to_dataframe() \n"
   ]
  },
  {
   "cell_type": "markdown",
   "metadata": {},
   "source": [
    "## Reporting Doc (gsheet)\n",
    "Pulling in from the GCP Reporting doc that we need\n",
    "This provides the end nodes (ie the reports)"
   ]
  },
  {
   "cell_type": "code",
   "execution_count": null,
   "metadata": {},
   "outputs": [],
   "source": [
    "# pull info out of gsheets\n",
    "r , reports = gaf.read_google_sheets_as_rows(\n",
    "    '10YrdDZaAdoVdXrpSEtmUQ8U6A8KW37LgkGLrei1iVZw'\n",
    "    ,'Live Reports!A:T'\n",
    "    ,creds\n",
    "    ,header_row=0\n",
    ")\n",
    "\n",
    "# take just those reports that we own\n",
    "cols = ['Report Name', 'GCP tables used', 'BI Tool']\n",
    "reports2 = reports[cols].loc[reports['Maintained by'] == 'BritBox Analytics']\n",
    "\n",
    "# ripped this method off of here: \n",
    "# https://medium.com/@sureshssarda/pandas-splitting-exploding-a-column-into-multiple-rows-b1b1d59ea12e\n",
    "# make a new series from the original column\n",
    "# split the original column by the delimter new-line\n",
    "# kept falling over because of None data type, so make this the empty string\n",
    "new_df = pd.DataFrame(\n",
    "    reports2['GCP tables used'].str.split(\"\\n\").fillna('').tolist()\n",
    "     , index = [reports2['Report Name'], reports2['BI Tool']]\n",
    "    ).stack()\n",
    "\n",
    "# Remove the (multi) indexes from the series\n",
    "# this has the happy (?) benefit of changing the series to a df\n",
    "# also drops the *counter* index aka 0... \n",
    "new_df = new_df.reset_index(['Report Name', 'BI Tool', 0])\n",
    "\n",
    "# rename your fields \n",
    "new_df.columns = ['Report Name', 'BI Tool', 'Created From']\n",
    "\n",
    "# a bit of rejiging to get it in the right format (right field names etc)\n",
    "reports3 = new_df\n",
    "reports3 = reports3.rename(columns = {\n",
    "    'Report Name' : 'destination_object'\n",
    "    , 'BI Tool' : 'definition'\n",
    "    , 'Created From' : 'created_from_full'\n",
    "    }\n",
    ")\n",
    "\n",
    "# add a field\n",
    "reports3['type'] = 'Report'\n",
    "reports3['destination_object'] = reports3['destination_object'].str.strip()\n",
    "reports3['created_from_full'] = reports3['created_from_full'].str.strip()\n",
    "# reports3"
   ]
  },
  {
   "cell_type": "markdown",
   "metadata": {},
   "source": [
    "## Putting it all together\n",
    "Combining all the nodes and checking for any inconsistencies. \n",
    "\n",
    "Views will take precedence over tables where there are conflicts"
   ]
  },
  {
   "cell_type": "code",
   "execution_count": null,
   "metadata": {},
   "outputs": [],
   "source": [
    "# combine the three sets of nodes\n",
    "# https://pandas.pydata.org/pandas-docs/stable/user_guide/merging.html\n",
    "\n",
    "# what columsn do we want \n",
    "# cut down the dataframes created so far to just those columns\n",
    "cols = [\n",
    "    'destination_object'\n",
    "    , 'created_from_full'\n",
    "    , 'definition'\n",
    "    , 'type'\n",
    "]\n",
    "the_tables = tables[cols]\n",
    "the_views = views[cols]\n",
    "the_reports = reports3[cols]\n",
    "\n",
    "# smash them together\n",
    "frames = [the_tables, the_views, the_reports]\n",
    "everything = pd.concat(frames)\n",
    "everything = everything.reset_index(drop = True)"
   ]
  },
  {
   "cell_type": "markdown",
   "metadata": {},
   "source": [
    "### Exclusions. \n",
    "A few nodes need exlucding as was getting circular references. this is a problem as we need a directed acylcical graph"
   ]
  },
  {
   "cell_type": "code",
   "execution_count": null,
   "metadata": {},
   "outputs": [],
   "source": [
    "records_to_exclude = [\n",
    "    '`itv-bde-analytics-dev.britbox_sandbox.SB_stripe_iTunes_conversions_final`'\n",
    "    , '`itv-bde-analytics-dev.britbox_sandbox.SB_stripe_iTunes_conversions_tables`'\n",
    "]\n",
    "everything2 = everything.loc[~everything['destination_object'].isin(records_to_exclude)]\n",
    "everything2 = everything2.reset_index(drop = True)"
   ]
  },
  {
   "cell_type": "markdown",
   "metadata": {},
   "source": [
    "### Dealing with the case of conflicting defintions\n",
    "this is mainly between tables and views (as the views will be only ever the \"latest\") \n",
    "and also tables and tables. \n",
    "\n",
    "**-----------Skip for now---------**"
   ]
  },
  {
   "cell_type": "code",
   "execution_count": null,
   "metadata": {},
   "outputs": [],
   "source": [
    "# it would be possible for a destination_object to appear in the tables and the views part \n",
    "# so need somethig that prioritises the views (as these are current, tables are snapshots)\n",
    "\n",
    "# # urgh this is me trying to use pandas methods and not just sql like code... couldnt figure it out tho. revisit\n",
    "# # just check if there are conflicts (ie multiple definitions per destination object) \n",
    "# everything['hi'] = everything.sort_values(['type', 'definition'], ascending=[False, True]) \\\n",
    "#     .groupby(['destination_object', 'type', 'definition']) \\\n",
    "#     .rank() \n",
    "# everything\n",
    "\n",
    "# so simple in SQL, cant figure out the pandas way\n",
    "sql = '''\n",
    "select \n",
    "    *, dense_rank() over (partition by destination_object order by type desc) as hihi\n",
    "from everything \n",
    "'''\n",
    "hi = sqldf(sql)\n",
    "# hi.loc[hi['hihi']!= 1]\n",
    "# its never happened?! hmm.... moving on for now. "
   ]
  },
  {
   "cell_type": "markdown",
   "metadata": {},
   "source": [
    "### Create a full graph \n",
    "add nodes and edges from the dataframe we have gathered"
   ]
  },
  {
   "cell_type": "code",
   "execution_count": null,
   "metadata": {},
   "outputs": [],
   "source": [
    "# create a graph\n",
    "T = nx.from_pandas_edgelist(\n",
    "    everything2\n",
    "    , 'created_from_full'\n",
    "    , 'destination_object'\n",
    "    , None\n",
    "    , nx.DiGraph\n",
    "    )\n",
    "\n",
    "# draw it lol \n",
    "# nx.draw(T, with_labels = False)"
   ]
  },
  {
   "cell_type": "markdown",
   "metadata": {},
   "source": [
    "### Some node types defined"
   ]
  },
  {
   "cell_type": "code",
   "execution_count": null,
   "metadata": {},
   "outputs": [],
   "source": [
    "# stick as many classifications as you like in \n",
    "known_reports = set(reports3['destination_object'])\n",
    "known_sources = set([\n",
    "    '`itv-bde-svod-dev.svod_entitlements.entitlements`'\n",
    "    , '`itv-bde-svod-prd.svod_entitlements.entitlements`'\n",
    "])\n",
    "known_marts = set([\n",
    "    '`itv-bde-analytics-prd.britbox_analytics.entitlements`'\n",
    "    , '`itv-bde-analytics-dev.britbox_analytics.Viewing_clean`'\n",
    "    , '`itv-bde-analytics-dev.britbox_sandbox.Viewing_clean`'\n",
    "])\n",
    "known_simon = set([\n",
    "    '`itv-bde-analytics-dev.britbox_sandbox.ss_entitlements`'\n",
    "])\n",
    "known_pre_marts = set([\n",
    "    '`itv-bde-analytics-dev.britbox_sandbox.ss_stripe_layer2`'\n",
    "    , '`itv-bde-analytics-dev.britbox_sandbox.ss_itunes_layer2`'\n",
    "    , '`itv-bde-analytics-dev.britbox_sandbox.ss_ee_layer2`'\n",
    "    , '`itv-bde-analytics-prd.britbox_sandbox.ss_bt_layer2`'\n",
    "])"
   ]
  },
  {
   "cell_type": "markdown",
   "metadata": {},
   "source": [
    "### Cut down the graph. \n",
    "Everythign has to ultimately feed a report. \n",
    "If it doesnt it is culled. \n",
    "For this reason it is important that the reporting tracker is well maintained."
   ]
  },
  {
   "cell_type": "code",
   "execution_count": null,
   "metadata": {},
   "outputs": [],
   "source": [
    "# need to remove objects if they do not contribute to a mart or a report\n",
    "# this is a set of nodes that are terminal\n",
    "# we might want to remove these from the diagram to make it simpler..        \n",
    "important_nodes = known_marts.union(known_reports)\n",
    "nf.cutdown_unimportant_nodes(T, important_nodes)\n",
    "\n",
    "# hit me with a diagram \n",
    "# nx.draw(T, with_labels = False)\n"
   ]
  },
  {
   "cell_type": "markdown",
   "metadata": {},
   "source": [
    "### Save the graph"
   ]
  },
  {
   "cell_type": "code",
   "execution_count": null,
   "metadata": {},
   "outputs": [],
   "source": [
    "# save the bastard to avoid going through that faff above\n",
    "nx.write_gpickle(T,\"test_graph.gpickle\")"
   ]
  },
  {
   "cell_type": "markdown",
   "metadata": {},
   "source": [
    "--------------------------------------------\n",
    "--------------------------------------------"
   ]
  },
  {
   "cell_type": "markdown",
   "metadata": {},
   "source": [
    "### Pick up the graph"
   ]
  },
  {
   "cell_type": "code",
   "execution_count": null,
   "metadata": {},
   "outputs": [],
   "source": [
    "T = nx.read_gpickle(\"test_graph.gpickle\")"
   ]
  },
  {
   "cell_type": "markdown",
   "metadata": {},
   "source": [
    "### Set position of the nodes"
   ]
  },
  {
   "cell_type": "code",
   "execution_count": null,
   "metadata": {},
   "outputs": [],
   "source": [
    "x_pos = nf.xpos_left_aligned(T)\n",
    "y_pos = nf.ypos_simple_distributed(T, x_pos)\n",
    "pos = {key: [value, y_pos[key]] for key, value in x_pos.items()}\n",
    "# nx.draw(T, pos, with_labels = False)"
   ]
  },
  {
   "cell_type": "markdown",
   "metadata": {},
   "source": [
    "### Some node types defined"
   ]
  },
  {
   "cell_type": "code",
   "execution_count": null,
   "metadata": {},
   "outputs": [],
   "source": [
    "# stick as many classifications as you like in \n",
    "known_reports = set([\n",
    "    'Axis Catalogue'\n",
    "    , 'BBC PS Reporting'\n",
    "    , 'BBC Partnership Board Reporting'\n",
    "    , 'Brand Tracker'\n",
    "    , 'Connected TV Revenue Share'\n",
    "    , 'Contact Centre Data Feed'\n",
    "    , 'Content Delta Reporting'\n",
    "    , 'Content Reporting: Channel 4'\n",
    "    , 'Content Reporting: Channel 5'\n",
    "    , 'Content Reporting: Channel BBC'\n",
    "    , 'Content Reporting: Channel NBCU'\n",
    "    , 'Joiners Survey'\n",
    "    , 'Marketing Attribution Dashboard'\n",
    "    , 'PES Data Quality Dashboard'\n",
    "    , 'PRS Music Reporting'\n",
    "    , 'Spitting Image Launch Dashboard'\n",
    "    , 'Spitting Image Launch Dashboard (backup)'\n",
    "    , 'Trading Dashboard'\n",
    "    , 'Viewing Toplines'\n",
    "])\n",
    "known_sources = set([\n",
    "    '`itv-bde-svod-dev.svod_entitlements.entitlements`'\n",
    "    , '`itv-bde-svod-prd.svod_entitlements.entitlements`'\n",
    "])\n",
    "known_marts = set([\n",
    "    '`itv-bde-analytics-prd.britbox_analytics.entitlements`'\n",
    "    , '`itv-bde-analytics-dev.britbox_analytics.Viewing_clean`'\n",
    "    , '`itv-bde-analytics-dev.britbox_sandbox.Viewing_clean`'\n",
    "])\n",
    "known_simon = set([\n",
    "    '`itv-bde-analytics-dev.britbox_sandbox.ss_entitlements`'\n",
    "])\n",
    "known_pre_marts = set([\n",
    "    '`itv-bde-analytics-dev.britbox_sandbox.ss_stripe_layer2`'\n",
    "    , '`itv-bde-analytics-dev.britbox_sandbox.ss_itunes_layer2`'\n",
    "    , '`itv-bde-analytics-dev.britbox_sandbox.ss_ee_layer2`'\n",
    "    , '`itv-bde-analytics-prd.britbox_sandbox.ss_bt_layer2`'\n",
    "])\n",
    "\n",
    "## do some colouring\n",
    "# groups of nodes that should be coloured the same. each group coloured differently \n",
    "colourings = [known_reports, known_sources, known_marts, known_simon, known_pre_marts]"
   ]
  },
  {
   "cell_type": "markdown",
   "metadata": {},
   "source": [
    "### Coloured version of the graph"
   ]
  },
  {
   "cell_type": "code",
   "execution_count": null,
   "metadata": {},
   "outputs": [],
   "source": [
    "# run the colouring algorithm (lol is this an algorithm?)\n",
    "the_colours = nf.node_type(T,colourings, inplace = False)\n",
    "\n",
    "# draw it\n",
    "plt.figure(3,figsize=(12,12)) \n",
    "nx.draw(\n",
    "    T\n",
    "    , pos\n",
    "    , with_labels = False\n",
    "    , node_size=60\n",
    "    , font_size=8\n",
    "    , node_color = list(the_colours.values())\n",
    ")\n",
    "plt.show()\n",
    "#### there looks to be a node out of place"
   ]
  },
  {
   "cell_type": "markdown",
   "metadata": {},
   "source": [
    "### Example: Cut down the graph to an interesting node"
   ]
  },
  {
   "cell_type": "code",
   "execution_count": null,
   "metadata": {},
   "outputs": [],
   "source": [
    "## get subnodes and generate subgraph\n",
    "subnodes = nf.subnodes(T, ['`itv-bde-analytics-prd.britbox_analytics.entitlements`'])\n",
    "# subnodes = nf.subnodes(T,['Trading Dashboard'])\n",
    "# subnodes = nf.predecessor_subnodes(T,['`itv-bde-analytics-dev.britbox_sandbox.ss_new_entitlement_stripe_layer1`'])\n",
    "# subnodes = nf.predecessor_subnodes(T,['`itv-bde-analytics-dev.britbox_sandbox.ss_stripe_layer1`'])\n",
    "U = nx.subgraph(T, subnodes)\n",
    "\n",
    "## set new postitions of the nodes (optional)\n",
    "U_x_pos = nf.xpos_left_aligned(U)\n",
    "U_y_pos = nf.ypos_simple_distributed(U, U_x_pos)\n",
    "U_pos = {key: [value, U_y_pos[key]] for key, value in U_x_pos.items()}\n",
    "\n",
    "# run the colouring algorithm (lol is this an algorithm?)\n",
    "the_colours = nf.node_type(U,colourings, inplace = False)\n",
    "\n",
    "# draw it\n",
    "plt.figure(3,figsize=(12,12)) \n",
    "nx.draw(\n",
    "    U\n",
    "    , U_pos\n",
    "    , with_labels = False\n",
    "    , node_size=60\n",
    "    , font_size=8\n",
    "    , node_color = list(the_colours.values())\n",
    ")\n",
    "plt.show()"
   ]
  },
  {
   "cell_type": "markdown",
   "metadata": {},
   "source": [
    "### Example: Testing a different position algorithm"
   ]
  },
  {
   "cell_type": "code",
   "execution_count": null,
   "metadata": {},
   "outputs": [],
   "source": [
    "ypos_test = nf.ypos_(U,U_x_pos)\n",
    "U_pos = {key: [value, ypos_test[key]] for key, value in U_x_pos.items()}\n",
    "\n",
    "# run the colouring algorithm (lol is this an algorithm?)\n",
    "the_colours = nf.node_type(U,colourings, inplace = False)\n",
    "\n",
    "# draw it\n",
    "plt.figure(3,figsize=(12,12)) \n",
    "nx.draw(\n",
    "    U\n",
    "    , U_pos\n",
    "    , with_labels = False\n",
    "    , node_size=60\n",
    "    , font_size=8\n",
    "    , node_color = list(the_colours.values())\n",
    ")\n",
    "plt.show()"
   ]
  },
  {
   "cell_type": "markdown",
   "metadata": {},
   "source": [
    "### Example: collapse the nodes"
   ]
  },
  {
   "cell_type": "code",
   "execution_count": null,
   "metadata": {},
   "outputs": [],
   "source": [
    "V = nf.collapse_nodes(U)\n",
    "## set new postitions of the nodes (optional)\n",
    "V_x_pos = nf.xpos_left_aligned(V)\n",
    "V_y_pos = nf.ypos_(V, V_x_pos)\n",
    "V_pos = {key: [value, V_y_pos[key]] for key, value in V_x_pos.items()}\n",
    "\n",
    "# run the colouring algorithm (lol is this an algorithm?)\n",
    "the_colours = nf.node_type(V,colourings, inplace = False)\n",
    "\n",
    "# draw it\n",
    "plt.figure(3,figsize=(11,11)) \n",
    "nx.draw(\n",
    "    V\n",
    "    , V_pos\n",
    "    , with_labels = False\n",
    "    , node_size=60\n",
    "    , font_size=8\n",
    "    , node_color = list(the_colours.values())\n",
    ")\n",
    "plt.show()"
   ]
  },
  {
   "cell_type": "code",
   "execution_count": null,
   "metadata": {},
   "outputs": [],
   "source": []
  },
  {
   "cell_type": "code",
   "execution_count": null,
   "metadata": {},
   "outputs": [],
   "source": []
  },
  {
   "cell_type": "code",
   "execution_count": null,
   "metadata": {},
   "outputs": [],
   "source": []
  },
  {
   "cell_type": "code",
   "execution_count": null,
   "metadata": {},
   "outputs": [],
   "source": []
  },
  {
   "cell_type": "code",
   "execution_count": null,
   "metadata": {},
   "outputs": [],
   "source": []
  },
  {
   "cell_type": "code",
   "execution_count": null,
   "metadata": {},
   "outputs": [],
   "source": []
  },
  {
   "cell_type": "code",
   "execution_count": null,
   "metadata": {},
   "outputs": [],
   "source": []
  },
  {
   "cell_type": "code",
   "execution_count": null,
   "metadata": {},
   "outputs": [],
   "source": []
  },
  {
   "cell_type": "code",
   "execution_count": null,
   "metadata": {},
   "outputs": [],
   "source": []
  },
  {
   "cell_type": "code",
   "execution_count": null,
   "metadata": {},
   "outputs": [],
   "source": []
  },
  {
   "cell_type": "markdown",
   "metadata": {},
   "source": [
    "### Exploding the graph\n",
    "* assign a duff node every time an edge crosses an x position without being used. \n",
    "* this might help the ordering propogate"
   ]
  },
  {
   "cell_type": "code",
   "execution_count": null,
   "metadata": {},
   "outputs": [],
   "source": [
    "W_ = U.copy()\n",
    "nf.set_node_text(W_)\n",
    "nf.node_type(W_, colourings)\n",
    "W = nf.explode_graph(W_, U_x_pos)\n",
    "\n",
    "## set new postitions of the nodes (optional)\n",
    "W_x_pos = nf.xpos_left_aligned(W)\n",
    "W_y_pos = nf.ypos_(W, W_x_pos)\n",
    "W_pos = {key: [value, W_y_pos[key]] for key, value in W_x_pos.items()}\n",
    "\n",
    "# set the position as an attribute\n",
    "nx.set_node_attributes(W, W_pos, \"pos\")\n",
    "\n",
    "# run the colouring algorithm (lol is this an algorithm?)\n",
    "nf.node_type(W,colourings)\n",
    "\n",
    "# some dicts and lists (i dont know it changes!) for use in the drawing function\n",
    "W_pos = {w: W.nodes[w]['pos'] for w in W}\n",
    "node_size = [W.nodes[w]['is_real_node']*40 for w in W]\n",
    "node_colour = [W.nodes[w]['node_colouring'] for w in W]\n",
    "\n",
    "# draw it\n",
    "plt.figure(3,figsize=(11,11)) \n",
    "nx.draw(\n",
    "    W\n",
    "    , W_pos\n",
    "    , with_labels = False\n",
    "    , node_size=node_size\n",
    "    , font_size=8\n",
    "    , node_color = node_colour\n",
    ")\n",
    "plt.show()"
   ]
  },
  {
   "cell_type": "code",
   "execution_count": null,
   "metadata": {},
   "outputs": [],
   "source": [
    "# save the bastard to avoid going through that faff above\n",
    "nx.write_gpickle(W,\"test_graph2.gpickle\")"
   ]
  },
  {
   "cell_type": "markdown",
   "metadata": {},
   "source": [
    "---\n",
    "---"
   ]
  },
  {
   "cell_type": "code",
   "execution_count": null,
   "metadata": {},
   "outputs": [],
   "source": [
    "W = nx.read_gpickle(\"test_graph2.gpickle\")"
   ]
  },
  {
   "cell_type": "code",
   "execution_count": null,
   "metadata": {},
   "outputs": [],
   "source": []
  },
  {
   "cell_type": "code",
   "execution_count": null,
   "metadata": {},
   "outputs": [],
   "source": []
  },
  {
   "cell_type": "code",
   "execution_count": null,
   "metadata": {},
   "outputs": [],
   "source": []
  },
  {
   "cell_type": "code",
   "execution_count": null,
   "metadata": {},
   "outputs": [],
   "source": []
  },
  {
   "cell_type": "code",
   "execution_count": null,
   "metadata": {},
   "outputs": [],
   "source": []
  },
  {
   "cell_type": "code",
   "execution_count": null,
   "metadata": {},
   "outputs": [],
   "source": []
  },
  {
   "cell_type": "code",
   "execution_count": null,
   "metadata": {},
   "outputs": [],
   "source": []
  },
  {
   "cell_type": "markdown",
   "metadata": {},
   "source": [
    "# The start\n",
    "of somethign magical\n",
    "* https://plotly.com/python/network-graphs/"
   ]
  },
  {
   "cell_type": "code",
   "execution_count": null,
   "metadata": {},
   "outputs": [],
   "source": [
    "# take a copy of the exploded graph\n",
    "WG = W.copy()"
   ]
  },
  {
   "cell_type": "code",
   "execution_count": null,
   "metadata": {},
   "outputs": [],
   "source": [
    "# just doing a once over on the attirbutes \n",
    "WG.nodes['`itv-bde-analytics-prd.britbox_analytics.entitlements`']\n",
    "# WG.nodes['`itv-bde-analytics-dev.britbox_sandbox.ss_account_deleted_layer0b`->`itv-bde-analytics-dev.britbox_sandbox.ss_itunes_layer1`-0']"
   ]
  },
  {
   "cell_type": "code",
   "execution_count": null,
   "metadata": {},
   "outputs": [],
   "source": [
    "## Create Edges\n",
    "## Add edges as disconnected lines in a single trace \n",
    "# seems daft that the position is already stored as an attribute on the graph, \n",
    "# but we then pull it out and create out own vars which store position\n",
    "edge_x = []\n",
    "edge_y = []\n",
    "for edge in WG.edges():\n",
    "    x0, y0 = WG.nodes[edge[0]]['pos']\n",
    "    x1, y1 = WG.nodes[edge[1]]['pos']\n",
    "    edge_x.append(x0)\n",
    "    edge_x.append(x1)\n",
    "    edge_x.append(None)\n",
    "    edge_y.append(y0)\n",
    "    edge_y.append(y1)\n",
    "    edge_y.append(None)\n",
    "\n",
    "edge_trace = go.Scatter(\n",
    "    x=edge_x, y=edge_y,\n",
    "    line=dict(width=0.5, color='#888'),\n",
    "    hoverinfo='none',\n",
    "    mode='lines')"
   ]
  },
  {
   "cell_type": "code",
   "execution_count": 46,
   "metadata": {},
   "outputs": [],
   "source": [
    "## Add nodes as a scatter trace\n",
    "# this little bit is just pulling out the attributes of the graph for use as lists\n",
    "# wrap it up in a for loop and a try as list comprehension might not work when the attribute was set before it was exploded\n",
    "node_x = []\n",
    "node_y = []\n",
    "node_texts = []\n",
    "node_colours = []\n",
    "node_sizes = []\n",
    "\n",
    "for node in WG.nodes():\n",
    "    \n",
    "    x, y = WG.nodes[node]['pos']\n",
    "    node_x.append(x)\n",
    "    node_y.append(y)\n",
    "    \n",
    "    # NODE TEXT set the text if we have it. \n",
    "    # (we may not have it because we exploded)\n",
    "    try : \n",
    "        text = WG.nodes[node]['node_text']\n",
    "    except KeyError : \n",
    "        text = ''\n",
    "    node_texts.append(text)\n",
    "    \n",
    "    # COLOURS\n",
    "    try : \n",
    "        colour = WG.nodes[node]['node_colouring']\n",
    "    except KeyError : \n",
    "        colour = 0 # would need to think harder here if i allowed non integer colours. \n",
    "    node_colours.append(colour)\n",
    "\n",
    "    # NODE SIZE\n",
    "    try : \n",
    "        size = WG.nodes[node]['is_real_node'] * 6\n",
    "    except KeyError : \n",
    "        size = 0\n",
    "    node_sizes.append(size)\n",
    "    \n",
    "# this bit is actually defining the scatter. \n",
    "node_trace = go.Scatter(\n",
    "    x=node_x, y=node_y,\n",
    "    mode='markers',\n",
    "    hoverinfo='text',\n",
    "    marker=dict(\n",
    "        showscale=False,\n",
    "        # colorscale options\n",
    "        #'Greys' | 'YlGnBu' | 'Greens' | 'YlOrRd' | 'Bluered' | 'RdBu' |\n",
    "        #'Reds' | 'Blues' | 'Picnic' | 'Rainbow' | 'Portland' | 'Jet' |\n",
    "        #'Hot' | 'Blackbody' | 'Earth' | 'Electric' | 'Viridis' |\n",
    "        colorscale='Rainbow',\n",
    "        reversescale=True,\n",
    "        color=node_colours, \n",
    "        size=node_sizes,\n",
    "        colorbar=dict(\n",
    "            thickness=15,\n",
    "            title='Node Connections',\n",
    "            xanchor='left',\n",
    "            titleside='right'\n",
    "        ),\n",
    "        line_width=2)\n",
    "    , text = node_texts\n",
    ")"
   ]
  },
  {
   "cell_type": "code",
   "execution_count": null,
   "metadata": {},
   "outputs": [],
   "source": [
    "# draw it up\n",
    "fig = go.Figure(\n",
    "            data=[edge_trace, node_trace],\n",
    "            layout=go.Layout(\n",
    "                title='<br>Network graph of views, tables, and reports for BritBox',\n",
    "                titlefont_size=16,\n",
    "                showlegend=False,\n",
    "                hovermode='closest',\n",
    "                margin=dict(b=20,l=5,r=5,t=40),\n",
    "                annotations=[ dict(\n",
    "                    text=\"For any given pair of nodes connected by an edge the right-hand node is built in some way from the left-hand node\",\n",
    "                    showarrow=False,\n",
    "                    xref=\"paper\", yref=\"paper\",\n",
    "                    x=0.005, y=-0.002 ) ],\n",
    "                xaxis=dict(showgrid=False, zeroline=False, showticklabels=False),\n",
    "                yaxis=dict(showgrid=False, zeroline=False, showticklabels=False))\n",
    "                )\n",
    "fig.show()"
   ]
  },
  {
   "cell_type": "code",
   "execution_count": null,
   "metadata": {},
   "outputs": [],
   "source": [
    "WG.nodes()"
   ]
  },
  {
   "cell_type": "code",
   "execution_count": null,
   "metadata": {},
   "outputs": [],
   "source": []
  },
  {
   "cell_type": "code",
   "execution_count": null,
   "metadata": {},
   "outputs": [],
   "source": []
  },
  {
   "cell_type": "code",
   "execution_count": null,
   "metadata": {},
   "outputs": [],
   "source": []
  },
  {
   "cell_type": "code",
   "execution_count": null,
   "metadata": {},
   "outputs": [],
   "source": []
  },
  {
   "cell_type": "code",
   "execution_count": null,
   "metadata": {},
   "outputs": [],
   "source": []
  },
  {
   "cell_type": "code",
   "execution_count": null,
   "metadata": {},
   "outputs": [],
   "source": []
  },
  {
   "cell_type": "code",
   "execution_count": null,
   "metadata": {},
   "outputs": [],
   "source": []
  },
  {
   "cell_type": "markdown",
   "metadata": {},
   "source": [
    "How should this all work? \n",
    "* i think put in the unexploded graph\n",
    "* give it attributes (colours etc)\n",
    "* explode it for drawing (so the positioning attributes should come last)\n",
    "* draw it\n",
    "\n",
    "this way attributes can persist if you want them to (ie if we have edge attribtes in the future)\n",
    "the usability of the graph remains (as were not dealing with phantom nodes that exist purely for drawing)\n"
   ]
  },
  {
   "cell_type": "code",
   "execution_count": null,
   "metadata": {},
   "outputs": [],
   "source": []
  },
  {
   "cell_type": "code",
   "execution_count": null,
   "metadata": {},
   "outputs": [],
   "source": []
  },
  {
   "cell_type": "code",
   "execution_count": null,
   "metadata": {},
   "outputs": [],
   "source": []
  },
  {
   "cell_type": "code",
   "execution_count": null,
   "metadata": {},
   "outputs": [],
   "source": []
  },
  {
   "cell_type": "markdown",
   "metadata": {},
   "source": [
    "# Example: \n",
    "Full graph, collapsed, annotated, exploded, drawn"
   ]
  },
  {
   "cell_type": "code",
   "execution_count": 73,
   "metadata": {},
   "outputs": [],
   "source": [
    "# take a copy\n",
    "S = T.copy()"
   ]
  },
  {
   "cell_type": "code",
   "execution_count": 74,
   "metadata": {},
   "outputs": [],
   "source": [
    "# collapse nodes\n",
    "S1 = nf.collapse_nodes(S)"
   ]
  },
  {
   "cell_type": "code",
   "execution_count": 75,
   "metadata": {},
   "outputs": [],
   "source": [
    "# annotate\n",
    "nf.set_node_text(S1, shortmessage = False)\n",
    "nf.node_type(S1, colourings)"
   ]
  },
  {
   "cell_type": "code",
   "execution_count": 76,
   "metadata": {},
   "outputs": [],
   "source": [
    "# explode\n",
    "S1_x_pos = nf.xpos_left_aligned(S1)\n",
    "S2 = nf.explode_graph(S1, S1_x_pos)\n",
    "\n",
    "# set y positions \n",
    "S2_x_pos = nf.xpos_left_aligned(S2)\n",
    "S2_y_pos = nf.ypos_(S2, S2_x_pos)\n",
    "S2_pos = {key: [value, S2_y_pos[key]] for key, value in S2_x_pos.items()}\n",
    "\n",
    "# set the position as an attribute\n",
    "nx.set_node_attributes(S2, S2_pos, \"pos\")"
   ]
  },
  {
   "cell_type": "code",
   "execution_count": 77,
   "metadata": {},
   "outputs": [],
   "source": [
    "# draw it - Edges\n",
    "\n",
    "## Create Edges\n",
    "## Add edges as disconnected lines in a single trace \n",
    "# seems daft that the position is already stored as an attribute on the graph, \n",
    "# but we then pull it out and create out own vars which store position\n",
    "edge_x = []\n",
    "edge_y = []\n",
    "for edge in S2.edges():\n",
    "    x0, y0 = S2.nodes[edge[0]]['pos']\n",
    "    x1, y1 = S2.nodes[edge[1]]['pos']\n",
    "    edge_x.append(x0)\n",
    "    edge_x.append(x1)\n",
    "    edge_x.append(None)\n",
    "    edge_y.append(y0)\n",
    "    edge_y.append(y1)\n",
    "    edge_y.append(None)\n",
    "\n",
    "edge_trace = go.Scatter(\n",
    "    x=edge_x, y=edge_y,\n",
    "    line=dict(width=0.5, color='#888'),\n",
    "    hoverinfo='none',\n",
    "    mode='lines')"
   ]
  },
  {
   "cell_type": "code",
   "execution_count": 78,
   "metadata": {},
   "outputs": [],
   "source": [
    "# draw it - Nodes\n",
    "\n",
    "## Add nodes as a scatter trace\n",
    "# this little bit is just pulling out the attributes of the graph for use as lists\n",
    "# wrap it up in a for loop and a try as list comprehension might not work when the attribute was set before it was exploded\n",
    "node_x = []\n",
    "node_y = []\n",
    "node_texts = []\n",
    "node_colours = []\n",
    "node_sizes = []\n",
    "\n",
    "for node in S2.nodes():\n",
    "    \n",
    "    x, y = S2.nodes[node]['pos']\n",
    "    node_x.append(x)\n",
    "    node_y.append(y)\n",
    "    \n",
    "    # NODE TEXT set the text if we have it. \n",
    "    # (we may not have it because we exploded)\n",
    "    try : \n",
    "        text = S2.nodes[node]['node_text']\n",
    "    except KeyError : \n",
    "        text = ''\n",
    "    node_texts.append(text)\n",
    "    \n",
    "    # COLOURS\n",
    "    try : \n",
    "        colour = S2.nodes[node]['node_colouring']\n",
    "    except KeyError : \n",
    "        colour = 0 # would need to think harder here if i allowed non integer colours. \n",
    "    node_colours.append(colour)\n",
    "\n",
    "    # NODE SIZE\n",
    "    try : \n",
    "        size = S2.nodes[node]['is_real_node'] * 6\n",
    "    except KeyError : \n",
    "        size = 0\n",
    "    node_sizes.append(size)\n",
    "    \n",
    "# this bit is actually defining the scatter. \n",
    "node_trace = go.Scatter(\n",
    "    x=node_x, y=node_y,\n",
    "    mode='markers',\n",
    "    hoverinfo='text',\n",
    "    marker=dict(\n",
    "        showscale=False,\n",
    "        # colorscale options\n",
    "        #'Greys' | 'YlGnBu' | 'Greens' | 'YlOrRd' | 'Bluered' | 'RdBu' |\n",
    "        #'Reds' | 'Blues' | 'Picnic' | 'Rainbow' | 'Portland' | 'Jet' |\n",
    "        #'Hot' | 'Blackbody' | 'Earth' | 'Electric' | 'Viridis' |\n",
    "        colorscale='Rainbow',\n",
    "        reversescale=True,\n",
    "        color=node_colours, \n",
    "        size=node_sizes,\n",
    "        colorbar=dict(\n",
    "            thickness=15,\n",
    "            title='Node Connections',\n",
    "            xanchor='left',\n",
    "            titleside='right'\n",
    "        ),\n",
    "        line_width=2)\n",
    "    , text = node_texts\n",
    ")"
   ]
  },
  {
   "cell_type": "code",
   "execution_count": 79,
   "metadata": {},
   "outputs": [],
   "source": [
    "# draw it up\n",
    "fig = go.Figure(\n",
    "            data=[edge_trace, node_trace],\n",
    "            layout=go.Layout(\n",
    "                title='<br>Network graph of views, tables, and reports for BritBox',\n",
    "                titlefont_size=16,\n",
    "                showlegend=False,\n",
    "                hovermode='closest',\n",
    "                margin=dict(b=20,l=5,r=5,t=40),\n",
    "                annotations=[ dict(\n",
    "                    text=\"For any given pair of nodes connected by an edge the right-hand node is built in some way from the left-hand node\",\n",
    "                    showarrow=False,\n",
    "                    xref=\"paper\", yref=\"paper\",\n",
    "                    x=0.005, y=-0.002 ) ],\n",
    "                xaxis=dict(showgrid=False, zeroline=False, showticklabels=False),\n",
    "                yaxis=dict(showgrid=False, zeroline=False, showticklabels=False))\n",
    "                )\n",
    "fig.show()"
   ]
  },
  {
   "cell_type": "code",
   "execution_count": null,
   "metadata": {},
   "outputs": [],
   "source": []
  },
  {
   "cell_type": "code",
   "execution_count": null,
   "metadata": {},
   "outputs": [],
   "source": []
  },
  {
   "cell_type": "code",
   "execution_count": null,
   "metadata": {},
   "outputs": [],
   "source": []
  }
 ],
 "metadata": {
  "kernelspec": {
   "display_name": "Python 3",
   "language": "python",
   "name": "python3"
  },
  "language_info": {
   "codemirror_mode": {
    "name": "ipython",
    "version": 3
   },
   "file_extension": ".py",
   "mimetype": "text/x-python",
   "name": "python",
   "nbconvert_exporter": "python",
   "pygments_lexer": "ipython3",
   "version": "3.7.6"
  }
 },
 "nbformat": 4,
 "nbformat_minor": 4
}
