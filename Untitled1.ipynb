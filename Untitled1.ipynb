{
 "cells": [
  {
   "cell_type": "code",
   "execution_count": 7,
   "metadata": {},
   "outputs": [],
   "source": [
    "!pip uninstall --upgrade google-cloud"
   ]
  },
  {
   "cell_type": "code",
   "execution_count": 1,
   "metadata": {},
   "outputs": [],
   "source": [
    "# Load custom scripts in reusable_code folder - do you have to do this every time? \n",
    "import sys\n",
    "sys.path.append(r'/home/jupyter/reusable_code')\n",
    "import google_api_functions as gaf\n",
    "\n",
    "# set up credentials \n",
    "creds=gaf.Authenticate_Google(r'/home/jupyter/reusable_code/')\n"
   ]
  },
  {
   "cell_type": "code",
   "execution_count": null,
   "metadata": {},
   "outputs": [],
   "source": []
  },
  {
   "cell_type": "code",
   "execution_count": null,
   "metadata": {},
   "outputs": [],
   "source": [
    "help(build)"
   ]
  },
  {
   "cell_type": "code",
   "execution_count": 2,
   "metadata": {},
   "outputs": [],
   "source": [
    "# pull info out of gsheets\n",
    "r , reports = gaf.read_google_sheets_as_rows(\n",
    "    '10YrdDZaAdoVdXrpSEtmUQ8U6A8KW37LgkGLrei1iVZw'\n",
    ",'Live Reports!A:T'\n",
    "    ,creds\n",
    "    ,header_row=0\n",
    ")"
   ]
  },
  {
   "cell_type": "code",
   "execution_count": null,
   "metadata": {},
   "outputs": [],
   "source": [
    "help(creds)"
   ]
  },
  {
   "cell_type": "code",
   "execution_count": 11,
   "metadata": {},
   "outputs": [],
   "source": [
    "pip install --upgrade google-api-python-client google-auth-httplib2 google-auth-oauthlib"
   ]
  },
  {
   "cell_type": "code",
   "execution_count": null,
   "metadata": {},
   "outputs": [],
   "source": [
    "service = build('sheets', 'v4',credentials=creds)\n",
    "sheet = service.spreadsheets()\n",
    "\n",
    "# Call the Sheets API\n",
    "sheet = service.spreadsheets()\n",
    "result = sheet.values().get(spreadsheetId='10YrdDZaAdoVdXrpSEtmUQ8U6A8KW37LgkGLrei1iVZw',range='Live Reports!A:T').execute()\n",
    "values = result.get('values', [])\n",
    "\n",
    "if not values:\n",
    "    print('No data found.')\n",
    "else:\n",
    "    print('Sheet returned successfully!')\n",
    "\n",
    "\n",
    "sheet_df = pd.DataFrame.from_records(values, columns=values[header_row])\n",
    "# It'll re-read the first row with headers as actual data.  We want this so it gets the width right but want to now drop it.\n",
    "sheet_df=sheet_df[header_row+1:]\n",
    "\n",
    "# Convert imported sheet into a dictionary\n",
    "sheet_dict=sheet_df.to_dict(orient='records')\n",
    "\n",
    "return values,sheet_df"
   ]
  },
  {
   "cell_type": "code",
   "execution_count": null,
   "metadata": {},
   "outputs": [],
   "source": []
  }
 ],
 "metadata": {
  "kernelspec": {
   "display_name": "Python 3",
   "language": "python",
   "name": "python3"
  },
  "language_info": {
   "codemirror_mode": {
    "name": "ipython",
    "version": 3
   },
   "file_extension": ".py",
   "mimetype": "text/x-python",
   "name": "python",
   "nbconvert_exporter": "python",
   "pygments_lexer": "ipython3",
   "version": "3.7.6"
  }
 },
 "nbformat": 4,
 "nbformat_minor": 4
}
