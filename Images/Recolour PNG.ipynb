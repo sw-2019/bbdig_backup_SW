{
 "cells": [
  {
   "cell_type": "code",
   "execution_count": 78,
   "metadata": {},
   "outputs": [],
   "source": [
    "import os.path\n",
    "import sys\n",
    "\n",
    "from PIL import Image, ImageDraw\n",
    "\n",
    "def Recolour(img, colour):\n",
    "    image = Image.open(img)\n",
    "    if image.mode != 'RGBA':\n",
    "        image = image.convert('RGBA')\n",
    "\n",
    "    width, height = image.size\n",
    "    center = (int(0.5 * width), int(0.5 * height))\n",
    "    colourdict={'yellow': (255, 255, 0, 255),\n",
    "                'blue':(37, 150, 190,255)\n",
    "                ,'darkgreen':(0,100,0,255)\n",
    "                ,'lightgreen':(154,205,50,255)\n",
    "                ,'orange':(255,153,51,255)\n",
    "                ,'red':(204,0,0,255)\n",
    "                ,'grey':(238, 238, 238,238)\n",
    "                ,'gold':(255,215,0,255)\n",
    "                ,'silver':(192,192,192,255)\n",
    "                ,'bronze':(205, 127, 50,255)\n",
    "                ,'britbox red':(210,82,93,255)\n",
    "                ,'britbox green':(141,181,140,255)\n",
    "               }\n",
    "                \n",
    "                \n",
    "    ImageDraw.floodfill(image, value=colourdict[colour], xy=center)\n",
    "    path=('/').join(img.split('/')[:-1])\n",
    "    filename=img.split('/')[-1]+'_'+colour\n",
    "    \n",
    "    filename=img.split('/')[-1].split('.')[0]+'_'+colour.replace(' ','_')+'.'+img.split('/')[-1].split('.')[-1]\n",
    "    print(filename)\n",
    "    image.save(path+'/'+filename)\n",
    "\n",
    "Recolour(r'/home/jupyter/tick.png','britbox green')\n",
    "#Recolour(r'/home/jupyter/cross(red).png','britbox red')\n",
    "#Recolour(r'/home/jupyter/Star.png','gold')\n",
    "#Recolour(r'/home/jupyter/Star.png','silver')\n",
    "#Recolour(r'/home/jupyter/Star.png','bronze')\n",
    "#Recolour(r'/home/jupyter/Star.png','lightgreen')\n",
    "#Recolour(r'/home/jupyter/Star.png','yellow')\n",
    "#Recolour(r'/home/jupyter/Star.png','orange')\n",
    "\n",
    "#Recolour(r'/home/jupyter/Star.png','red')"
   ]
  },
  {
   "cell_type": "code",
   "execution_count": 68,
   "metadata": {},
   "outputs": [],
   "source": []
  },
  {
   "cell_type": "code",
   "execution_count": null,
   "metadata": {},
   "outputs": [],
   "source": []
  },
  {
   "cell_type": "code",
   "execution_count": null,
   "metadata": {},
   "outputs": [],
   "source": []
  }
 ],
 "metadata": {
  "kernelspec": {
   "display_name": "Python 3",
   "language": "python",
   "name": "python3"
  },
  "language_info": {
   "codemirror_mode": {
    "name": "ipython",
    "version": 3
   },
   "file_extension": ".py",
   "mimetype": "text/x-python",
   "name": "python",
   "nbconvert_exporter": "python",
   "pygments_lexer": "ipython3",
   "version": "3.7.6"
  }
 },
 "nbformat": 4,
 "nbformat_minor": 4
}
