{
 "cells": [
  {
   "cell_type": "code",
   "execution_count": 21,
   "metadata": {},
   "outputs": [],
   "source": [
    "import requests\n",
    "from PIL import Image, ImageDraw\n",
    "#!pip install CMake\n",
    "#!pip install face_recognition\n",
    "import face_recognition\n",
    "import numpy as np\n",
    "import sys\n",
    "sys.path.append(r'/home/jupyter/reusable_code')\n",
    "import google_api_functions as gaf\n",
    "from google.cloud import bigquery # To run BQ statements\n",
    "creds=gaf.Authenticate_Google(r'/home/jupyter/reusable_code/') # Return logged-in credentials\n"
   ]
  },
  {
   "cell_type": "code",
   "execution_count": null,
   "metadata": {},
   "outputs": [],
   "source": []
  },
  {
   "cell_type": "code",
   "execution_count": 22,
   "metadata": {},
   "outputs": [],
   "source": [
    "bq = bigquery.Client(project='itv-bde-analytics-dev',credentials=creds)\n",
    "query='''select * FROM `itv-bde-svod-prd.svod_ccm.images` where img_name='16x9' '''\n",
    "df = bq.query(query).to_dataframe()\n",
    "url_list=df['img_url'].values.tolist()\n",
    "url_list=[i for i in url_list if i.split('/')[4]=='episode']\n",
    "url_list[:10]"
   ]
  },
  {
   "cell_type": "code",
   "execution_count": 23,
   "metadata": {},
   "outputs": [],
   "source": [
    "len(url_list)"
   ]
  },
  {
   "cell_type": "code",
   "execution_count": 32,
   "metadata": {},
   "outputs": [],
   "source": [
    "bblogo=Image.open(requests.get('https://www.trustedreviews.com/wp-content/uploads/sites/54/2019/11/britbox-logo-920x380.png',stream=True).raw)\n",
    "url_list=['https://imgix.lifehacker.com.au/content/uploads/sites/4/2020/11/24/doctor-who-britbox-1.jpg?ar=16%3A9&auto=format&fit=crop&q=65&w=1280',\\\n",
    "         'https://imgix.pedestrian.tv/content/uploads/2020/11/23/Screen-Shot-2020-11-23-at-11.jpg?ar=16%3A9&auto=format&crop=focal&fit=crop&q=65&w=1200',\n",
    "         'https://images-na.ssl-images-amazon.com/images/S/sgp-catalog-images/region_US/BritBox-10085863-Full-Image_GalleryCover-en-US-1596530360751._UR1920,1080_RI_.jpg']\n",
    "\n",
    "\n",
    "for n,url in enumerate([url_list[0]]):\n",
    "    # Get picture from url\n",
    "    pic=requests.get(url,stream=True)\n",
    "    \n",
    "    # Load into memory\n",
    "    im = Image.open(pic.raw)\n",
    "    \n",
    "    # Retrieve image dimensions\n",
    "    width, height = im.size\n",
    "    if width/height==16/9:\n",
    "        new_width=width*0.75 # Calculate the new ratio to make a 4:3 (or rather a 12:9)\n",
    "        \n",
    "        \n",
    "        ################################################################################################################################\n",
    "        # Crop centrally\n",
    "        ################################################################################################################################\n",
    "        # Define the rectangle to crop\n",
    "        top,bottom=(0,height)\n",
    "        left=(width-new_width)/2\n",
    "        right=left+new_width\n",
    "        # Crop it\n",
    "        im1 = im.crop((left, top, right, bottom)) \n",
    "  \n",
    "\n",
    "        # Add the BB logo\n",
    "    \n",
    "        \n",
    "    \n",
    "        # Shows the image in image viewer \n",
    "        # im1.show()\n",
    "        \n",
    "        # Check it's right\n",
    "        #new_width, new_height=im1.size\n",
    "        #if new_width/new_height==4/3:\n",
    "        #    print('Now it''s a 4:3')\n",
    "        \n",
    "        # Save--> this could be fleshed out to retrieve existing name and format \n",
    "        im1.save('Cropped_image{}.jpg'.format(n))\n",
    "        \n",
    "        ################################################################################################################################\n",
    "        # Crop based on faces\n",
    "        ################################################################################################################################\n",
    "        \n",
    "        im_array=np.asarray(im)\n",
    "        face_locations = face_recognition.face_locations(im_array,number_of_times_to_upsample=1,model='hog')\n",
    "        \n",
    "        # Demonstrate the detected faces\n",
    "        #for face_location in face_locations:\n",
    "            # Print the location of each face in this image. Each face is a list of co-ordinates in (top, right, bottom, left) order.\n",
    "        #    facetop, faceright, facebottom, faceleft = face_location\n",
    "            # Let's draw a box around the face\n",
    "        #    draw = ImageDraw.Draw(im)\n",
    "         #   draw.rectangle((faceleft,facetop,faceright,facebottom))\n",
    "           \n",
    "        # Calculate the areas of the pic bounded by the faces and centralise them to crop\n",
    "        minleft = max(min([face_location[3] for face_location in face_locations]),0)\n",
    "        maxright= min(max([face_location[1] for face_location in face_locations]),width)\n",
    "        if maxright-minleft<=new_width:\n",
    "            newleft=(minleft+maxright)/2-new_width/2\n",
    "            newright=newleft+new_width\n",
    "            im2 = im.crop((newleft, top, newright, bottom)) \n",
    "            im2.save('Cropped_image{}- Face Centred.jpg'.format(n))\n",
    "        \n",
    "        im.save('Cropped_image{}- Original 16x9.jpg'.format(n))\n",
    "        #im.show()\n",
    "        #print(face_locations)\n",
    "        # Empty memory\n",
    "        im1.close()\n",
    "        im.close()\n",
    "        \n",
    "    else:\n",
    "        print('Not a 16:9')\n",
    "        \n",
    "    \n",
    "    print(width, height)"
   ]
  },
  {
   "cell_type": "code",
   "execution_count": 24,
   "metadata": {},
   "outputs": [],
   "source": [
    "bblogo=Image.open(requests.get('https://www.trustedreviews.com/wp-content/uploads/sites/54/2019/11/britbox-logo-920x380.png',stream=True).raw)\n"
   ]
  },
  {
   "cell_type": "code",
   "execution_count": 34,
   "metadata": {},
   "outputs": [],
   "source": [
    "help(bblogo.paste)"
   ]
  },
  {
   "cell_type": "code",
   "execution_count": 31,
   "metadata": {},
   "outputs": [],
   "source": []
  },
  {
   "cell_type": "code",
   "execution_count": null,
   "metadata": {},
   "outputs": [],
   "source": []
  }
 ],
 "metadata": {
  "kernelspec": {
   "display_name": "Python 3",
   "language": "python",
   "name": "python3"
  },
  "language_info": {
   "codemirror_mode": {
    "name": "ipython",
    "version": 3
   },
   "file_extension": ".py",
   "mimetype": "text/x-python",
   "name": "python",
   "nbconvert_exporter": "python",
   "pygments_lexer": "ipython3",
   "version": "3.7.6"
  }
 },
 "nbformat": 4,
 "nbformat_minor": 4
}
