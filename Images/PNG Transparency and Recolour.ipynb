{
 "cells": [
  {
   "cell_type": "code",
   "execution_count": 40,
   "metadata": {},
   "outputs": [],
   "source": [
    "from PIL import Image\n",
    "import sys\n",
    "sys.path.append(r'/home/jupyter/reusable_code')\n",
    "import google_api_functions as gaf\n",
    "\n",
    "# Google Sheets Credentials\n",
    "creds=gaf.Authenticate_Google(r'/home/jupyter/reusable_code/') # Return logged-in credentials\n",
    "\n",
    "values,colourDf=gaf.read_google_sheets_as_rows('18t_E2ZBbFxxm32ApsajUMP1KGo--m2aqEO6xy4v4XvY','Sheet1',creds)\n",
    "colourDictRGB={i['Colour']:(int(i['R']),int(i['G']),int(i['B'])) for i in colourDf[['Colour','R','G','B','Colour Palette']].to_dict('records') if i['Colour Palette']=='Overall'}\n",
    "colourDictRGBInternal={i['Colour']:(int(i['R']),int(i['G']),int(i['B'])) for i in colourDf[['Colour','R','G','B','Colour Palette']].to_dict('records') if i['Colour Palette']=='Internal'}# and i['Colour'][-9:]!='Highlight']\n",
    "#colourDf\n",
    "\n"
   ]
  },
  {
   "cell_type": "code",
   "execution_count": null,
   "metadata": {},
   "outputs": [],
   "source": []
  },
  {
   "cell_type": "code",
   "execution_count": 41,
   "metadata": {},
   "outputs": [],
   "source": [
    "colourDictRGBInternal"
   ]
  },
  {
   "cell_type": "code",
   "execution_count": 42,
   "metadata": {},
   "outputs": [],
   "source": [
    "\n",
    "def Reformat_as_png(imagepath,recolour_type='specific',transparent=(255,255,255),recolour=(0,0,0),recolour_to=(0,0,0)):\n",
    "    img = Image.open(imagepath)\n",
    "    img = img.convert(\"RGBA\") # Convert to RGB mode with 4th transparency dimension (0 = transparent, 255 = Opaque)\n",
    "    datas = img.getdata() # Load individual pixels\n",
    "    \n",
    "    newData = []\n",
    "    if recolour_type=='specific': # Recolour one specific colour\n",
    "        for item in datas:\n",
    "\n",
    "            if item[0] == transparent[0] and item[1] == transparent[1] and item[2] == transparent[2]: # If matches the RGB of the colour to make transparent\n",
    "\n",
    "                newData.append((item[0],item[1],item[2], 0)) # Make transparent\n",
    "\n",
    "\n",
    "            elif item[0] == recolour[0] and item[1] == recolour[1] and item[2] == recolour[2]: #If the specific colour to recolour\n",
    "\n",
    "                newData.append((recolour_to[0], recolour_to[1], recolour_to[2], 255)) # Convert to other colours\n",
    "\n",
    "            else:\n",
    "\n",
    "                newData.append((item[0],item[1],item[2], 255))  # Load original colours\n",
    "\n",
    "    elif recolour_type=='all': # Recolour all to a single colour\n",
    "        for item in datas:\n",
    "\n",
    "            if item[0] == transparent[0] and item[1] == transparent[1] and item[2] == transparent[2]: # If matches the RGB of the colour to make transparent\n",
    "\n",
    "                newData.append((item[0],item[1],item[2], 0)) # Make transparent\n",
    "\n",
    "            else:\n",
    "\n",
    "                newData.append((recolour_to[0], recolour_to[1], recolour_to[2], 255)) # Convert all other colours to the new colour\n",
    "\n",
    "    else: # Don't recolour\n",
    "        for item in datas:\n",
    "\n",
    "            if item[0] == transparent[0] and item[1] == transparent[1] and item[2] == transparent[2]: # If matches the RGB of the colour to make transparent\n",
    "\n",
    "                newData.append((item[0],item[1],item[2], 0)) # Make transparent\n",
    "\n",
    "            else:\n",
    "\n",
    "                newData.append((item[0],item[1],item[2], 255))  # Load original colours\n",
    "\n",
    "\n",
    "    img.putdata(newData)\n",
    "    newpath=imagepath.split('.')[0]+'_new.png'\n",
    "    print(newpath)\n",
    "    img.save(newpath, \"PNG\")\n",
    "\n",
    "\n"
   ]
  },
  {
   "cell_type": "code",
   "execution_count": 70,
   "metadata": {},
   "outputs": [],
   "source": [
    "Reformat_as_png(imagepath=r'/home/jupyter/Images/Icon MegaPhone.png',recolour_to=colourDictRGBInternal['Union Blue'],recolour_type='all')\n"
   ]
  },
  {
   "cell_type": "code",
   "execution_count": 44,
   "metadata": {},
   "outputs": [],
   "source": [
    "Reformat_as_png(imagepath=r'/home/jupyter/Images/Stripe vs iTunes.png',recolour_to=colourDictRGBInternal['Union Blue'],recolour_type=None)\n"
   ]
  },
  {
   "cell_type": "code",
   "execution_count": 43,
   "metadata": {},
   "outputs": [],
   "source": [
    "Reformat_as_png(imagepath=r'/home/jupyter/Images/Icon Sunshine.png',recolour_to=colourDictRGBInternal['Orange'],recolour_type='all')\n"
   ]
  },
  {
   "cell_type": "code",
   "execution_count": 60,
   "metadata": {},
   "outputs": [],
   "source": [
    "imagepath=r'/home/jupyter/Images/Icon Churn Door.png'\n",
    "img = Image.open(imagepath)\n",
    "img = img.convert(\"RGBA\") # Convert to RGB mode with 4th transparency dimension (0 = transparent, 255 = Opaque)\n",
    "datas = img.getdata() # Load individual pixels\n",
    "#list(set(datas))  \n",
    "newData = []\n",
    "for item in datas:\n",
    "    if item==(0, 0, 0, 0):\n",
    "        newData.append((255, 255, 255, 0))\n",
    "    else:\n",
    "        newData.append((*colourDictRGBInternal['Union Blue'],255))\n",
    "img.putdata(newData)\n",
    "newpath=imagepath.split('.')[0]+'_new.png'\n",
    "print(newpath)\n",
    "img.save(newpath, \"PNG\")"
   ]
  },
  {
   "cell_type": "code",
   "execution_count": 66,
   "metadata": {},
   "outputs": [],
   "source": [
    "imagepath=r'/home/jupyter/Images/Audience Segments.png'\n",
    "img = Image.open(imagepath)\n",
    "img = img.convert(\"RGBA\") # Convert to RGB mode with 4th transparency dimension (0 = transparent, 255 = Opaque)\n",
    "datas = img.getdata() # Load individual pixels\n",
    "#list(set(datas))  \n",
    "newData = []\n",
    "for item in datas:\n",
    "    if item==(228, 234, 242, 255):\n",
    "        newData.append((255, 255, 255, 0))\n",
    "    else:\n",
    "        newData.append((item[0],item[1],item[2],255))\n",
    "img.putdata(newData)\n",
    "newpath=imagepath.split('.')[0]+'_new.png'\n",
    "print(newpath)\n",
    "img.save(newpath, \"PNG\")"
   ]
  },
  {
   "cell_type": "code",
   "execution_count": 65,
   "metadata": {},
   "outputs": [],
   "source": []
  },
  {
   "cell_type": "code",
   "execution_count": null,
   "metadata": {},
   "outputs": [],
   "source": []
  },
  {
   "cell_type": "code",
   "execution_count": null,
   "metadata": {},
   "outputs": [],
   "source": []
  }
 ],
 "metadata": {
  "kernelspec": {
   "display_name": "Python 3",
   "language": "python",
   "name": "python3"
  },
  "language_info": {
   "codemirror_mode": {
    "name": "ipython",
    "version": 3
   },
   "file_extension": ".py",
   "mimetype": "text/x-python",
   "name": "python",
   "nbconvert_exporter": "python",
   "pygments_lexer": "ipython3",
   "version": "3.7.6"
  }
 },
 "nbformat": 4,
 "nbformat_minor": 4
}
