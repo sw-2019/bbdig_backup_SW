{
 "cells": [
  {
   "cell_type": "markdown",
   "metadata": {},
   "source": [
    "# To run this script, you will need your user token (generate one if you don't have it).\n",
    "https://github.com/settings/tokens\n",
    "\n",
    "And save it as a file called _github_token.txt_ in a folder called _reusable_code_ on the Jupyter home"
   ]
  },
  {
   "cell_type": "code",
   "execution_count": 14,
   "metadata": {},
   "outputs": [],
   "source": [
    "import github\n",
    "import requests\n",
    "import re"
   ]
  },
  {
   "cell_type": "code",
   "execution_count": 15,
   "metadata": {},
   "outputs": [],
   "source": [
    "# Pick up Github token for authentication purposes \n",
    "mytoken=open('/home/jupyter/reusable_code/github_token.txt',\"r\").read()"
   ]
  },
  {
   "cell_type": "code",
   "execution_count": 16,
   "metadata": {},
   "outputs": [],
   "source": [
    "#Create GitHub connection/ instance\n",
    "g = github.Github(mytoken)\n",
    "\n",
    "# Get your specific user (update with your username)\n",
    "myuser=g.get_user()\n",
    "print(myuser.login)\n",
    "\n",
    "# Subset to just the ITV repo\n",
    "ITV_org=g.get_organization('ITV').get_repos()\n",
    "\n",
    "# Subset further to just a list of BritBox DIG repos according to our naming convention\n",
    "bbdig_repos=[i for i in ITV_org if i.full_name.replace('ITV/','')[:5]=='bbdig']\n",
    "\n",
    "# Get the bb_insight team\n",
    "bbinsightteam=g.get_organization('ITV').get_team([x.id for x in g.get_organization('ITV').get_teams() if x.name=='bb_insight'][0])\n"
   ]
  },
  {
   "cell_type": "markdown",
   "metadata": {},
   "source": [
    "### Loop all repos in bbdig_repos that you have admin access to, and add the team if they aren't there already"
   ]
  },
  {
   "cell_type": "code",
   "execution_count": 17,
   "metadata": {},
   "outputs": [],
   "source": [
    "for r in bbdig_repos: # For each BBDIG repo\n",
    "    try:\n",
    "        amICollobarator=False\n",
    "        for x in r.get_collaborators(): # Loop collaborators\n",
    "            if x.login==myuser.login: # If I'm a collaborator\n",
    "                    amICollobarator=True\n",
    "                    if x.permissions.admin==True: #And I have admin permissions\n",
    "                        Madechanges=False\n",
    "                        if bbinsightteam.get_repo_permission(r)==None: #Check if the insight team has been added at all (None='No')\n",
    "                            bbinsightteam.add_to_repos(r) #Check if the team is not added at all (None='No')\n",
    "                            Madechanges=True\n",
    "                            bbinsightteam.set_repo_permission(repo=r,permission='admin') # And make them admin\n",
    "                            print('Added BB Insight team to {}'.format(r.name))\n",
    "                        else:\n",
    "                            if bbinsightteam.get_repo_permission(r).admin==False: #If team already exists but isn't admin\n",
    "                                bbinsightteam.set_repo_permission(repo=r,permission='admin') # Make them admin\n",
    "                                Madechanges=True\n",
    "                                print('Made BB Insight team admins on {}'.format(r.name))\n",
    "                        if Madechanges==False:\n",
    "                            pass\n",
    "                            #print('I can edit {} but no changes were required, team is already admin'.format(r.name))\n",
    "                    else:\n",
    "                        print('No admin rights on {}'.format(r.name))\n",
    "\n",
    "        if amICollobarator==False:\n",
    "            print('I''m not a collaborator on {}'.format(r.name))\n",
    "    except:\n",
    "        print('Cannot influence {}'.format(r.name))\n"
   ]
  },
  {
   "cell_type": "code",
   "execution_count": null,
   "metadata": {},
   "outputs": [],
   "source": []
  }
 ],
 "metadata": {
  "kernelspec": {
   "display_name": "Python 3",
   "language": "python",
   "name": "python3"
  },
  "language_info": {
   "codemirror_mode": {
    "name": "ipython",
    "version": 3
   },
   "file_extension": ".py",
   "mimetype": "text/x-python",
   "name": "python",
   "nbconvert_exporter": "python",
   "pygments_lexer": "ipython3",
   "version": "3.7.6"
  }
 },
 "nbformat": 4,
 "nbformat_minor": 4
}
