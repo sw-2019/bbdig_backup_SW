{
 "cells": [
  {
   "cell_type": "code",
   "execution_count": 20,
   "metadata": {},
   "outputs": [],
   "source": [
    "#!pip install -U scikit-learn\n",
    "# !pip install -U plotly\n",
    "import sklearn\n",
    "from numpy import unique\n",
    "from numpy import where\n",
    "from sklearn.datasets import make_classification\n",
    "from sklearn.cluster import AgglomerativeClustering,KMeans, DBSCAN, OPTICS, Birch\n",
    "from sklearn.mixture import GaussianMixture\n",
    "from matplotlib import pyplot as plt\n",
    "from sklearn.metrics import silhouette_score #Silhouette score basically represents the intra-cluster distance. You want it to be as large as poss (to maximise distance between clusters and so uniqueness)\n",
    "import plotly.express as px\n",
    "import plotly.graph_objects as go\n",
    "\n",
    "import numpy as np\n",
    "import sys\n",
    "sys.path.append(r'/home/jupyter/reusable_code')\n",
    "import google_api_functions as gaf\n",
    "from google.cloud import bigquery # To run BQ statements\n",
    "creds=gaf.Authenticate_Google(r'/home/jupyter/reusable_code/') # Return logged-in credentials\n"
   ]
  },
  {
   "cell_type": "code",
   "execution_count": 2,
   "metadata": {},
   "outputs": [],
   "source": [
    "bq = bigquery.Client(project='itv-bde-analytics-dev',credentials=creds)\n",
    "query='''select *,pc_first_views/pc_notfirst_views AS FIRSTVIEWINDEX, 1 as dummyField from\n",
    "`itv-bde-analytics-dev.britbox_sandbox.SW_Viewing_FirstViewsProg`'''\n",
    "df = bq.query(query).to_dataframe()\n",
    "df.head()"
   ]
  },
  {
   "cell_type": "code",
   "execution_count": 26,
   "metadata": {},
   "outputs": [],
   "source": [
    "df.plot.scatter(x='pc_first_views', y='pc_notfirst_views')"
   ]
  },
  {
   "cell_type": "code",
   "execution_count": 35,
   "metadata": {},
   "outputs": [],
   "source": [
    "df['Big6']=df['programme'].apply(lambda x: 5 if x in ['New Spitting Image','Broadchurch','Vera','The Only Way is Essex','Doctor Who Classic','Love Island'] else 1)"
   ]
  },
  {
   "cell_type": "code",
   "execution_count": 44,
   "metadata": {},
   "outputs": [],
   "source": [
    "layout = Layout(paper_bgcolor='rgba(0,0,0,0)',plot_bgcolor='rgba(0,0,0,0)')\n",
    "\n",
    "\n",
    "# Plot\n",
    "fig = px.scatter(df, x='pc_first_views', y='pc_notfirst_views', log_x=True, size_max=20,hover_data=['first_view_rank','notfirst_view_rank','programme'], color='FIRSTVIEWINDEX',size='Big6'\\\n",
    "                 #,trendline=\"ols\")\n",
    "                ,template=\"plotly_white\")\n",
    "fig.update_traces(textposition='top center')\n",
    "fig.update_layout(title_text='Programme Groupings', title_x=0.5)\n",
    "fig.show()"
   ]
  },
  {
   "cell_type": "code",
   "execution_count": 5,
   "metadata": {},
   "outputs": [],
   "source": [
    "df.plot.scatter(x='first_view_rank', y='notfirst_view_rank')"
   ]
  },
  {
   "cell_type": "code",
   "execution_count": 6,
   "metadata": {},
   "outputs": [],
   "source": [
    "# Plot\n",
    "fig = px.scatter(df, x='first_view_rank', y='notfirst_view_rank', log_x=False, size_max=100,hover_data=['first_view_rank','notfirst_view_rank','programme'],trendline=\"ols\",color='FIRSTVIEWINDEX')\n",
    "fig.update_traces(textposition='top center')\n",
    "fig.update_layout(title_text='Programme Groupings', title_x=0.5)\n",
    "fig.show()"
   ]
  },
  {
   "cell_type": "code",
   "execution_count": 7,
   "metadata": {},
   "outputs": [],
   "source": [
    "# Plot\n",
    "fig = px.scatter(df, x='FIRSTVIEWINDEX', y='dummyField', log_x=False, size_max=100,hover_data=['first_view_rank','notfirst_view_rank','programme'])\n",
    "fig.update_traces(textposition='top center')\n",
    "fig.update_layout(title_text='Programme Groupings', title_x=0.5)\n",
    "fig.show()"
   ]
  },
  {
   "cell_type": "code",
   "execution_count": 8,
   "metadata": {},
   "outputs": [],
   "source": [
    "# Define array of values to cluster on\n",
    "X=df[['FIRSTVIEWINDEX','dummyField']]"
   ]
  },
  {
   "cell_type": "markdown",
   "metadata": {},
   "source": [
    "https://machinelearningmastery.com/clustering-algorithms-with-python/"
   ]
  },
  {
   "cell_type": "markdown",
   "metadata": {},
   "source": [
    "https://scikit-learn.org/stable/modules/clustering.html"
   ]
  },
  {
   "cell_type": "code",
   "execution_count": 9,
   "metadata": {},
   "outputs": [],
   "source": [
    "elbow = []\n",
    "kmax = 10\n",
    "for k in range(2, kmax+1):\n",
    "    kmeans = KMeans(n_clusters = k).fit(X)\n",
    "    elbow.append(kmeans.inertia_)\n",
    "    \n",
    "plt.figure(figsize=(8,6))\n",
    "plt.plot(np.arange(2,11), elbow)\n",
    "plt.xlabel('Number of Clusters')\n",
    "plt.ylabel('Inertia (Intra cluster sum of squares)')\n",
    "plt.title('Inertia vs n_clusters to determine optimal cluster size', fontweight='bold')\n",
    "plt.show()"
   ]
  },
  {
   "cell_type": "markdown",
   "metadata": {},
   "source": [
    "https://towardsdatascience.com/opening-the-black-box-of-clustering-kmeans-e970062ff415"
   ]
  },
  {
   "cell_type": "code",
   "execution_count": 10,
   "metadata": {},
   "outputs": [],
   "source": [
    "\n",
    "sil = []\n",
    "elbow = []\n",
    "kmax = 10\n",
    "for k in range(2, kmax+1):\n",
    "    kmeans = KMeans(n_clusters = k).fit(X)\n",
    "    elbow.append(kmeans.inertia_)\n",
    "    labels = kmeans.labels_\n",
    "    sil.append(silhouette_score(X, labels, metric = 'euclidean'))\n",
    "    \n",
    "plt.figure(figsize=(8,6))\n",
    "#plt.plot(np.arange(2,11), elbow)\n",
    "plt.plot(np.arange(2,11), sil)\n",
    "plt.xlabel('Number of Clusters')\n",
    "plt.ylabel('Inertia (Intra cluster sum of squares)')\n",
    "plt.title('Inertia vs n_clusters to determine optimal cluster size', fontweight='bold')\n",
    "plt.show()\n",
    "\n",
    "\n"
   ]
  },
  {
   "cell_type": "code",
   "execution_count": null,
   "metadata": {},
   "outputs": [],
   "source": [
    "\n",
    "\n"
   ]
  },
  {
   "cell_type": "code",
   "execution_count": 23,
   "metadata": {},
   "outputs": [],
   "source": [
    "# agglomerative clustering\n",
    "\n",
    "\n",
    "\n",
    "# define the model/ methodology used for clustering\n",
    "\n",
    "model = GaussianMixture(n_components=7) # Decent\n",
    "model = KMeans(n_clusters=5) # Decent (ish) results\n",
    "model = AgglomerativeClustering(n_clusters=6,linkage='complete') # Best model IMO, Single linkage is the worst (picks up on the outliers)\n",
    "model= DBSCAN(eps=0.01,min_samples=1) # Poor Results\n",
    "model= OPTICS() # Poor Results\n",
    "model= Birch(threshold=0.01,n_clusters=6) # Fair Results\n",
    "model = KMeans(n_clusters=3) # Decent (ish) results\n",
    "\n",
    "# fit model and predict clusters\n",
    "yhat = model.fit_predict(X)\n",
    "# retrieve unique clusters\n",
    "clusters = unique(yhat)\n",
    "\n",
    "# Map clusters back onto the dataframe\n",
    "df['clusterNum']=yhat\n",
    "\n",
    "df['Labels']=df['programme'].where(df['clusterNum']>0)\n",
    "\n",
    "# Visualise segments on scatter plot\n",
    "\n",
    "\n",
    "fig = px.scatter(df, x='FIRSTVIEWINDEX', y='dummyField', log_x=False, size_max=100,hover_data=['first_view_rank','notfirst_view_rank','programme'],color='clusterNum',text='Labels')\n",
    "#fig.update_traces(textposition='top center')\n",
    "#fig.update_layout(title_text='Programme Groupings', title_x=0.5)\n",
    "#fig.update_layout(annotations=[\n",
    "#            go.layout.Annotation(x='FIRSTVIEWINDEX',\n",
    "#            y='dummyField',\n",
    "#            xref=\"x\",\n",
    "#            yref=\"y\",\n",
    "#            text=\"Labels\",\n",
    "#            align='center',\n",
    "#            showarrow=False,\n",
    "#            yanchor='bottom',\n",
    "#            textangle=0) for point in df['Labels']])\n",
    "\n",
    "fig.show()\n",
    "\n",
    "# Visualise df\n",
    "df.head()"
   ]
  },
  {
   "cell_type": "code",
   "execution_count": 12,
   "metadata": {},
   "outputs": [],
   "source": [
    "help(fig.update_traces)"
   ]
  },
  {
   "cell_type": "code",
   "execution_count": 13,
   "metadata": {},
   "outputs": [],
   "source": [
    "dataset=bq.dataset('britbox_sandbox')\n",
    "table_ref = dataset.table(\"SW_Viewing_FirstViewsProg_withClust\")\n",
    "\n",
    "newcol_names={x:x.replace(\" \", \"_\").replace(\"/\",\"\").replace(\"?\",\"\").replace(\"-\",\"\").replace(\".\",\"\") for x in df.columns}\n",
    "df_for_bq=df.rename(columns=newcol_names)\n",
    "\n",
    "try:\n",
    "    bq.delete_table(table_ref)\n",
    "except:\n",
    "    pass\n",
    "job = bq.load_table_from_dataframe(df_for_bq, table_ref)\n",
    "\n",
    "job.result()  # Waits for table load to complete.\n",
    "print(\"Loaded dataframe to {}\".format(table_ref.path))"
   ]
  },
  {
   "cell_type": "code",
   "execution_count": null,
   "metadata": {},
   "outputs": [],
   "source": []
  }
 ],
 "metadata": {
  "kernelspec": {
   "display_name": "Python 3",
   "language": "python",
   "name": "python3"
  },
  "language_info": {
   "codemirror_mode": {
    "name": "ipython",
    "version": 3
   },
   "file_extension": ".py",
   "mimetype": "text/x-python",
   "name": "python",
   "nbconvert_exporter": "python",
   "pygments_lexer": "ipython3",
   "version": "3.7.6"
  }
 },
 "nbformat": 4,
 "nbformat_minor": 4
}
