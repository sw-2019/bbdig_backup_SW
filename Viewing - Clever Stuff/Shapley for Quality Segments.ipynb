{
 "cells": [
  {
   "cell_type": "code",
   "execution_count": 2,
   "metadata": {},
   "outputs": [],
   "source": [
    "# modules\n",
    "import numpy as np\n",
    "import matplotlib.pyplot as plt\n",
    "from   scipy import optimize\n",
    "import pandas as pd\n",
    "from scipy.optimize import curve_fit\n",
    "import scipy.stats as stats\n",
    "import sys\n",
    "\n",
    "# Install/import plotly packages- this package has lots of graphical properties\n",
    "import plotly.graph_objects as go\n",
    "import plotly.offline as pyo\n",
    "\n",
    "# Load custom scripts in reusable_code folder\n",
    "sys.path.append(r'/home/jupyter/reusable_code')\n",
    "\n",
    "import google_api_functions as gaf\n",
    "\n",
    "from google.cloud import bigquery\n",
    "from datetime import date\n",
    "\n",
    "import re\n",
    "import networkx as nx\n",
    "import itertools\n",
    "import time\n",
    "import math"
   ]
  },
  {
   "cell_type": "code",
   "execution_count": 3,
   "metadata": {},
   "outputs": [],
   "source": [
    "creds=gaf.Authenticate_Google(r\"/home/jupyter/reusable_code/\") #GAF is a package steve created with a list of useful functions\n",
    "bq = bigquery.Client(project='itv-bde-analytics-dev',credentials=creds) #Apply credentials to BQ client \"bq\"\n",
    "\n",
    "# Read in the FTS table created in BQ\n",
    "query=\"\"\"\n",
    "select distinct clusterNum from `itv-bde-analytics-dev.britbox_sandbox.SW_Viewing_Programme_Score_5`\n",
    "\"\"\"\n",
    "df = bq.query(query).to_dataframe()"
   ]
  },
  {
   "cell_type": "markdown",
   "metadata": {},
   "source": [
    "# Step 1: Define Players\n",
    "A player is a member of the coalition whose relative value you are trying to establish"
   ]
  },
  {
   "cell_type": "code",
   "execution_count": 4,
   "metadata": {},
   "outputs": [],
   "source": [
    "playerList=[i for item in df.values.tolist() for i in item]\n",
    "playerList"
   ]
  },
  {
   "cell_type": "markdown",
   "metadata": {},
   "source": [
    "### Establish some key properties"
   ]
  },
  {
   "cell_type": "code",
   "execution_count": 5,
   "metadata": {},
   "outputs": [],
   "source": [
    "def PermCombin(n,r,repetitionAllowed=False,orderMatters=False):\n",
    "    # The difference between permutations and combinations is that order matters in permutations but not in combinations \n",
    "    if repetitionAllowed==True and orderMatters==True:\n",
    "        # Permutations with Repetition \n",
    "        result=n**r\n",
    "    elif repetitionAllowed==False and orderMatters==True:\n",
    "        # Permutations without Repetition\n",
    "        result=math.factorial(n)/math.factorial(n-r)\n",
    "        \n",
    "    elif repetitionAllowed==True and orderMatters==False:\n",
    "        # Combinations with Repetition \n",
    "        result=math.factorial(r+n-1)/(math.factorial(n-1)*math.factorial(r))\n",
    "    elif repetitionAllowed==False and orderMatters==False:\n",
    "        # Combinations without Repetition\n",
    "        result=math.factorial(n)/(math.factorial(n-r)*math.factorial(r))\n",
    "    \n",
    "    return result\n",
    "\n",
    "    \n",
    "numPlayers=len(playerList) # How many players are there? \n",
    "numPossiblePermutations=PermCombin(numPlayers,numPlayers,repetitionAllowed=False,orderMatters=True) # Unique number of possible permutations (without repetition)= n!\n",
    "numPermutationsperComboNum=numPossiblePermutations/numPlayers # How many permutations where a player is first, second, etc.\n",
    "\n",
    "# e.g. A B C can have the following permutations\n",
    "# ABC, ACB, BAC, BCA, CAB, CBA\n",
    "# This is 6 permutations, across 3 players. Each player is in position 1 twice, position 2 twice and position 3 twice\n",
    "# i.e. 6/3"
   ]
  },
  {
   "cell_type": "markdown",
   "metadata": {},
   "source": [
    "# Generate unique combinations\n",
    "Shapley values rely on permutations, in so much as the consider the incremental value of adding a player to the existing coalition at a specific point, e.g. Nothing>>B is not the same as A>>AB\n",
    "\n",
    "In most practical examples though, the complete value of the prior coalition is the same i.e. AB=BA.\n",
    "Therefore the delta of e.g. AB>>ABC or BA>>BAC is the same, so we can run the combination (AB) rather than the permutations (AB and BA) to get the incremental value of C with fewer runs\n"
   ]
  },
  {
   "cell_type": "code",
   "execution_count": 6,
   "metadata": {},
   "outputs": [],
   "source": [
    "combos=[] # Initialise an empty list\n",
    "for n in range(0,numPlayers+1): # loop through numbers 0 to N\n",
    "    combos.append([x for x in itertools.combinations(playerList,n)]) # Return all n-wise combinations of variables\n",
    "flattened_combos=[i for item in combos for i in item if len(i)>0] # Double list comprehension to flatten so each list entry is a unique combination\n"
   ]
  },
  {
   "cell_type": "markdown",
   "metadata": {},
   "source": [
    "# Run the \"value\" function\n",
    "For each combination of players, we need to ascertain the \"value\" of that combination. This might be running a regression, another model, or something simpler.\n",
    "We then need to store the results of each run in a table."
   ]
  },
  {
   "cell_type": "code",
   "execution_count": 32,
   "metadata": {},
   "outputs": [],
   "source": [
    "# Create a table to hold the results with two columns: Combination and Value\n",
    "query=\"\"\"\n",
    "        create or replace table `britbox_sandbox.SW_Combinations_QualitySegments` (Combination string, Value float64)\"\"\"\n",
    "bq.query(query)\n",
    "\n",
    "# Loop through each combo\n",
    "combodict={}\n",
    "for combo in flattened_combos:\n",
    "    \n",
    "    # Create a key ID, this will be useful later\n",
    "    combokey=', '.join('\\'{0}\\''.format(w) for w in combo) # Store as a string\n",
    "    \n",
    "    # Create a dictionary with the string value as the key, but the underlying list members preserved for pythonic use\n",
    "    combodict[combokey]=combo \n",
    "    \n",
    "    # Run the function taking the combination as it's input and store in the results table\n",
    "    query=\"\"\"\n",
    "        insert into `britbox_sandbox.SW_Combinations_QualitySegments`\n",
    "        select \"{0}\" as combination, count(distinct britbox_id) as Value\n",
    "        \n",
    "        from `itv-bde-analytics-dev.britbox_analytics.Viewing_clean` a\n",
    "        inner join `itv-bde-analytics-dev.britbox_sandbox.SW_Viewing_Programme_Score_5` b\n",
    "        on a.ccid.programme_id=b.programme_id and a.title.programme=b.programme\n",
    "        \n",
    "        where a.event_partition>='2020-01-01' and a.event_partition <'2021-01-01'\n",
    "        and cast(ClusterNum as string) in ({0})        \n",
    "        \"\"\".format(combokey)\n",
    "    print(bq.query(query).result)"
   ]
  },
  {
   "cell_type": "markdown",
   "metadata": {},
   "source": [
    "# Get the comparison combination\n",
    "Shapley values are a weighted average of combinations with and without a player.\n",
    "\n",
    "E.g. to get the value of C you do:\n",
    "ABC vs AB\n",
    "AC vs A\n",
    "BC vs B\n",
    "C vs nothing"
   ]
  },
  {
   "cell_type": "code",
   "execution_count": 33,
   "metadata": {},
   "outputs": [],
   "source": [
    "# Generate table of the combinations for each brand with and without the brand\n",
    "shapleydict=[]\n",
    "\n",
    "for player in playerList: # For each Player\n",
    "    for key in combodict: # For each combination of players\n",
    "        if player in combodict[key]:\n",
    "            without_combokey=None #Initialise as empty\n",
    "            with_combokey=key # Name/ ID of the combination containing the brand\n",
    "            with_combo=combodict[key] # List values of the combination containing the brand\n",
    "            without_combo=[x for x in combodict[key] if x!=player] # List values of the same combination not including the brand\n",
    "\n",
    "            for otherkey in combodict:\n",
    "                if set(combodict[otherkey])==set(without_combo):\n",
    "                    without_combokey=otherkey\n",
    "            if without_combokey==None:\n",
    "                without_combokey=''\n",
    "            shapleydict.append({'player':player,'withkey':with_combokey,'withoutkey':without_combokey})\n"
   ]
  },
  {
   "cell_type": "code",
   "execution_count": 34,
   "metadata": {},
   "outputs": [],
   "source": [
    "# Store the list of variants with and without each player in a DataFrame\n",
    "df_for_bq=pd.DataFrame.from_dict(shapleydict,orient='columns')\n",
    "df_for_bq"
   ]
  },
  {
   "cell_type": "code",
   "execution_count": 35,
   "metadata": {},
   "outputs": [],
   "source": [
    "# Upload the list of variants with and without each player to BigQuery \n",
    "dataset=bq.dataset('britbox_sandbox')\n",
    "table_ref = dataset.table(\"SW_Combinations_Shapley_QualitySegments\")\n",
    "\n",
    "try:\n",
    "    bq.delete_table(table_ref)\n",
    "except:\n",
    "    pass\n",
    "job = bq.load_table_from_dataframe(df_for_bq, table_ref)\n",
    "\n",
    "job.result()  # Waits for table load to complete.\n",
    "print(\"Loaded dataframe to {}\".format(table_ref.path))"
   ]
  },
  {
   "cell_type": "code",
   "execution_count": 36,
   "metadata": {},
   "outputs": [],
   "source": [
    "time.sleep(20) #Wait 20 seconds for stuff to finish loading\n",
    "\n",
    "# Get the coalition strengths with and without a player. \n",
    "# Do this all in one go via a join rather than a loop for efficiency.\n",
    "# Only loopey bit needs to be the original population of values\n",
    "\n",
    "query=\"\"\"\n",
    "        select a.*, ifnull(b.Value,0) as WithValue, ifnull(c.Value,0) as WithoutValue,\n",
    "        ifnull(b.Value,0) - ifnull(c.Value,0) as IncrementalValue\n",
    "        from `britbox_sandbox.SW_Combinations_Shapley_QualitySegments` a\n",
    "        left join \n",
    "         `britbox_sandbox.SW_Combinations_QualitySegments` b\n",
    "         on a.withkey=b.Combination\n",
    "        \n",
    "        left join \n",
    "         `britbox_sandbox.SW_Combinations_QualitySegments` c\n",
    "         on a.withoutkey=c.Combination\n",
    "        \"\"\"\n",
    "# Pull to a dataframe\n",
    "df = bq.query(query).to_dataframe()"
   ]
  },
  {
   "cell_type": "code",
   "execution_count": 37,
   "metadata": {},
   "outputs": [],
   "source": [
    "df"
   ]
  },
  {
   "cell_type": "markdown",
   "metadata": {},
   "source": [
    "# Get Weightings\n",
    "Where we used combinations, not permutations, for efficiency earlier on (because we said AB=BA, so don't bother running both), it creates an uneven weighting.\n",
    "For example to get the value of C, technically we should analyse all complete permutations and the incremental value that C brought to them each:\n",
    "1) ABC\n",
    "2) ACB\n",
    "3) BAC\n",
    "4) BCA\n",
    "5) CAB\n",
    "6) CBA\n",
    "\n",
    "In reality we don't have 6 records, we have\n",
    "Nothing >> C. This is permutations 5 and 6 above. In both cases, C is the first addition to the coalition.\n",
    "A>> AC  (permutation 2)\n",
    "B>> BC (permutation 4) . In both permutations 2 and 4, C is the second addition, but there are two distinct combinations.\n",
    "AB>> ABC (permutations 1 and 3)\n",
    "\n",
    "So in my dataset I have 4 from>>to combinations, spanning 6 underlying permutations. Therefore the combinations representing 2 \"true\" permutations need weights to reflect this.\n",
    "Nothing >> C =2/6 =0.333\n",
    "A>> AC = 1/6\n",
    "B>> BC =1/6\n",
    "AB>> ABC =2/6\n",
    "Sum of weights = 1\n",
    "\n",
    "\n",
    "To calculate this at scale we can say:\n",
    "\"Ok, we know there are however many permutations in total (N!). \n",
    "We know that something can come in position 1, 2... N. and will do so in each of those positions  N!/N times (or (N-1)! times). How many combinations were there with something in that position?\"\n",
    "\n",
    "In example above:\n",
    "N=3\n",
    "Permutations = 3! = 6\n",
    "Times in each position = 6/3 = 2  (or 2!)\n",
    "\n",
    "For position 1, there is one combination (C) where C comes first. Therefore we do (2/1)/6\n",
    "For position 2, there are two combinations (AC, BC) where C comes second, so we do (2/2)/6\n",
    "For position 3, there is one combination  (ABC) where C comes third, so we do (2/1)/6\n",
    "\n",
    "\n"
   ]
  },
  {
   "cell_type": "code",
   "execution_count": 38,
   "metadata": {},
   "outputs": [],
   "source": [
    "\n",
    "df['listlength']=df.withkey.str.count(',')+1 # How many items in the combo\n",
    "# Get the number of combinations that are 1 item long, 2 items long, 3 items long etc.\n",
    "df['numcombos'] = df.groupby(['player','listlength'])['withkey'].transform('count') # Equivalent to count(withkey) over (partition by brand, listlength)\n",
    "df['permutationsPerCombo'] = numPermutationsperComboNum/df['numcombos']\n",
    "df['Weighting']=df['permutationsPerCombo']/numPossiblePermutations\n",
    "df['WeightedIncremental']=df['Weighting']*df['IncrementalValue']"
   ]
  },
  {
   "cell_type": "code",
   "execution_count": 39,
   "metadata": {},
   "outputs": [],
   "source": [
    "# Calculate relative contributions"
   ]
  },
  {
   "cell_type": "code",
   "execution_count": 40,
   "metadata": {},
   "outputs": [],
   "source": [
    "Contributions=df.groupby(['player'])['WeightedIncremental','Weighting'].sum() # Absolute impact, and check weightings add to 1\n",
    "Contributions['pct']=Contributions['WeightedIncremental']/Contributions['WeightedIncremental'].sum() # PC contribution\n",
    "Contributions.sort_values(by='WeightedIncremental',ascending=False)"
   ]
  },
  {
   "cell_type": "code",
   "execution_count": 41,
   "metadata": {},
   "outputs": [],
   "source": [
    "Contributions.sort_values(by='WeightedIncremental',ascending=False)['WeightedIncremental'].plot(kind='pie',label='Contribution to Incremental Viewing in 2020',figsize=(10,10))"
   ]
  },
  {
   "cell_type": "code",
   "execution_count": 42,
   "metadata": {},
   "outputs": [],
   "source": [
    "# QA\n",
    "# Get combination with all players\n"
   ]
  },
  {
   "cell_type": "code",
   "execution_count": 43,
   "metadata": {},
   "outputs": [],
   "source": [
    "Contributions['WeightedIncremental'].sum()-df['WithValue'].max() # Should be value as largest coalition should explain same as sum of players' proportionate combinations"
   ]
  },
  {
   "cell_type": "code",
   "execution_count": 18,
   "metadata": {},
   "outputs": [],
   "source": [
    "query=\"\"\"\n",
    "select  \n",
    "case when branded_as in ('BBC','ITV','C4','C5','BRITBOX') then branded_as\n",
    "else 'Other' end as branded_as, count(distinct britbox_id) as Viewers\n",
    "\n",
    "from `itv-bde-analytics-dev.britbox_analytics.Viewing_clean`\n",
    "        where event_partition>='2020-01-01'\n",
    "group by 1\n",
    "\n",
    "\"\"\"\n",
    "non_uniqueReach = bq.query(query).to_dataframe()\n",
    "non_uniqueReach"
   ]
  },
  {
   "cell_type": "code",
   "execution_count": null,
   "metadata": {},
   "outputs": [],
   "source": []
  },
  {
   "cell_type": "code",
   "execution_count": 19,
   "metadata": {},
   "outputs": [],
   "source": [
    "TotalContributions=non_uniqueReach.merge(Contributions,left_on='branded_as',right_on='player')[['branded_as','Viewers','WeightedIncremental']]\n",
    "TotalContributions['% Incremental']=TotalContributions['WeightedIncremental']/TotalContributions['Viewers']\n",
    "TotalContributions"
   ]
  },
  {
   "cell_type": "code",
   "execution_count": 24,
   "metadata": {},
   "outputs": [],
   "source": [
    "\n",
    ".plot(kind='bar',xticks='branded_as')"
   ]
  }
 ],
 "metadata": {
  "kernelspec": {
   "display_name": "Python 3",
   "language": "python",
   "name": "python3"
  },
  "language_info": {
   "codemirror_mode": {
    "name": "ipython",
    "version": 3
   },
   "file_extension": ".py",
   "mimetype": "text/x-python",
   "name": "python",
   "nbconvert_exporter": "python",
   "pygments_lexer": "ipython3",
   "version": "3.7.6"
  }
 },
 "nbformat": 4,
 "nbformat_minor": 4
}
