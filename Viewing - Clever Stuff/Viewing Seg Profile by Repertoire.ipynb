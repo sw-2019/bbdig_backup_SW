{
 "cells": [
  {
   "cell_type": "code",
   "execution_count": 60,
   "metadata": {},
   "outputs": [],
   "source": [
    "import sklearn\n",
    "\n",
    "import numpy as np\n",
    "import sys\n",
    "sys.path.append(r'/home/jupyter/reusable_code')\n",
    "import google_api_functions as gaf\n",
    "from google.cloud import bigquery # To run BQ statements\n",
    "creds=gaf.Authenticate_Google(r'/home/jupyter/reusable_code/') # Return logged-in credentials\n",
    "\n",
    "from sklearn import svm\n",
    "from sklearn.linear_model import LogisticRegression\n",
    "from sklearn.model_selection import train_test_split\n",
    "from matplotlib import pyplot as plt\n",
    "import pandas as pd\n",
    "from sklearn import metrics\n",
    "\n",
    "import plotly.express as px\n",
    "\n",
    "import plotly.graph_objects as go\n",
    "from plotly.subplots import make_subplots"
   ]
  },
  {
   "cell_type": "code",
   "execution_count": 16,
   "metadata": {},
   "outputs": [],
   "source": [
    "\n",
    "bq = bigquery.Client(project='itv-bde-analytics-dev',credentials=creds)\n",
    "query='''select * from \n",
    "`itv-bde-analytics-prd.britbox_sandbox.churnbyViewsegment_UNPIVOT`'''\n",
    "df = bq.query(query).to_dataframe()\n",
    "df.head()"
   ]
  },
  {
   "cell_type": "code",
   "execution_count": 17,
   "metadata": {},
   "outputs": [],
   "source": [
    "df=df[df['ttl_progs']>0].fillna(0)\n",
    "\n",
    "df.head()"
   ]
  },
  {
   "cell_type": "code",
   "execution_count": 18,
   "metadata": {},
   "outputs": [],
   "source": [
    "df.columns"
   ]
  },
  {
   "cell_type": "code",
   "execution_count": 19,
   "metadata": {},
   "outputs": [],
   "source": [
    "\n",
    "# Create a function to map a colour to cluster number\n",
    "def name_cluster(x):\n",
    "    if x ==0:\n",
    "        return 'Medium X-sell, High Engagement (Key Titles)'\n",
    "    elif x ==1:\n",
    "        return 'High X-sell, Low Engagement'\n",
    "    elif x ==2:\n",
    "        return 'High X-sell, Medium Engagement'\n",
    "    elif x ==3:\n",
    "        return 'High X-sell, Very Low Engagement'\n",
    "    elif x ==4:\n",
    "        return 'Low X-sell, High Engagement (Love Island)'\n",
    "    elif x ==5:\n",
    "        return 'High X-sell, High Engagement'\n",
    "    elif x ==99:\n",
    "        return 'Not in a segment'\n",
    "    else:\n",
    "        return 'Unknown'\n",
    "#df['clusterName']= df['clusterNum'].apply(get_colour)\n"
   ]
  },
  {
   "cell_type": "code",
   "execution_count": 20,
   "metadata": {},
   "outputs": [],
   "source": [
    "df[df['ttl_progs']<12].ttl_progs.hist()\n",
    "plt.title('Histogram of NumProgs')\n",
    "plt.xlabel('NumProgs')\n",
    "plt.ylabel('Frequency')\n",
    "plt.show()"
   ]
  },
  {
   "cell_type": "code",
   "execution_count": 21,
   "metadata": {},
   "outputs": [],
   "source": [
    "df.cancel_flag.hist()"
   ]
  },
  {
   "cell_type": "code",
   "execution_count": 22,
   "metadata": {},
   "outputs": [],
   "source": [
    "xvars=[i for i in df.columns if i[:10]=='pc_streams']\n",
    "xvars"
   ]
  },
  {
   "cell_type": "code",
   "execution_count": 23,
   "metadata": {},
   "outputs": [],
   "source": [
    "x=df[xvars]\n",
    "y = df['cancel_flag']\n",
    "\n"
   ]
  },
  {
   "cell_type": "code",
   "execution_count": null,
   "metadata": {},
   "outputs": [],
   "source": [
    "clf = svm.SVC()\n",
    "clf.fit(x, y)\n",
    "SVC()"
   ]
  },
  {
   "cell_type": "code",
   "execution_count": 17,
   "metadata": {},
   "outputs": [],
   "source": [
    "\n",
    "\n",
    "X_train, X_test, y_train, y_test = train_test_split(x, y, test_size=0.3, random_state=0)\n",
    "logreg = LogisticRegression()\n",
    "logreg.fit(X_train, y_train)"
   ]
  },
  {
   "cell_type": "code",
   "execution_count": 19,
   "metadata": {
    "collapsed": true,
    "jupyter": {
     "outputs_hidden": true
    }
   },
   "outputs": [],
   "source": [
    "help(logreg)"
   ]
  },
  {
   "cell_type": "code",
   "execution_count": 21,
   "metadata": {},
   "outputs": [],
   "source": [
    "import statsmodels.api as sm\n",
    "logit_model=sm.Logit(y,x)\n",
    "result=logit_model.fit()\n",
    "print(result.summary2())"
   ]
  },
  {
   "cell_type": "code",
   "execution_count": 26,
   "metadata": {},
   "outputs": [],
   "source": [
    "for p in range(0,10):\n",
    "    subdf=df[df['ttl_progs']==p]\n",
    "    y = subdf['cancel_flag']\n",
    "    x = subdf[xvars]\n",
    "    logit_model=sm.Logit(y,x)\n",
    "    result=logit_model.fit()\n",
    "    print(result.summary2())"
   ]
  },
  {
   "cell_type": "code",
   "execution_count": 33,
   "metadata": {},
   "outputs": [],
   "source": [
    "subdf=df[df['ttl_progs']==5]\n",
    "y = subdf['cancel_flag']\n",
    "x = subdf[xvars]\n",
    "logit_model=sm.Logit(y,x)\n",
    "result=logit_model.fit()\n",
    "print(result.summary2())"
   ]
  },
  {
   "cell_type": "code",
   "execution_count": 37,
   "metadata": {},
   "outputs": [],
   "source": [
    "# Class count\n",
    "count_class_0, count_class_1 = df.cancel_flag.value_counts()\n",
    "\n",
    "# Divide by class\n",
    "df_class_0 = df[df['cancel_flag'] == 0]\n",
    "df_class_1 = df[df['cancel_flag'] == 1]"
   ]
  },
  {
   "cell_type": "code",
   "execution_count": 42,
   "metadata": {},
   "outputs": [],
   "source": [
    "df_class_0_under = df_class_0.sample(count_class_1)\n",
    "df_test_under = pd.concat([df_class_0_under, df_class_1], axis=0)\n",
    "df_test_under.cancel_flag.value_counts().plot(kind='bar', title='Count (target)')\n"
   ]
  },
  {
   "cell_type": "code",
   "execution_count": 45,
   "metadata": {},
   "outputs": [],
   "source": [
    "xvars=[i for i in df.columns if i[:10]=='pc_streams']\n",
    "xvars=[i for i in df.columns if i[:6]=='pc_eps']\n",
    "\n",
    "\n",
    "subdf=df_test_under[df_test_under['ttl_progs']==4]\n",
    "y = subdf['cancel_flag']\n",
    "x = subdf[xvars]\n",
    "logit_model=sm.Logit(y,x)\n",
    "result=logit_model.fit()\n",
    "print(result.summary2())"
   ]
  },
  {
   "cell_type": "markdown",
   "metadata": {},
   "source": [
    "### So the regression doesn't work. Is the mix different by repertoire?"
   ]
  },
  {
   "cell_type": "code",
   "execution_count": 24,
   "metadata": {},
   "outputs": [],
   "source": [
    "varlist=[xvars][0]+['cancel_flag','ttl_progs']\n",
    "varlist\n"
   ]
  },
  {
   "cell_type": "code",
   "execution_count": 25,
   "metadata": {},
   "outputs": [],
   "source": [
    "mixdf=df[varlist][df['ttl_progs']<11].groupby('ttl_progs').mean()\n",
    "mixdf"
   ]
  },
  {
   "cell_type": "code",
   "execution_count": 26,
   "metadata": {},
   "outputs": [],
   "source": [
    "\n",
    "progs=mixdf.index\n",
    "fig = go.Figure(data=[\n",
    "    go.Bar(name='SF Zoo', x=progs, y=xvars)\n",
    "])\n",
    "# Change the bar mode\n",
    "fig.update_layout(barmode='stack')\n",
    "fig.show()\n"
   ]
  },
  {
   "cell_type": "code",
   "execution_count": 27,
   "metadata": {},
   "outputs": [],
   "source": [
    "mixdf.plot(kind='bar', stacked=True,legend=False)"
   ]
  },
  {
   "cell_type": "code",
   "execution_count": 28,
   "metadata": {},
   "outputs": [],
   "source": [
    "\n",
    "fig = px.bar(mixdf, x=mixdf.index, y=xvars, title=\"Wide-Form Input\")\n",
    "fig.show()\n"
   ]
  },
  {
   "cell_type": "code",
   "execution_count": 29,
   "metadata": {},
   "outputs": [],
   "source": [
    "mixdf"
   ]
  },
  {
   "cell_type": "code",
   "execution_count": 49,
   "metadata": {},
   "outputs": [],
   "source": [
    "varlist=[xvars][0]+['cancel_flag','ttl_progs','bill_month']\n",
    "mixdf2=df[varlist][df['ttl_progs']<11].groupby(['bill_month','ttl_progs']).mean()\n",
    "mixdf2"
   ]
  },
  {
   "cell_type": "code",
   "execution_count": 63,
   "metadata": {},
   "outputs": [],
   "source": [
    "\n",
    "for i in range(1,11):\n",
    "    fig = px.bar(mixdf2.loc[i], x=mixdf.index, y=xvars, title=\"Distribution of Repertoire vs Viewing Segments\")\n",
    " \n",
    "    fig.add_trace(go.Scatter(x=mixdf.index, y=mixdf['cancel_flag'], name=\"Cancellation Rate\",text='Labels'))\n",
    "\n",
    "    fig.update_layout(title_text='Bill Month {}'.format(i), title_x=0.5)\n",
    "    fig.show()"
   ]
  },
  {
   "cell_type": "code",
   "execution_count": 48,
   "metadata": {},
   "outputs": [],
   "source": [
    "mixdf2.unstack()"
   ]
  },
  {
   "cell_type": "code",
   "execution_count": null,
   "metadata": {},
   "outputs": [],
   "source": []
  },
  {
   "cell_type": "code",
   "execution_count": 64,
   "metadata": {},
   "outputs": [],
   "source": [
    "from sklearn.linear_model import LinearRegression\n"
   ]
  },
  {
   "cell_type": "code",
   "execution_count": 67,
   "metadata": {},
   "outputs": [],
   "source": [
    "model = LinearRegression()\n",
    "model.fit(df[xvars], df['cancel_flag'])"
   ]
  },
  {
   "cell_type": "code",
   "execution_count": 68,
   "metadata": {},
   "outputs": [],
   "source": [
    "r_sq = model.score(x, y)\n",
    "r_sq"
   ]
  },
  {
   "cell_type": "code",
   "execution_count": null,
   "metadata": {},
   "outputs": [],
   "source": []
  }
 ],
 "metadata": {
  "kernelspec": {
   "display_name": "Python 3",
   "language": "python",
   "name": "python3"
  },
  "language_info": {
   "codemirror_mode": {
    "name": "ipython",
    "version": 3
   },
   "file_extension": ".py",
   "mimetype": "text/x-python",
   "name": "python",
   "nbconvert_exporter": "python",
   "pygments_lexer": "ipython3",
   "version": "3.7.6"
  }
 },
 "nbformat": 4,
 "nbformat_minor": 4
}
