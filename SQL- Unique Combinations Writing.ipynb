{
 "cells": [
  {
   "cell_type": "code",
   "execution_count": null,
   "metadata": {},
   "outputs": [],
   "source": [
    "def cube_script(varlist,base_query,agg_statement):\n",
    "    import itertools\n",
    "    len_var=len(varlist) #Find out how many items\n",
    "    combos=[] # Initialise an empty list\n",
    "    for n in range(0,len_var+1): # loop through numbers 0 to N\n",
    "        combos.append([x for x in itertools.combinations(varlist,n)]) # Return all n-wise combinations of variables\n",
    "        # e.g. if 3 vars, n=0 returns null, n=1 returns each individual var once, n=2 returns all three pairwise combos and n=3 returns all vars \n",
    "    #print(combos)\n",
    "    \n",
    "    # We need to fill in such that there is always an explicit reference even when a variable is not selected for aggregation\n",
    "    flattened_combos=[] # Initialise an empty list\n",
    "    for i in combos: # Loop through each N value above\n",
    "        for j in i: # Loop through each combinations within an N value\n",
    "            # Append the SQL code\n",
    "            # Loops through the list of variables each time and decides whether to include or use the \"All\" variant\n",
    "            flattened_combos.append(['cast ({} as string) as {} '.format(x,x) if x in j else \"'All' as {}\".format(x) for x in varlist ])\n",
    "    \n",
    "    #print(flattened_combos)\n",
    "\n",
    "    #join together to make a string\n",
    "    flattened_strings=['\\n,'.join(x) for x in flattened_combos]\n",
    "    \n",
    "    #print(flattened_strings)\n",
    "  \n",
    "    groupby_statement='''group by {}'''.format(','.join([str(x) for x in range (1,len_var+1)]))\n",
    "    \n",
    "    select_statements=[]\n",
    "    for x in flattened_strings:\n",
    "        select_statements.append('''select \n",
    "{}\n",
    "        ,{} \n",
    "from base \n",
    "{}\n",
    "'''.format(x,agg_statement,groupby_statement))\n",
    "    \n",
    "    final_statement='''with base as ({}) \\n \\n'''.format(base_query)+ '''\\n union all \\n'''.join(select_statements)\n",
    "    \n",
    "    #print(final_statement)\n",
    "    \n",
    "    return final_statement"
   ]
  },
  {
   "cell_type": "code",
   "execution_count": 22,
   "metadata": {},
   "outputs": [],
   "source": [
    "\n",
    "\n",
    "sql_query=cube_script(varlist=['genre','title','keyword','more']\\\n",
    "            ,base_query='''select * from `myproject.mydata.mytable` where partition is met'''\\\n",
    "            ,agg_statement='''count(*) as N, sum(amount) as amount'''\n",
    "           )    \n",
    "print(sql_query)"
   ]
  },
  {
   "cell_type": "code",
   "execution_count": null,
   "metadata": {},
   "outputs": [],
   "source": [
    "varlist=['genre','title','keyword']\n"
   ]
  },
  {
   "cell_type": "code",
   "execution_count": null,
   "metadata": {},
   "outputs": [],
   "source": [
    "len_var=len(varlist)    "
   ]
  },
  {
   "cell_type": "code",
   "execution_count": null,
   "metadata": {},
   "outputs": [],
   "source": [
    "import itertools"
   ]
  },
  {
   "cell_type": "code",
   "execution_count": null,
   "metadata": {},
   "outputs": [],
   "source": [
    "yes_no=[0,1]\n",
    "            "
   ]
  },
  {
   "cell_type": "code",
   "execution_count": null,
   "metadata": {},
   "outputs": [],
   "source": [
    "output=[x for x in itertools.product(varlist,yes_no)]"
   ]
  },
  {
   "cell_type": "code",
   "execution_count": null,
   "metadata": {},
   "outputs": [],
   "source": [
    "for list in output:\n",
    "    print(list)"
   ]
  },
  {
   "cell_type": "code",
   "execution_count": null,
   "metadata": {},
   "outputs": [],
   "source": [
    "recombo=itertools.combinations([x for x in output],2)"
   ]
  },
  {
   "cell_type": "code",
   "execution_count": null,
   "metadata": {},
   "outputs": [],
   "source": [
    "for x in recombo:\n",
    "    print(x)"
   ]
  },
  {
   "cell_type": "code",
   "execution_count": null,
   "metadata": {},
   "outputs": [],
   "source": [
    "binary=itertools.combinations([0,1],2)"
   ]
  },
  {
   "cell_type": "code",
   "execution_count": null,
   "metadata": {},
   "outputs": [],
   "source": [
    "for x in binary:\n",
    "    print(x)"
   ]
  },
  {
   "cell_type": "code",
   "execution_count": null,
   "metadata": {},
   "outputs": [],
   "source": [
    "combos=[]\n",
    "for n in range(0,len_var+1):\n",
    "    combos.append([x for x in itertools.combinations(varlist,n)])\n",
    "combos"
   ]
  },
  {
   "cell_type": "code",
   "execution_count": null,
   "metadata": {},
   "outputs": [],
   "source": [
    "flattened_combos=[]\n",
    "for i in combos:\n",
    "    for j in i:\n",
    "        print(j)\n",
    "        flattened_combos.append([x if x in j else \"'All' as {}\".format(x) for x in varlist ])\n",
    "flattened_combos               "
   ]
  },
  {
   "cell_type": "code",
   "execution_count": null,
   "metadata": {},
   "outputs": [],
   "source": []
  },
  {
   "cell_type": "code",
   "execution_count": null,
   "metadata": {},
   "outputs": [],
   "source": [
    "import pandas as pd\n",
    "pd.DataFrame(combos)"
   ]
  },
  {
   "cell_type": "code",
   "execution_count": null,
   "metadata": {},
   "outputs": [],
   "source": []
  }
 ],
 "metadata": {
  "kernelspec": {
   "display_name": "Python 3",
   "language": "python",
   "name": "python3"
  },
  "language_info": {
   "codemirror_mode": {
    "name": "ipython",
    "version": 3
   },
   "file_extension": ".py",
   "mimetype": "text/x-python",
   "name": "python",
   "nbconvert_exporter": "python",
   "pygments_lexer": "ipython3",
   "version": "3.7.6"
  }
 },
 "nbformat": 4,
 "nbformat_minor": 4
}
