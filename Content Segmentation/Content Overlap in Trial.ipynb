{
 "cells": [
  {
   "cell_type": "code",
   "execution_count": 3,
   "metadata": {},
   "outputs": [],
   "source": [
    "# Set up modules for Google functionality\n",
    "from google.cloud import bigquery # To run BQ statements\n",
    "from google_auth_oauthlib import flow # To authorise as user\n",
    "from googleapiclient.discovery import build # To pull in from sheets, slides etc. API\n",
    "from google.auth.transport.requests import Request\n",
    "\n",
    "# Display\n",
    "import pprint\n",
    "\n",
    "# Operating system stuff\n",
    "import pickle\n",
    "import os.path\n",
    "import sys\n",
    "\n",
    "# Data handling\n",
    "import json\n",
    "import requests\n",
    "from pandas import read_csv\n",
    "from pandas import datetime\n",
    "\n",
    "# Stats, models, datasheets\n",
    "import pandas as pd\n",
    "import pyreadstat\n",
    "\n",
    "# Visualisation\n",
    "from matplotlib import pyplot\n",
    "import matplotlib.pyplot as plt\n",
    "import matplotlib_venn # For venn diagrams\n",
    "from pandas.plotting import autocorrelation_plot\n",
    "\n",
    "# Network graphs\n",
    "import networkx as nx\n",
    "\n",
    "\n",
    "# Misc\n",
    "from xlsxwriter.utility import xl_rowcol_to_cell # Used to create cell references\n",
    "import itertools\n",
    "\n",
    "# Load custom scripts in reusable_code folder\n",
    "sys.path.append(r'/home/jupyter/reusable_code')\n",
    "\n",
    "import google_api_functions as gaf\n"
   ]
  },
  {
   "cell_type": "code",
   "execution_count": 4,
   "metadata": {},
   "outputs": [],
   "source": [
    "creds=gaf.Authenticate_Google(r'/home/jupyter/reusable_code/')\n",
    "bq = bigquery.Client(project='itv-bde-analytics-dev',credentials=creds)"
   ]
  },
  {
   "cell_type": "code",
   "execution_count": 5,
   "metadata": {},
   "outputs": [],
   "source": [
    "query='''with progs as (select distinct britbox_id, title.programme\n",
    "from `itv-bde-analytics-dev.britbox_sandbox.CJ_viewing_in_trial`\n",
    "where TYPE_FLAG='Show'\n",
    ")\n",
    "\n",
    ",self_joined as (select\n",
    "a.britbox_id,a.programme as prog1,\n",
    "b.programme as prog2\n",
    "from progs a\n",
    "inner join\n",
    "progs b\n",
    "using (britbox_id)\n",
    ")\n",
    "\n",
    "\n",
    ",summary1 as (select prog1,prog2,count(distinct britbox_id) as N_custs from self_joined\n",
    "group by 1,2)\n",
    "\n",
    ",summary2 as (select prog1, count(distinct britbox_id) as N_custs from self_joined group by 1)\n",
    "\n",
    "select summary1.*,\n",
    "summary1.N_custs/summary2.N_custs as PC_viewers,\n",
    "summary2.N_custs as num_viewers_prog1\n",
    "from summary1\n",
    "left join\n",
    "summary2\n",
    "on summary1.prog1=summary2.prog1'''\n",
    "\n",
    "prog_overlap_df = bq.query(query).to_dataframe()\n",
    "prog_overlap_df.head()"
   ]
  },
  {
   "cell_type": "code",
   "execution_count": 6,
   "metadata": {},
   "outputs": [],
   "source": [
    "pivot_df=prog_overlap_df[(prog_overlap_df['prog1'].notna()==True)&(prog_overlap_df['prog2'].notna()==True)].pivot(index='prog1', columns='prog2', values='PC_viewers')"
   ]
  },
  {
   "cell_type": "code",
   "execution_count": 7,
   "metadata": {},
   "outputs": [],
   "source": [
    "pivot_df.head()"
   ]
  },
  {
   "cell_type": "code",
   "execution_count": null,
   "metadata": {},
   "outputs": [],
   "source": [
    "def colorin(x):\n",
    "    if x>0.8:\n",
    "        formatting='background-color : yellow'\n",
    "    elif x>0.3:\n",
    "        formatting='background-color : green'\n",
    "    else:\n",
    "        formatting=''\n",
    "    return formatting\n",
    "\n",
    "pivot_df\\\n",
    ".style.applymap(lambda x:colorin(x))"
   ]
  },
  {
   "cell_type": "code",
   "execution_count": 10,
   "metadata": {},
   "outputs": [],
   "source": [
    "filtered_df=prog_overlap_df[(prog_overlap_df['prog1'].notna()==True)&(prog_overlap_df['prog2'].notna()==True) &(prog_overlap_df['prog1']!=prog_overlap_df['prog2'])\\\n",
    "                           &(prog_overlap_df['PC_viewers']>.2)&(prog_overlap_df['num_viewers_prog1']>1000)]\n",
    "\n",
    "print(\"Filtered down from {} to {} records\".format(len(prog_overlap_df),len(filtered_df)))"
   ]
  },
  {
   "cell_type": "code",
   "execution_count": 11,
   "metadata": {},
   "outputs": [],
   "source": [
    "pivot_df=filtered_df.pivot(index='prog1', columns='prog2', values='PC_viewers')"
   ]
  },
  {
   "cell_type": "code",
   "execution_count": 16,
   "metadata": {},
   "outputs": [],
   "source": [
    "pivot_df['prog1']=pivot_df.index\n",
    "col_list=[i for i in pivot_df.columns if i!='prog1']\n",
    "col_list.insert(0,'prog1')\n",
    "pivot_df=pivot_df[col_list]\n",
    "pivot_df.head()"
   ]
  },
  {
   "cell_type": "code",
   "execution_count": 18,
   "metadata": {},
   "outputs": [],
   "source": [
    "gaf.Write_whole_df_to_gsheet(creds, pivot_df, '1FMazIlXs4noQAgpE3VoSqrPIM6ZpQei3_HCAbpEjy1c','Sheet3', valueInputOption='RAW', append_overwrite='overwrite', headers='Y', topleftcell='A1')"
   ]
  },
  {
   "cell_type": "code",
   "execution_count": null,
   "metadata": {},
   "outputs": [],
   "source": []
  },
  {
   "cell_type": "code",
   "execution_count": null,
   "metadata": {},
   "outputs": [],
   "source": []
  }
 ],
 "metadata": {
  "kernelspec": {
   "display_name": "Python 3",
   "language": "python",
   "name": "python3"
  },
  "language_info": {
   "codemirror_mode": {
    "name": "ipython",
    "version": 3
   },
   "file_extension": ".py",
   "mimetype": "text/x-python",
   "name": "python",
   "nbconvert_exporter": "python",
   "pygments_lexer": "ipython3",
   "version": "3.7.6"
  }
 },
 "nbformat": 4,
 "nbformat_minor": 4
}
