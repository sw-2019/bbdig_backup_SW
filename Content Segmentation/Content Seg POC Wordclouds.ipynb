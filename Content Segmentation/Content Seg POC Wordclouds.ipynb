{
 "cells": [
  {
   "cell_type": "code",
   "execution_count": 22,
   "metadata": {},
   "outputs": [],
   "source": [
    "# Set up modules for Google functionality\n",
    "from google.cloud import bigquery # To run BQ statements\n",
    "from google_auth_oauthlib import flow # To authorise as user\n",
    "from googleapiclient.discovery import build # To pull in from sheets, slides etc. API\n",
    "from google.auth.transport.requests import Request\n",
    "\n",
    "# Display\n",
    "import pprint\n",
    "\n",
    "# Operating system stuff\n",
    "import pickle\n",
    "import os.path\n",
    "import sys\n",
    "\n",
    "# Data handling\n",
    "import json\n",
    "import requests\n",
    "from pandas import read_csv\n",
    "from pandas import datetime\n",
    "\n",
    "# Stats, models, datasheets\n",
    "import pandas as pd\n",
    "import pyreadstat\n",
    "\n",
    "# Visualisation\n",
    "from matplotlib import pyplot\n",
    "import matplotlib.pyplot as plt\n",
    "import matplotlib_venn # For venn diagrams\n",
    "from pandas.plotting import autocorrelation_plot\n",
    "import wordcloud\n",
    "\n",
    "\n",
    "# Text processing\n",
    "#!pip install nltk\n",
    "import nltk\n",
    "from nltk.corpus import stopwords\n",
    "#nltk.download('stopwords')\n",
    "\n",
    "# Network graphs\n",
    "import networkx as nx\n",
    "\n",
    "\n",
    "# Misc\n",
    "from xlsxwriter.utility import xl_rowcol_to_cell # Used to create cell references\n",
    "import itertools\n",
    "\n",
    "# Load custom scripts in reusable_code folder\n",
    "sys.path.append(r'/home/jupyter/reusable_code')\n",
    "\n",
    "import google_api_functions as gaf\n",
    "\n"
   ]
  },
  {
   "cell_type": "code",
   "execution_count": 2,
   "metadata": {},
   "outputs": [],
   "source": [
    "creds=gaf.Authenticate_Google(r'/home/jupyter/reusable_code/')\n",
    "bq = bigquery.Client(project='itv-bde-analytics-dev',credentials=creds)"
   ]
  },
  {
   "cell_type": "markdown",
   "metadata": {},
   "source": [
    "## WordClouds from programme Synopses"
   ]
  },
  {
   "cell_type": "code",
   "execution_count": 61,
   "metadata": {},
   "outputs": [],
   "source": [
    "query=\"\"\" \n",
    "select macro_segment,\n",
    "segment,\n",
    "lower(array_to_string(array_agg(ifnull(thousand,' ')),' ')) as synopses\n",
    "from\n",
    "  (select distinct  ifnull(macro_segment,'No segment') as macro_segment\n",
    "  , ifnull(segment,'No segment') as Segment,\n",
    "  ccid.programme_id,synopsis.prog.thousand\n",
    "  from `itv-bde-analytics-dev.britbox_sandbox.SW_ContentSegPOC_Catalogue` )\n",
    "group by 1,2\n",
    "\"\"\"\n",
    "df = bq.query(query).to_dataframe()\n",
    "df"
   ]
  },
  {
   "cell_type": "code",
   "execution_count": 64,
   "metadata": {},
   "outputs": [],
   "source": [
    "STOPWORDS=stopwords.words('english')\n",
    "\n",
    "for i in df.to_dict('records'):\n",
    "    #print(i['synopses'])\n",
    "    wc =wordcloud.WordCloud(max_font_size=50, max_words=50,background_color='white',stopwords=['starring','of','the','and','to']+ list(STOPWORDS)).generate(i['synopses'])\n",
    "    \n",
    "# Display the generated image:\n",
    "    plt.imshow(wc, interpolation='bilinear')\n",
    "    plt.axis(\"off\")\n",
    "    plt.title(i['segment']).set_fontfamily('Monserrat')\n",
    "    plt.show()\n",
    "    wc.to_file(\"WordClouds/{}.png\".format('Synopses-'+i['macro_segment']+'-'+i['segment']))"
   ]
  },
  {
   "cell_type": "code",
   "execution_count": 51,
   "metadata": {},
   "outputs": [],
   "source": [
    "\n"
   ]
  },
  {
   "cell_type": "markdown",
   "metadata": {},
   "source": [
    "## WordClouds from subgenre"
   ]
  },
  {
   "cell_type": "code",
   "execution_count": 60,
   "metadata": {},
   "outputs": [],
   "source": [
    "query=\"\"\" \n",
    "select macro_segment,\n",
    "segment,\n",
    "lower(array_to_string(array_agg(ifnull(subgenre,' ')),' ')) as subgenre\n",
    "from\n",
    "  (select distinct  ifnull(macro_segment,'No segment') as macro_segment\n",
    "  , ifnull(segment,'No segment') as Segment,\n",
    "  ccid.programme_id,array_to_string(sub_genre,' ') as subgenre\n",
    "  from `itv-bde-analytics-dev.britbox_sandbox.SW_ContentSegPOC_Catalogue` )\n",
    "group by 1,2\n",
    "\"\"\"\n",
    "df_subg = bq.query(query).to_dataframe()\n",
    "df_subg"
   ]
  },
  {
   "cell_type": "code",
   "execution_count": 63,
   "metadata": {},
   "outputs": [],
   "source": [
    "STOPWORDS=stopwords.words('english')\n",
    "\n",
    "for i in df_subg.to_dict('records'):\n",
    "    #print(i['synopses'])\n",
    "    wc =wordcloud.WordCloud(max_font_size=50, max_words=50,background_color='white',stopwords=['starring','of','the','and','to']+ list(STOPWORDS)).generate(i['subgenre'])\n",
    "    \n",
    "# Display the generated image:\n",
    "    plt.imshow(wc, interpolation='bilinear')\n",
    "    plt.axis(\"off\")\n",
    "    plt.title(i['segment']).set_fontfamily('Monserrat')\n",
    "    plt.show()\n",
    "    wc.to_file(\"WordClouds/{}.png\".format('SubGenre-'+i['macro_segment']+'-'+i['segment']))"
   ]
  },
  {
   "cell_type": "code",
   "execution_count": null,
   "metadata": {},
   "outputs": [],
   "source": []
  }
 ],
 "metadata": {
  "kernelspec": {
   "display_name": "Python 3",
   "language": "python",
   "name": "python3"
  },
  "language_info": {
   "codemirror_mode": {
    "name": "ipython",
    "version": 3
   },
   "file_extension": ".py",
   "mimetype": "text/x-python",
   "name": "python",
   "nbconvert_exporter": "python",
   "pygments_lexer": "ipython3",
   "version": "3.7.6"
  }
 },
 "nbformat": 4,
 "nbformat_minor": 4
}
