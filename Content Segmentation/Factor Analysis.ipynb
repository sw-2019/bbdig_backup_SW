{
 "cells": [
  {
   "cell_type": "code",
   "execution_count": 1,
   "metadata": {},
   "outputs": [],
   "source": [
    "%pip install factor_analyzer"
   ]
  },
  {
   "cell_type": "code",
   "execution_count": 1,
   "metadata": {},
   "outputs": [],
   "source": [
    "# Import required libraries\n",
    "import pandas as pd\n",
    "\n",
    "from factor_analyzer import FactorAnalyzer\n",
    "import matplotlib.pyplot as plt"
   ]
  },
  {
   "cell_type": "code",
   "execution_count": 2,
   "metadata": {},
   "outputs": [],
   "source": [
    "import sys\n",
    "# Load custom scripts in reusable_code folder\n",
    "sys.path.append(r'/home/jupyter/reusable_code')\n",
    "\n",
    "import google_api_functions as gaf\n",
    "\n",
    "from google.cloud import bigquery\n",
    "\n",
    "creds=gaf.Authenticate_Google(r'/home/jupyter/reusable_code/')\n",
    "\n",
    "# Set up a BQ object and run a bit of code\n",
    "bq = bigquery.Client(project='itv-bde-svod-prd',credentials=creds)\n",
    "query=\"\"\"\n",
    "select distinct \n",
    "itv_ID,\n",
    "programme_title, \n",
    "count(*) as Count\n",
    "from `itv-bde-svod-prd.pes.svod_stream_summary`\n",
    "where _PARTITIONTIME >= '2020-03-01' and _PARTITIONTIME <= '2020-03-31' and itv_ID is not null and programme_title is not null\n",
    "and \n",
    "itv_ID in \n",
    "(select ITV_ID from (select distinct ITV_ID, count(distinct programme_title) as Count_2 \n",
    "from `itv-bde-svod-prd.pes.svod_stream_summary`\n",
    "where _PARTITIONTIME >= '2020-03-01' and _PARTITIONTIME <= '2020-03-31' and itv_ID is not null and programme_title is not null \n",
    "group by 1\n",
    "having count_2 >=5))\n",
    "group by 1,2\n",
    "order by 1,2\n",
    "\"\"\"\n",
    "df = bq.query(query).to_dataframe()\n",
    "df"
   ]
  },
  {
   "cell_type": "code",
   "execution_count": 139,
   "metadata": {
    "collapsed": true,
    "jupyter": {
     "outputs_hidden": true
    }
   },
   "outputs": [],
   "source": [
    "help(gaf)"
   ]
  },
  {
   "cell_type": "code",
   "execution_count": 3,
   "metadata": {},
   "outputs": [],
   "source": [
    "#transpose the data \n",
    "df.columns.name = None\n",
    "df_t = df.pivot(index = 'itv_ID', columns = 'programme_title' , values = 'Count')\n",
    "\n"
   ]
  },
  {
   "cell_type": "code",
   "execution_count": 4,
   "metadata": {},
   "outputs": [],
   "source": [
    "df_t2 = df_t.rename_axis(None, axis=1)\n",
    "df_t2.head()"
   ]
  },
  {
   "cell_type": "code",
   "execution_count": 5,
   "metadata": {},
   "outputs": [],
   "source": [
    "df_t3 = df_t2.rename_axis(None, axis=1).reset_index()\n",
    "df_t3.head()"
   ]
  },
  {
   "cell_type": "code",
   "execution_count": 6,
   "metadata": {},
   "outputs": [],
   "source": [
    "#drop first row of ID's\n",
    "df_t4 = df_t3.drop(columns = 'itv_ID') \n",
    "df_t4.head()"
   ]
  },
  {
   "cell_type": "code",
   "execution_count": 7,
   "metadata": {},
   "outputs": [],
   "source": [
    "import numpy as np\n",
    "df_t5 = df_t4.replace(np.nan, 0)\n",
    "df_t5.head()\n"
   ]
  },
  {
   "cell_type": "code",
   "execution_count": 23,
   "metadata": {},
   "outputs": [],
   "source": [
    "\n",
    "corrm = df_t5.corr()\n",
    "corrm\n"
   ]
  },
  {
   "cell_type": "code",
   "execution_count": 24,
   "metadata": {
    "collapsed": true,
    "jupyter": {
     "outputs_hidden": true
    }
   },
   "outputs": [],
   "source": [
    "eigen_values = np.linalg.eigvals(corrm)\n",
    "eigen_values_cumvar = (eigen_values/376).cumsum()\n",
    "eigen_values_cumvar"
   ]
  },
  {
   "cell_type": "code",
   "execution_count": 8,
   "metadata": {},
   "outputs": [],
   "source": [
    "from factor_analyzer.factor_analyzer import calculate_bartlett_sphericity\n",
    "chi_square_value,p_value=calculate_bartlett_sphericity(df_t5)\n",
    "chi_square_value, p_value"
   ]
  },
  {
   "cell_type": "code",
   "execution_count": 109,
   "metadata": {},
   "outputs": [],
   "source": [
    "from factor_analyzer.factor_analyzer import calculate_kmo\n",
    "kmo_all,kmo_model=calculate_kmo(df_t5)"
   ]
  },
  {
   "cell_type": "code",
   "execution_count": 110,
   "metadata": {},
   "outputs": [],
   "source": [
    "kmo_model"
   ]
  },
  {
   "cell_type": "code",
   "execution_count": 9,
   "metadata": {},
   "outputs": [],
   "source": [
    "# Create factor analysis object and perform factor analysis\n",
    "fa = FactorAnalyzer(n_factors = 10, rotation = 'varimax')\n",
    "fa.fit(df_t5)\n"
   ]
  },
  {
   "cell_type": "code",
   "execution_count": 21,
   "metadata": {},
   "outputs": [],
   "source": [
    "loadings = fa.loadings_\n",
    "rotated= fa.rotation_matrix_\n",
    "communalities=fa.get_communalities():"
   ]
  },
  {
   "cell_type": "code",
   "execution_count": null,
   "metadata": {},
   "outputs": [],
   "source": []
  },
  {
   "cell_type": "code",
   "execution_count": 15,
   "metadata": {},
   "outputs": [],
   "source": [
    "col5 = df_t5.columns"
   ]
  },
  {
   "cell_type": "code",
   "execution_count": 25,
   "metadata": {},
   "outputs": [],
   "source": [
    "# Get variance of each factors\n",
    "... # 1. Sum of squared loadings (variance)\n",
    "... # 2. Proportional variance\n",
    "... # 3. Cumulative variance\n",
    "summary = fa.get_factor_variance()\n",
    "pd.DataFrame.from_records(summary)"
   ]
  },
  {
   "cell_type": "code",
   "execution_count": 144,
   "metadata": {},
   "outputs": [],
   "source": [
    "# Putting the factors vs variables into a table format\n",
    "pd.DataFrame.from_records(loadings, index = col5)\n",
    "#look for sortings of factors "
   ]
  },
  {
   "cell_type": "code",
   "execution_count": 128,
   "metadata": {},
   "outputs": [],
   "source": [
    "# Scree PLot, Factors vs Eigenvalues\n",
    "ev,v = fa.get_eigenvalues()\n",
    "ev\n",
    "xvals = range(1, df_t5.shape[1]+1)\n",
    "plt.scatter(xvals,ev)\n",
    "plt.grid\n",
    "plt.show"
   ]
  },
  {
   "cell_type": "code",
   "execution_count": 136,
   "metadata": {},
   "outputs": [],
   "source": [
    "fa.transform(df_t5)"
   ]
  },
  {
   "cell_type": "code",
   "execution_count": null,
   "metadata": {},
   "outputs": [],
   "source": [
    "communalities "
   ]
  },
  {
   "cell_type": "code",
   "execution_count": 39,
   "metadata": {},
   "outputs": [],
   "source": [
    "loadings_mask=[[1 if j==max(i) else 0 for j in i] for i in loadings]\n",
    "\n",
    "max_loadings=loadings_mask*loadings\n",
    "max_loadings"
   ]
  },
  {
   "cell_type": "code",
   "execution_count": 40,
   "metadata": {},
   "outputs": [],
   "source": [
    "loadings_df=pd.DataFrame.from_records(max_loadings, index = col5)"
   ]
  },
  {
   "cell_type": "code",
   "execution_count": 53,
   "metadata": {
    "collapsed": true,
    "jupyter": {
     "outputs_hidden": true
    }
   },
   "outputs": [],
   "source": [
    "loadings_df=pd.DataFrame.from_records(max_loadings, index = col5)\n",
    "pd.options.display.max_rows = 999\n",
    "loadings_df.sort_values(by=[i for i in loadings_df.columns],ascending=False)"
   ]
  },
  {
   "cell_type": "code",
   "execution_count": 59,
   "metadata": {},
   "outputs": [],
   "source": [
    "array1=np.array([[1,2],[3,4]])\n",
    "array1"
   ]
  },
  {
   "cell_type": "code",
   "execution_count": 58,
   "metadata": {},
   "outputs": [],
   "source": [
    "array2=np.array([[0,1],[1,0]])\n",
    "array2"
   ]
  },
  {
   "cell_type": "code",
   "execution_count": 60,
   "metadata": {},
   "outputs": [],
   "source": [
    "array1*array2"
   ]
  },
  {
   "cell_type": "code",
   "execution_count": 64,
   "metadata": {},
   "outputs": [],
   "source": [
    "def color_negative_red(val):\n",
    "    \"\"\"\n",
    "    Takes a scalar and returns a string with\n",
    "    the css property `'color: red'` for negative\n",
    "    strings, black otherwise.\n",
    "    \"\"\"\n",
    "    color = 'red' if val < 0 else 'black'\n",
    "    return 'color: {}s'.format(color)\n"
   ]
  },
  {
   "cell_type": "code",
   "execution_count": 72,
   "metadata": {},
   "outputs": [],
   "source": [
    "def colorin(x):\n",
    "    if x>0.8:\n",
    "        formatting='background-color : yellow'\n",
    "    elif x>0.3:\n",
    "        formatting='background-color : green'\n",
    "    else:\n",
    "        formatting=''\n",
    "    return formatting\n",
    "\n",
    "loadings_df\\\n",
    ".sort_values(by=[i for i in loadings_df.columns],ascending=False)\\\n",
    ".style.applymap(lambda x:colorin(x))"
   ]
  },
  {
   "cell_type": "code",
   "execution_count": null,
   "metadata": {},
   "outputs": [],
   "source": []
  }
 ],
 "metadata": {
  "environment": {
   "name": "r-cpu.3-6.m47",
   "type": "gcloud",
   "uri": "gcr.io/deeplearning-platform-release/r-cpu.3-6:m47"
  },
  "kernelspec": {
   "display_name": "Python 3",
   "language": "python",
   "name": "python3"
  },
  "language_info": {
   "codemirror_mode": {
    "name": "ipython",
    "version": 3
   },
   "file_extension": ".py",
   "mimetype": "text/x-python",
   "name": "python",
   "nbconvert_exporter": "python",
   "pygments_lexer": "ipython3",
   "version": "3.7.6"
  }
 },
 "nbformat": 4,
 "nbformat_minor": 4
}
