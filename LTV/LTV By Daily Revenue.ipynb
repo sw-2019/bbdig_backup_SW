{
 "cells": [
  {
   "cell_type": "code",
   "execution_count": 9,
   "metadata": {},
   "outputs": [],
   "source": [
    "# modules\n",
    "import numpy as np\n",
    "import matplotlib.pyplot as plt\n",
    "from   scipy import optimize\n",
    "import pandas as pd\n",
    "from scipy.optimize import curve_fit\n",
    "import scipy.stats as stats\n",
    "import sys\n",
    "\n",
    "# Install/import plotly packages- this package has lots of graphical properties\n",
    "import plotly.graph_objects as go\n",
    "import plotly.offline as pyo\n",
    "\n",
    "# Load custom scripts in reusable_code folder\n",
    "sys.path.append(r'/home/jupyter/reusable_code')\n",
    "\n",
    "import google_api_functions as gaf\n",
    "\n",
    "from google.cloud import bigquery\n",
    "from datetime import date\n",
    "\n",
    "import re"
   ]
  },
  {
   "cell_type": "code",
   "execution_count": 2,
   "metadata": {},
   "outputs": [],
   "source": [
    "creds=gaf.Authenticate_Google(r'/home/jupyter/reusable_code/')"
   ]
  },
  {
   "cell_type": "code",
   "execution_count": 3,
   "metadata": {},
   "outputs": [],
   "source": [
    "# Extracting data to determine LTV\n",
    "bq = bigquery.Client(project='itv-bde-analytics-prd',credentials=creds)"
   ]
  },
  {
   "cell_type": "code",
   "execution_count": null,
   "metadata": {},
   "outputs": [],
   "source": [
    "#Create your cohorts>> Manual step each time.\n",
    "#Format \n",
    "query=\"\"\"\n",
    "with tablea as  (\n",
    "select distinct * , row_number() over (partition by yearmonth_joined, segment order by yearmonth_joined, yearmonth_sub, segment) as row_num\n",
    "  from \n",
    "  (\n",
    "  SELECT\n",
    "    DISTINCT \n",
    "    concat(extract(year from account.firststart),extract(month from account.firststart)) as yearmonth_joined,\n",
    "    concat(extract(year from openEntitlement.start),extract(month from openEntitlement.start)) as yearmonth_sub,\n",
    "    b.level2 as segment,\n",
    "    COUNT( DISTINCT britbox_ID ) AS Customers\n",
    "  FROM\n",
    "    `itv-bde-analytics-prd.britbox_analytics.entitlements` as a left join `itv-bde-svod-prd.reporting.Sign_up_Funnel_web` as b\n",
    "    on a.britbox_ID = b.user_ID\n",
    "        where billingprovider in ('Stripe','iTunes') and date(account.firststart) >= '2019-11-07' and \n",
    "        date(openEntitlement.start) <= DATE_SUB(DATE_TRUNC(CURRENT_DATE(), MONTH), INTERVAL 1 DAY)\n",
    "  GROUP BY\n",
    "    1,2,3\n",
    "    order by 1,2,3)\n",
    "    where yearmonth_sub is not null\n",
    "    )\n",
    "    \n",
    "  \n",
    "  (select distinct \n",
    "  *, round(customers / max , 2) as pct_remaining from\n",
    "  \n",
    "    (select distinct *, max(customers) over (partition by segment, yearmonth_joined ) as max\n",
    "  from tablea\n",
    ")\n",
    "where yearmonth_joined is not null and yearmonth_sub is not null\n",
    "  order by yearmonth_joined, yearmonth_sub, segment  )\n",
    "\"\"\"\n",
    "df = bq.query(query)"
   ]
  },
  {
   "cell_type": "code",
   "execution_count": 39,
   "metadata": {},
   "outputs": [],
   "source": []
  },
  {
   "cell_type": "code",
   "execution_count": 43,
   "metadata": {},
   "outputs": [],
   "source": [
    "Get_30Day_Revenues('a','2020-01-01')"
   ]
  },
  {
   "cell_type": "code",
   "execution_count": 33,
   "metadata": {},
   "outputs": [],
   "source": [
    "str='2020'\n",
    "re.findall(r\"(([12]\\d{3})-(0[1-9]|1[012])-(0\\d|1\\d|2\\d|3[01]))\", str)\n"
   ]
  },
  {
   "cell_type": "code",
   "execution_count": null,
   "metadata": {},
   "outputs": [],
   "source": [
    "^(\\d|0\\d|1\\d|2\\d|3[01])-(\\d|0\\d|1[012])-[12]\\d{3}$"
   ]
  }
 ],
 "metadata": {
  "kernelspec": {
   "display_name": "Python 3",
   "language": "python",
   "name": "python3"
  },
  "language_info": {
   "codemirror_mode": {
    "name": "ipython",
    "version": 3
   },
   "file_extension": ".py",
   "mimetype": "text/x-python",
   "name": "python",
   "nbconvert_exporter": "python",
   "pygments_lexer": "ipython3",
   "version": "3.7.6"
  }
 },
 "nbformat": 4,
 "nbformat_minor": 4
}
