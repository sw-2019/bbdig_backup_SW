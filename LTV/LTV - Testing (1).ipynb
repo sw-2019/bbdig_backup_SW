{
 "cells": [
  {
   "cell_type": "markdown",
   "metadata": {},
   "source": [
    "# Customer life time value"
   ]
  },
  {
   "cell_type": "code",
   "execution_count": 69,
   "metadata": {},
   "outputs": [],
   "source": [
    "# Install this package for use of graphical properties\n",
    "# !pip install plotly "
   ]
  },
  {
   "cell_type": "markdown",
   "metadata": {},
   "source": [
    "### STEPS\n",
    "##### 1. Extract the data required\n",
    "##### 2. Plot actual data - what does this look like? \n",
    "##### 3. Fit a curve based on actual data\n",
    "##### 4. Intergrate ^, what is the expected tenure per segment?\n",
    "##### 5. Multiple this by rev (for now use 5.99 as base)"
   ]
  },
  {
   "cell_type": "code",
   "execution_count": 1,
   "metadata": {},
   "outputs": [],
   "source": [
    "# modules\n",
    "import numpy as np\n",
    "import matplotlib.pyplot as plt\n",
    "from   scipy import optimize\n",
    "import pandas as pd\n",
    "from scipy.optimize import curve_fit\n",
    "import scipy.stats as stats\n",
    "import sys\n",
    "\n",
    "# Install/import plotly packages- this package has lots of graphical properties\n",
    "import plotly.graph_objects as go\n",
    "import plotly.offline as pyo\n",
    "\n",
    "# Load custom scripts in reusable_code folder\n",
    "sys.path.append(r'/home/jupyter/reusable_code')\n",
    "\n",
    "import google_api_functions as gaf\n",
    "\n",
    "from google.cloud import bigquery"
   ]
  },
  {
   "cell_type": "code",
   "execution_count": 2,
   "metadata": {},
   "outputs": [],
   "source": [
    "creds=gaf.Authenticate_Google(r'/home/jupyter/reusable_code/')"
   ]
  },
  {
   "cell_type": "markdown",
   "metadata": {},
   "source": [
    "#### 1. Data Extraction"
   ]
  },
  {
   "cell_type": "code",
   "execution_count": 3,
   "metadata": {},
   "outputs": [],
   "source": [
    "# Extracting data to determine LTV\n",
    "bq = bigquery.Client(project='itv-bde-analytics-prd',credentials=creds)"
   ]
  },
  {
   "cell_type": "code",
   "execution_count": 4,
   "metadata": {},
   "outputs": [],
   "source": [
    "query=\"\"\"\n",
    "with tablea as  (\n",
    "select distinct * , row_number() over (partition by yearmonth_joined, segment order by yearmonth_joined, yearmonth_sub, segment) as row_num\n",
    "  from \n",
    "  (\n",
    "  SELECT\n",
    "    DISTINCT \n",
    "    concat(extract(year from account.firststart),extract(month from account.firststart)) as yearmonth_joined,\n",
    "    concat(extract(year from openEntitlement.start),extract(month from openEntitlement.start)) as yearmonth_sub,\n",
    "    b.level2 as segment,\n",
    "    COUNT( DISTINCT britbox_ID ) AS Customers\n",
    "  FROM\n",
    "    `itv-bde-analytics-prd.britbox_analytics.entitlements` as a left join `itv-bde-svod-prd.reporting.Sign_up_Funnel_web` as b\n",
    "    on a.britbox_ID = b.user_ID\n",
    "        where billingprovider in ('Stripe','iTunes') and date(account.firststart) >= '2019-11-07' and \n",
    "        date(openEntitlement.start) <= DATE_SUB(DATE_TRUNC(CURRENT_DATE(), MONTH), INTERVAL 1 DAY)\n",
    "  GROUP BY\n",
    "    1,2,3\n",
    "    order by 1,2,3)\n",
    "    where yearmonth_sub is not null\n",
    "    )\n",
    "    \n",
    "  \n",
    "  (select distinct \n",
    "  *, round(customers / max , 2) as pct_remaining from\n",
    "  \n",
    "    (select distinct *, max(customers) over (partition by segment, yearmonth_joined ) as max\n",
    "  from tablea\n",
    ")\n",
    "where yearmonth_joined is not null and yearmonth_sub is not null\n",
    "  order by yearmonth_joined, yearmonth_sub, segment  )\n",
    "\"\"\""
   ]
  },
  {
   "cell_type": "code",
   "execution_count": 5,
   "metadata": {},
   "outputs": [],
   "source": [
    "# create dataframe from BQ query\n",
    "def create_df():\n",
    "    yearmonth_joined = []\n",
    "    yearmonth_sub = []\n",
    "    segment = []\n",
    "    row_num = []\n",
    "    max_ = []\n",
    "    Customers= []\n",
    "    pct_remaining = []\n",
    "    for qry_res in query_results:\n",
    "        yearmonth_joined.append(qry_res['yearmonth_joined'])\n",
    "        yearmonth_sub.append(qry_res['yearmonth_sub'])\n",
    "        segment.append(qry_res['segment'])\n",
    "        Customers.append(qry_res['Customers'])\n",
    "        row_num.append(qry_res['row_num'])\n",
    "        max_.append(qry_res['max'])\n",
    "        pct_remaining.append(qry_res['pct_remaining'])\n",
    "\n",
    "    df = pd.DataFrame({\n",
    "        'yearmonth_joined' : yearmonth_joined,\n",
    "        'yearmonth_sub' : yearmonth_sub,\n",
    "        'segment' : segment,\n",
    "        'Customers' : Customers,\n",
    "        'row_num' : row_num,\n",
    "        'max_' : max_,\n",
    "        'pct_remaining' : pct_remaining\n",
    "    })\n",
    "    return df"
   ]
  },
  {
   "cell_type": "code",
   "execution_count": 6,
   "metadata": {},
   "outputs": [],
   "source": [
    "query_results = bq.query(query).result()"
   ]
  },
  {
   "cell_type": "code",
   "execution_count": 27,
   "metadata": {},
   "outputs": [],
   "source": [
    "x=bq.query(query).to_dataframe()\n",
    "x.head()"
   ]
  },
  {
   "cell_type": "code",
   "execution_count": 7,
   "metadata": {},
   "outputs": [],
   "source": [
    "df = create_df()"
   ]
  },
  {
   "cell_type": "code",
   "execution_count": 8,
   "metadata": {},
   "outputs": [],
   "source": [
    "df.head()"
   ]
  },
  {
   "cell_type": "code",
   "execution_count": 10,
   "metadata": {},
   "outputs": [],
   "source": [
    "# Select a given month for example purposes \n",
    "# at a later stage determine how to run through with multiple months \n",
    "yearmonth_selected =  df['yearmonth_joined'] == '20201'\n",
    "df_2 = df[yearmonth_selected]\n",
    "df_2.head()"
   ]
  },
  {
   "cell_type": "code",
   "execution_count": 11,
   "metadata": {},
   "outputs": [],
   "source": [
    "# Pivot the table so data is in correct structure for making graph\n",
    "df_2_pivot = pd.pivot_table(df_2,  values = 'pct_remaining' ,index = ['segment'], columns = ['row_num'])\n",
    "df_2_pivot"
   ]
  },
  {
   "cell_type": "markdown",
   "metadata": {},
   "source": [
    "#### 2. Plot data"
   ]
  },
  {
   "cell_type": "code",
   "execution_count": 12,
   "metadata": {},
   "outputs": [],
   "source": [
    "# Plotting actual data\n",
    "# This enables the data to be plotted in seperate lines split by 'segment' by allocating the ydata per row \n",
    "# hence why data needed to be pivoted so there's one row per segment\n",
    "traces = [go.Scatter (\n",
    "        x = df_2_pivot.columns,\n",
    "        y = df_2_pivot.loc[rowname],\n",
    "        mode = 'markers',\n",
    "        name = rowname\n",
    ")for rowname in df_2_pivot.index]\n",
    "\n",
    "# Plot the data\n",
    "graph = go.Figure(data = traces)\n",
    "#graph.update_xaxes(type=\"category\",)\n",
    "graph"
   ]
  },
  {
   "cell_type": "markdown",
   "metadata": {},
   "source": [
    "#### 3. Curve Fitting"
   ]
  },
  {
   "cell_type": "code",
   "execution_count": 13,
   "metadata": {},
   "outputs": [],
   "source": [
    "# Determine the fitted curves per segment and plot this \n",
    "\n",
    "# Define the exponential function>> \n",
    "# This is used for the curve-fitting procedure later, which requires the function as an input\n",
    "def func_expdecay(xdata, a, b ,k):\n",
    "    return a * np.exp(-b * xdata) + k\n",
    "\n",
    "def func_log(xdata,a,b,k):\n",
    "    return a * -np.log(b*xdata) + k\n",
    "\n",
    "def func_linear(xdata,a,b,k):\n",
    "    return a * xdata +k + b #mx +c"
   ]
  },
  {
   "cell_type": "code",
   "execution_count": 14,
   "metadata": {},
   "outputs": [],
   "source": [
    "function = [func_expdecay, func_log, func_linear]"
   ]
  },
  {
   "cell_type": "code",
   "execution_count": 15,
   "metadata": {},
   "outputs": [],
   "source": [
    "def fit_test(ydata,y2,test='CHI2'):\n",
    "    \"\"\"returns fit scores for chi2 and rmse \n",
    "    chisquare requires large freq ideally greater than 5 \n",
    "    (ref:https://docs.scipy.org/doc/scipy/reference/generated/scipy.stats.chisquare.html)\n",
    "    \"\"\"\n",
    "    if (test=='CHI2') and (min(ydata)>5): \n",
    "        return stats.chisquare(f_obs=ydata, f_exp=y2)\n",
    "    elif test == 'RMSE':\n",
    "        return np.sqrt(np.mean((ydata - y2)**2))\n",
    "    else:\n",
    "        print('check conditions')"
   ]
  },
  {
   "cell_type": "code",
   "execution_count": 20,
   "metadata": {},
   "outputs": [],
   "source": [
    "p0 = (0.2,0.1, 1.5) # inital guess\n",
    "test_type = \"RMSE\"\n",
    "list_1 = []\n",
    "list_2 = []\n",
    "list_3 = []\n",
    "\n",
    "best_curves = {}\n",
    "best_params = {}\n",
    "    \n",
    "for n,rowname in enumerate(df_2_pivot.index) : \n",
    "    errors = []\n",
    "    param_list= []\n",
    "    \n",
    "    for func in function : \n",
    "\n",
    "        print(rowname)\n",
    "        print(func)\n",
    "        xdata = np.array(df_2_pivot.columns)\n",
    "        ydata = np.array(df_2_pivot.loc[rowname])\n",
    "\n",
    "        params, params_covariance = optimize.curve_fit(func, xdata, ydata,p0,maxfev=2000,method='dogbox') #lm’, ‘trf’, ‘dogbox’}\n",
    "        print(params)\n",
    "        list_1.append(params)\n",
    "        list_2.append(params_covariance)\n",
    "        x2 = np.linspace(1, len(ydata), len(ydata))  # Plot values 1 to 24 in 24 separate increments (i.e. whole numbers!)\n",
    "        y2 = func(x2,*params) # Apply the fitted curve to the dummy X values\n",
    "    \n",
    "    \n",
    "        fit_error = fit_test(ydata,y2,test=test_type)\n",
    "        print(test_type,fit_error)\n",
    "        \n",
    "        #errors.append(chisquare[0])\n",
    "        #errors.append(fit_error[0])\n",
    "        param_list.append(params)\n",
    "        \n",
    "        plt.plot(x2, y2, color=np.random.rand(3,), label=func.__name__) # generates a random different colour per segment - check if there's a way to fix this? \n",
    "        plt.xlabel(\"Months Subscribed\")\n",
    "        plt.ylabel(\"% Remaining\")\n",
    "        plt.title(\"Segment Decay Curve\")\n",
    "        \n",
    "    #best_fit_idx = np.argmax(errors)\n",
    "    #best_curves[rowname] = function[best_fit_idx]\n",
    "    #best_params[rowname] = param_list[best_fit_idx]\n",
    "        \n",
    "        \n",
    "    # SELECTING THE BEST FITTED CURVE PER SEGMENT\n",
    "    # My approach here would be to compare the chi squared p value and whether that's > or < less than our significance level,\n",
    "    # however, currently all the p values are 0.99999 and if for example all the p values are above the sig level, which function are still meant to select?\n",
    "    # Need help here as to the correct methology to select the best fitted curve and keep that function flowing through to integrate the area\n",
    "    \n",
    "# If you indent inside the loop, then it generates a seperate graph for each segment, not indenting creates one graph, \n",
    "# depends on how many loops you have to how many indents you do to create the graphical output you want\n",
    "\n",
    "    plt.plot(xdata, ydata, 'bo', label='Real Data') # This is the real data but omitted for now as it makes the graph look messy\n",
    "    plt.legend(loc='best')\n",
    "    plt.show()\n"
   ]
  },
  {
   "cell_type": "code",
   "execution_count": 71,
   "metadata": {},
   "outputs": [],
   "source": [
    "def plot_est_values(data,best_params,best_curve):\n",
    "    x = np.array(data.columns)\n",
    "    for title,ydata in data.iterrows():\n",
    "        func = best_curves[title]\n",
    "        params = best_params[title]\n",
    "        func_out = func(x,*params)\n",
    "        plt.scatter(x,ydata,c='b')\n",
    "        plt.scatter(xdata,func_out,c='r')\n",
    "        plt.title(title + \": \" + func.__name__)\n",
    "        plt.show()"
   ]
  },
  {
   "cell_type": "code",
   "execution_count": 72,
   "metadata": {},
   "outputs": [],
   "source": [
    "plot_est_values(df_2_pivot,best_params,best_curves)"
   ]
  },
  {
   "cell_type": "code",
   "execution_count": null,
   "metadata": {},
   "outputs": [],
   "source": [
    "#NEXT STEPS\n",
    "\n",
    "# Find the best fitting curve\n",
    "# How to do this? \n",
    "#    Iterate through the functions comparing p values and chi stat and only output when it's max\n",
    "#    Do you do above after the loop? If so how do you reference the data per segment still?"
   ]
  },
  {
   "cell_type": "code",
   "execution_count": 189,
   "metadata": {},
   "outputs": [],
   "source": [
    "df"
   ]
  },
  {
   "cell_type": "code",
   "execution_count": null,
   "metadata": {},
   "outputs": [],
   "source": []
  }
 ],
 "metadata": {
  "environment": {
   "name": "r-cpu.3-6.m47",
   "type": "gcloud",
   "uri": "gcr.io/deeplearning-platform-release/r-cpu.3-6:m47"
  },
  "kernelspec": {
   "display_name": "Python 3",
   "language": "python",
   "name": "python3"
  },
  "language_info": {
   "codemirror_mode": {
    "name": "ipython",
    "version": 3
   },
   "file_extension": ".py",
   "mimetype": "text/x-python",
   "name": "python",
   "nbconvert_exporter": "python",
   "pygments_lexer": "ipython3",
   "version": "3.7.6"
  }
 },
 "nbformat": 4,
 "nbformat_minor": 4
}
