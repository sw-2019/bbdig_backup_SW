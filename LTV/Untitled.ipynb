{
 "cells": [
  {
   "cell_type": "code",
   "execution_count": 2,
   "metadata": {},
   "outputs": [],
   "source": [
    "# Original loop\n",
    "p_values = range(1,6)\n",
    "d_values = range(1,4)\n",
    "q_values = range(1,6)\n",
    "\n",
    "for p in p_values:\n",
    "    for d in d_values:\n",
    "        for q in q_values:\n",
    "            order = (p,d,q)\n",
    "            print(order)\n"
   ]
  },
  {
   "cell_type": "code",
   "execution_count": 10,
   "metadata": {},
   "outputs": [],
   "source": [
    "# Alternative way of generating loop\n",
    "import itertools\n",
    "p_values = range(0,3)\n",
    "d_values = range(0,2)\n",
    "q_values = range(0,2)\n",
    "s_values=[42,6,0] #Weekly, daily, none\n",
    "pdq = list(itertools.product(p_values, d_values, q_values))\n",
    "PDQ = list(itertools.product(p_values, d_values, q_values,s_values))\n",
    "arima_combos=list(itertools.product(pdq,PDQ))\n",
    "print(len(pdq))\n",
    "print(len(arima_combos))"
   ]
  },
  {
   "cell_type": "code",
   "execution_count": null,
   "metadata": {},
   "outputs": [],
   "source": []
  }
 ],
 "metadata": {
  "kernelspec": {
   "display_name": "Python 3",
   "language": "python",
   "name": "python3"
  },
  "language_info": {
   "codemirror_mode": {
    "name": "ipython",
    "version": 3
   },
   "file_extension": ".py",
   "mimetype": "text/x-python",
   "name": "python",
   "nbconvert_exporter": "python",
   "pygments_lexer": "ipython3",
   "version": "3.7.6"
  }
 },
 "nbformat": 4,
 "nbformat_minor": 4
}
