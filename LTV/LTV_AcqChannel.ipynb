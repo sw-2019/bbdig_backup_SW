{
 "cells": [
  {
   "cell_type": "markdown",
   "metadata": {},
   "source": [
    "# Customer life time value"
   ]
  },
  {
   "cell_type": "code",
   "execution_count": 1,
   "metadata": {},
   "outputs": [],
   "source": [
    "# Install this package for use of graphical properties\n",
    "!pip install plotly "
   ]
  },
  {
   "cell_type": "markdown",
   "metadata": {},
   "source": [
    "### STEPS\n",
    "##### 1. Extract the data required\n",
    "##### 2. Plot actual data - what does this look like? \n",
    "##### 3. Fit a curve based on actual data\n",
    "##### 4. Select best fitted curve\n",
    "##### 5. Intergrate ^, what is the expected tenure per segment?\n",
    "##### 6. Multiple this by rev (for now use 5.99 as base)"
   ]
  },
  {
   "cell_type": "code",
   "execution_count": 1,
   "metadata": {},
   "outputs": [],
   "source": [
    "# modules\n",
    "import numpy as np\n",
    "import matplotlib.pyplot as plt\n",
    "import scipy\n",
    "from   scipy import optimize\n",
    "import pandas as pd\n",
    "from scipy.optimize import curve_fit\n",
    "import scipy.stats as stats\n",
    "import sys\n",
    "\n",
    "# Install/import plotly packages- this package has lots of graphical properties\n",
    "import plotly.graph_objects as go\n",
    "import plotly.offline as pyo\n",
    "\n",
    "# Load custom scripts in reusable_code folder\n",
    "sys.path.append(r'/home/jupyter/reusable_code')\n",
    "\n",
    "import google_api_functions as gaf\n",
    "\n",
    "from google.cloud import bigquery\n",
    "\n",
    "pd.set_option('display.max_rows', 5000)\n",
    "pd.set_option('display.max_columns', 500)\n"
   ]
  },
  {
   "cell_type": "code",
   "execution_count": 2,
   "metadata": {},
   "outputs": [],
   "source": [
    "creds=gaf.Authenticate_Google(r'/home/jupyter/reusable_code/')"
   ]
  },
  {
   "cell_type": "markdown",
   "metadata": {},
   "source": [
    "#### 1. Data Extraction\n"
   ]
  },
  {
   "cell_type": "code",
   "execution_count": 3,
   "metadata": {},
   "outputs": [],
   "source": [
    "# Extracting data to determine LTV\n",
    "bq = bigquery.Client(project='itv-bde-analytics-prd',credentials=creds)"
   ]
  },
  {
   "cell_type": "code",
   "execution_count": 4,
   "metadata": {},
   "outputs": [],
   "source": [
    "from pandas.io import gbq"
   ]
  },
  {
   "cell_type": "code",
   "execution_count": 5,
   "metadata": {
    "collapsed": true,
    "jupyter": {
     "outputs_hidden": true
    }
   },
   "outputs": [],
   "source": [
    "\n",
    "\n",
    "query=\"\"\"\n",
    "\n",
    "with table1 as \n",
    "\n",
    "(select a.*,b.level2, row_number() over (partition by user_ID, signuptime, level2 order by date_value) as Day from \n",
    "\n",
    "(select *  from `itv-bde-analytics-prd.britbox_model.LTV_Daily_Revenue`) as a \n",
    "\n",
    "inner join \n",
    "\n",
    "(select distinct user_ID, signuptime , level2 from  `itv-bde-analytics-prd.britbox_mart.last_click_referrer`\n",
    "--where level2 = 'CRM'  and extract(month from signuptime ) = 4\n",
    ") as b\n",
    "\n",
    "on a.itvid = b.user_ID and date(b.signuptime) <= date(a.date_value) and date(b.signuptime) <= (current_date() -1))\n",
    "\n",
    "(\n",
    "select distinct  * , ifnull(proratedDailyRevenue/Customers, 0) as avg_dailyrev from (select distinct \n",
    "Day,\n",
    "level2,\n",
    "count(distinct itvid) as Customers,\n",
    "sum(ifnull(proratedDailyRevenue,0)) as proratedDailyRevenue\n",
    "from  table1\n",
    "group by 1,2\n",
    "order by 1,2)\n",
    "order by 1,2)\n",
    "\n",
    "    \"\"\"\n",
    "df = bq.query(query ).to_dataframe()\n",
    "\n",
    "df\n"
   ]
  },
  {
   "cell_type": "code",
   "execution_count": 6,
   "metadata": {},
   "outputs": [],
   "source": [
    "#date_value2 = df.date_value.astype(str)\n",
    "#date_value2"
   ]
  },
  {
   "cell_type": "code",
   "execution_count": 7,
   "metadata": {},
   "outputs": [],
   "source": [
    "#from matplotlib.dates import date2num\n",
    "#date_value3 = date2num(df['date_value'])"
   ]
  },
  {
   "cell_type": "code",
   "execution_count": 8,
   "metadata": {},
   "outputs": [],
   "source": [
    "#df['Date_Value2'] = date_value2\n",
    "#df['Date_Value3'] = date_value3\n",
    "#df = df.reset_index()\n",
    "#df['index'] = range(1,len(df)+1)\n",
    "#df"
   ]
  },
  {
   "cell_type": "code",
   "execution_count": 9,
   "metadata": {},
   "outputs": [],
   "source": [
    "# Pivot the table so data is in correct structure for making graph\n",
    "df_2_pivot = pd.pivot_table(df,  values = 'avg_dailyrev' , index = ['level2'], columns = ['Day'])\n",
    "df_2_pivot"
   ]
  },
  {
   "cell_type": "markdown",
   "metadata": {},
   "source": [
    "#### 2. Plot data"
   ]
  },
  {
   "cell_type": "code",
   "execution_count": 10,
   "metadata": {},
   "outputs": [],
   "source": [
    "# Plotting actual data\n",
    "# This enables the data to be plotted in seperate lines split by 'segment' by allocating the ydata per row \n",
    "# hence why data needed to be pivoted so there's one row per segment\n",
    "\n",
    "traces = [go.Scatter (\n",
    "        x = df_2_pivot.columns,\n",
    "        y = df_2_pivot.loc[rowname],\n",
    "        mode = 'lines',\n",
    "        name = rowname\n",
    ")for rowname in df_2_pivot.index]\n",
    "\n",
    "# Plot the data\n",
    "graph = go.Figure(data = traces)\n",
    "#graph.update_xaxes(type=\"category\",)\n",
    "graph"
   ]
  },
  {
   "cell_type": "code",
   "execution_count": 11,
   "metadata": {},
   "outputs": [],
   "source": [
    "# Draw Plot\n",
    "x = sorted(df.Day)\n",
    "y = df.avg_dailyrev\n",
    "\n",
    "def plot_df(df, x, y, title=\"Daily Revenue\", xlabel='Date', ylabel='Value', dpi=100):\n",
    "    plt.figure(figsize=(16,5), dpi=dpi)\n",
    "    plt.plot(x, y, color='tab:red')\n",
    "    plt.gca().set(title=title, xlabel=xlabel, ylabel=ylabel)\n",
    "    plt.show()\n",
    "\n",
    "plot_df(df, x, y, title='Daily Revenue')  "
   ]
  },
  {
   "cell_type": "markdown",
   "metadata": {},
   "source": [
    "#### 3. Curve Fitting"
   ]
  },
  {
   "cell_type": "code",
   "execution_count": 12,
   "metadata": {},
   "outputs": [],
   "source": [
    "# Determine the fitted curves per segment and plot this \n",
    "\n",
    "# This is used for the curve-fitting procedure later, which requires the function as an input\n",
    "def func_expdecay(xdata, a, b ,k):\n",
    "    return a * np.exp(-b * xdata) + k\n",
    "\n",
    "def func_log(xdata,a,b):\n",
    "    return a * -np.log(b*xdata) \n",
    "\n",
    "def func_linear(xdata,a,b):\n",
    "    return a * xdata +b  #mx +c\n",
    "\n",
    "def func_normal(xdata,a,mu,std):\n",
    "    return a*(np.exp(-((xdata-mu)**2)/(2*std**2)))\n",
    "\n",
    "def func_weib(xdata,a ):\n",
    "    return (a ) * (xdata)**(a - 1) * np.exp(-(xdata )**a)\n",
    "\n",
    "def func_lognormal(xdata, a, mu, std):\n",
    "    return a*((1.0/(xdata*std*np.sqrt(2.0*np.pi)))*np.exp(-1.0*(((np.log(xdata)-mu)**2.0)/(2.0*(std**2.0)))))"
   ]
  },
  {
   "cell_type": "code",
   "execution_count": 13,
   "metadata": {},
   "outputs": [],
   "source": [
    "function = [func_expdecay, func_log, func_linear, func_normal,func_weib, func_lognormal]"
   ]
  },
  {
   "cell_type": "code",
   "execution_count": 14,
   "metadata": {},
   "outputs": [],
   "source": [
    "def fit_test(ydata,y2,test='CHI2'):\n",
    "    \"\"\"returns fit scores for chi2 and rmse \n",
    "    chisquare requires large freq ideally greater than 5 \n",
    "    (ref:https://docs.scipy.org/doc/scipy/reference/generated/scipy.stats.chisquare.html)\n",
    "    \"\"\"\n",
    "    if (test=='CHI2') and (min(ydata)>5): \n",
    "        return stats.chisquare(f_obs=ydata, f_exp=y2)\n",
    "    elif test == 'RMSE':\n",
    "        return np.sqrt(np.mean((ydata - y2)**2))\n",
    "    else:\n",
    "        print('check conditions')"
   ]
  },
  {
   "cell_type": "code",
   "execution_count": 15,
   "metadata": {},
   "outputs": [],
   "source": [
    "from scipy.stats import norm"
   ]
  },
  {
   "cell_type": "code",
   "execution_count": 33,
   "metadata": {},
   "outputs": [],
   "source": [
    "df_2_pivot.index"
   ]
  },
  {
   "cell_type": "code",
   "execution_count": 35,
   "metadata": {},
   "outputs": [],
   "source": [
    "df_2_pivot.shape"
   ]
  },
  {
   "cell_type": "code",
   "execution_count": 42,
   "metadata": {},
   "outputs": [],
   "source": [
    "sub_df=df[['Day','level2','avg_dailyrev']][df['level2']=='CRM BB']\n",
    "sub_pivot=pd.pivot_table(sub_df,  values = 'avg_dailyrev' , index = ['level2'], columns = ['Day'])\n",
    "sub_pivot"
   ]
  },
  {
   "cell_type": "code",
   "execution_count": null,
   "metadata": {},
   "outputs": [],
   "source": []
  },
  {
   "cell_type": "code",
   "execution_count": 32,
   "metadata": {},
   "outputs": [],
   "source": [
    "df_2_pivot[df_2_pivot.index=='CRM BB'].dropna()"
   ]
  },
  {
   "cell_type": "code",
   "execution_count": 44,
   "metadata": {},
   "outputs": [],
   "source": [
    "\n",
    "test_type = \"RMSE\"\n",
    "list_1 = []\n",
    "list_2 = []\n",
    "list_3 = []\n",
    "\n",
    "best_curves = {}\n",
    "best_params = {}\n",
    "\n",
    "for n,rowname in enumerate(df_2_pivot.index) : \n",
    "    errors = []\n",
    "    param_list= []\n",
    "    \n",
    "    sub_df=df[['Day','level2','avg_dailyrev']][df['level2']==rowname]\n",
    "    sub_pivot=pd.pivot_table(sub_df,  values = 'avg_dailyrev' , index = ['level2'], columns = ['Day'])\n",
    "    \n",
    "    for func in function : \n",
    "\n",
    "        print(rowname)\n",
    "        print(func)\n",
    "        xdata = np.array(sub_pivot.columns)\n",
    "        ydata = np.array(sub_pivot.loc[rowname])\n",
    "    \n",
    "        if func.__name__ in [  'func_expdecay']:\n",
    "            p0 = (0.2,0.1, 1.5) # inital guess\n",
    "    \n",
    "        if func.__name__ in ['func_normal', 'func_lognormal']:\n",
    "            mu, std = norm.fit(xdata)\n",
    "            p0 = (1000,mu,std)\n",
    "    \n",
    "        if func.__name__ in [ 'func_linear', 'func_log']:\n",
    "            p0 = (2,3)\n",
    "        \n",
    "        if func.__name__ in ['func_weib']:\n",
    "            p0 = (2)\n",
    "        try:\n",
    "            params, params_covariance = optimize.curve_fit(func, xdata, ydata,p0, maxfev=100000,method='dogbox') \n",
    "        except:\n",
    "            print(\"Failed to fit function {} to segment {}\".format(func,rowname))\n",
    "        print(params)\n",
    "        list_1.append(params)\n",
    "        list_2.append(params_covariance)\n",
    "        x2 = np.linspace(1, len(ydata), len(ydata))  # Plot values 1 to 24 in 24 separate increments (i.e. whole numbers!)\n",
    "        y2 = func(x2,*params) # Apply the fitted curve to the dummy X values\n",
    "    \n",
    "    \n",
    "        fit_error = fit_test(ydata,y2,test=test_type)\n",
    "        print(test_type,fit_error)\n",
    "        \n",
    "        errors.append(fit_error)\n",
    "        param_list.append(params)\n",
    "        \n",
    "        plt.plot(x2, y2, color=np.random.rand(3,), label=func.__name__) # generates a random different colour per segment - check if there's a way to fix this? \n",
    "        plt.xlabel(\"Months Subscribed\")\n",
    "        plt.ylabel(\"Daily Revenue\")\n",
    "        plt.title(\"Segment Decay Curve\")\n",
    "        \n",
    "    best_fit_idx = np.argmin(errors)\n",
    "    best_curves[rowname] = function[best_fit_idx]\n",
    "    best_params[rowname] = param_list[best_fit_idx]\n",
    "    \n",
    "# If you indent inside the loop, then it generates a seperate graph for each segment, not indenting creates one graph, \n",
    "# depends on how many loops you have to how many indents you do to create the graphical output you want\n",
    "\n",
    "    plt.plot(xdata, ydata, 'bo', label='Real Data') # This is the real data but omitted for now as it makes the graph look messy\n",
    "    plt.legend(loc='best')\n",
    "    plt.show()\n"
   ]
  },
  {
   "cell_type": "markdown",
   "metadata": {},
   "source": [
    "#### 4. Select best fitted curve"
   ]
  },
  {
   "cell_type": "code",
   "execution_count": 46,
   "metadata": {},
   "outputs": [],
   "source": [
    "def plot_est_values(data,best_params,best_curve):\n",
    "    func = best_curves[rowname]\n",
    "    x2 = np.linspace(1, 500, 500)  # Plot values 1 to 24 in 24 separate increments (i.e. whole numbers!)\n",
    "    params = best_params[rowname]\n",
    "    y2 = func(x2,*params)\n",
    "    func_out = func(x2,*params)\n",
    "    plt.scatter(xdata,ydata,c='b')\n",
    "    plt.scatter(x2,func_out,c='r')\n",
    "    #plt.xticks(df[\"date_value\"])\n",
    "    plt.title(rowname + \": \" + func.__name__)\n",
    "    plt.show()"
   ]
  },
  {
   "cell_type": "code",
   "execution_count": 47,
   "metadata": {},
   "outputs": [],
   "source": [
    "# Plotting the best fitted curve\n",
    "plot_est_values(df,best_params,best_curves)"
   ]
  },
  {
   "cell_type": "markdown",
   "metadata": {},
   "source": [
    "#### 5. Intergrate ^, what is the expected tenure per segment?"
   ]
  },
  {
   "cell_type": "code",
   "execution_count": 109,
   "metadata": {},
   "outputs": [],
   "source": [
    "from scipy import integrate \n",
    "\n",
    "# Integrate the area under the curve to estimate expected tenure\n",
    "val = scipy.integrate.trapz(y2, x2)\n",
    "val\n",
    "\n"
   ]
  },
  {
   "cell_type": "markdown",
   "metadata": {},
   "source": [
    "#### 6. Multiple this by rev (for now use 5.99 as base)"
   ]
  },
  {
   "cell_type": "code",
   "execution_count": 21,
   "metadata": {},
   "outputs": [],
   "source": [
    "\n",
    "# Multiple this by 5.99 to estimate LTV per customer\n",
    "# To do : determine methodlogy to make revenue  more accurate instead of hard coded\n",
    "#LTV = val * 5.99\n",
    "#LTV"
   ]
  },
  {
   "cell_type": "code",
   "execution_count": null,
   "metadata": {},
   "outputs": [],
   "source": []
  }
 ],
 "metadata": {
  "environment": {
   "name": "r-cpu.3-6.m47",
   "type": "gcloud",
   "uri": "gcr.io/deeplearning-platform-release/r-cpu.3-6:m47"
  },
  "kernelspec": {
   "display_name": "Python 3",
   "language": "python",
   "name": "python3"
  },
  "language_info": {
   "codemirror_mode": {
    "name": "ipython",
    "version": 3
   },
   "file_extension": ".py",
   "mimetype": "text/x-python",
   "name": "python",
   "nbconvert_exporter": "python",
   "pygments_lexer": "ipython3",
   "version": "3.7.6"
  }
 },
 "nbformat": 4,
 "nbformat_minor": 4
}
