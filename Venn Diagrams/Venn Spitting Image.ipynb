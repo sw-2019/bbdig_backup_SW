{
 "cells": [
  {
   "cell_type": "code",
   "execution_count": 7,
   "metadata": {},
   "outputs": [],
   "source": [
    "import pprint\n",
    "import re\n",
    "import pandas as pd\n",
    "import numpy as np\n",
    "import matplotlib.pyplot as plt\n",
    "from matplotlib_venn import venn3\n",
    "from matplotlib_venn import venn3_circles\n",
    "\n",
    "# modules\n",
    "import numpy as np\n",
    "import matplotlib.pyplot as plt\n",
    "from   scipy import optimize\n",
    "from scipy.optimize import curve_fit\n",
    "import sys\n",
    "\n",
    "# Load custom scripts in reusable_code folder\n",
    "sys.path.append(r'/home/jupyter/reusable_code')\n",
    "\n",
    "import google_api_functions as gaf\n",
    "\n",
    "from google.cloud import bigquery\n",
    "\n",
    "creds=gaf.Authenticate_Google(r'/home/jupyter/reusable_code/')\n",
    "bq = bigquery.Client(project='itv-bde-analytics-prd',credentials=creds)"
   ]
  },
  {
   "cell_type": "code",
   "execution_count": 8,
   "metadata": {},
   "outputs": [],
   "source": [
    "\n",
    "query='''with overlap2 as \n",
    "(select coalesce(a.britbox_id,b.britbox_id) as britbox_id,\n",
    "ifnull(Viewed_New,0) as Viewed_New,\n",
    "ifnull(Viewed_Classic,0) as Viewed_Classic\n",
    "from\n",
    "  (select distinct britbox_id, 1 as Viewed_New\n",
    "  from `britbox_analytics.Spitting_Image_Viewers`\n",
    "  where prog_type='New Spitting Image') a\n",
    "  full join\n",
    "  (select distinct britbox_id, 1 as Viewed_Classic\n",
    "  from `britbox_analytics.Spitting_Image_Viewers`\n",
    "  where prog_type='Classic Spitting Image') b\n",
    "  on a.britbox_id=b.britbox_id\n",
    "  )\n",
    "  \n",
    ",overlap3 as  \n",
    "  (select coalesce(a.britbox_id,b.britbox_id) as britbox_id,\n",
    "  ifnull(Viewed_New,0) as Viewed_New,\n",
    "  ifnull(Viewed_Classic,0) as Viewed_Classic,\n",
    "  ifnull(Viewed_Trailer,0) as Viewed_Trailer\n",
    "  from overlap2  a\n",
    "  full join\n",
    "  (select distinct britbox_id, 1 as Viewed_Trailer\n",
    "  from `britbox_analytics.Spitting_Image_Viewers`\n",
    "  where prog_type='Spitting Image Trailers') b\n",
    " on a.britbox_id=b.britbox_id)\n",
    "\n",
    ",agg as \n",
    "(select Viewed_New,Viewed_Classic\n",
    ",Viewed_Trailer\n",
    ",count(distinct britbox_id) as N\n",
    "from overlap3\n",
    "group by 1,2,3)\n",
    "\n",
    "select *, N/sum(N) over () as PC\n",
    "from agg\n",
    "order by 3,2,1'''"
   ]
  },
  {
   "cell_type": "code",
   "execution_count": 9,
   "metadata": {},
   "outputs": [],
   "source": [
    "df = bq.query(query).to_dataframe()\n",
    "df"
   ]
  },
  {
   "cell_type": "code",
   "execution_count": 22,
   "metadata": {},
   "outputs": [],
   "source": [
    "\n",
    "overlap_dict=df.to_dict()\n",
    "pc_list=tuple([round(overlap_dict['PC'][x]*100,1) for x in overlap_dict['PC'] ])\n",
    "labels=tuple([str(x).replace('_',' ') for x in df.columns[:3]])\n",
    "\n",
    "v=venn3(subsets = pc_list, set_labels = labels,set_colors=['red','orange','purple'])\n",
    "plt.title='Hurrah'\n",
    "plt.show()\n",
    "print('As a sanity check, the percentages add up to ',np.sum(df.PC))\n",
    "df\n"
   ]
  },
  {
   "cell_type": "code",
   "execution_count": null,
   "metadata": {},
   "outputs": [],
   "source": []
  },
  {
   "cell_type": "code",
   "execution_count": null,
   "metadata": {},
   "outputs": [],
   "source": []
  }
 ],
 "metadata": {
  "kernelspec": {
   "display_name": "Python 3",
   "language": "python",
   "name": "python3"
  },
  "language_info": {
   "codemirror_mode": {
    "name": "ipython",
    "version": 3
   },
   "file_extension": ".py",
   "mimetype": "text/x-python",
   "name": "python",
   "nbconvert_exporter": "python",
   "pygments_lexer": "ipython3",
   "version": "3.7.6"
  }
 },
 "nbformat": 4,
 "nbformat_minor": 4
}
