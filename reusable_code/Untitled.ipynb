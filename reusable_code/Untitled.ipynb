{
 "cells": [
  {
   "cell_type": "code",
   "execution_count": 3,
   "metadata": {},
   "outputs": [],
   "source": [
    "# Set up modules\n",
    "import pandas as pd\n",
    "import sys\n",
    "import requests\n",
    "from xlsxwriter.utility import xl_rowcol_to_cell\n",
    "sys.path.append(r'/home/jupyter/reusable_code')\n",
    "import google_api_functions as gaf\n",
    "import trello_generic as tg\n",
    "import sqlite3\n",
    "from google.cloud import bigquery # To run BQ statements\n",
    "import re\n",
    "# Set up SQL DB\n",
    "conn = sqlite3.connect('SQL_connection1.db') #Create a connection object\n",
    "\n",
    "# Set up credentials for Trello and Google \n",
    "\n",
    "# Google Sheets Credentials\n",
    "creds=gaf.Authenticate_Google(r'/home/jupyter/reusable_code/') # Return logged-in credentials\n",
    "\n",
    "# General setup and credentials: Trello\n",
    "from trello import TrelloClient\n",
    "trelloUserCreds=tg.readTrelloCredsFromFile(r'/home/jupyter/reusable_code/trellocreds.pickle')\n",
    "mykey,mysecret,mytoken=trelloUserCreds\n",
    "\n",
    "client = TrelloClient(api_key=mykey,api_secret=mysecret,token=mytoken)\n",
    "\n",
    "# Return Trello board, client and other credentials objects. \"myboard_creds\" is a tuple of items which can be unpacked\n",
    "# to cover off all of the various levels you might need access at\n",
    "dataBoard,dataBoard_id,dataBoard_creds=tg.Return_board_by_name(mykey,mysecret,mytoken,\"Data 2021\")\n",
    "researchBoard,researchBoard_id,researchBoard_creds=tg.Return_board_by_name(mykey,mysecret,mytoken,\"Research 2021\")\n",
    "#oldBoard,oldBoard_id,oldBoard_creds=tg.Return_board_by_name(mykey,mysecret,mytoken,\"Insights & Data\")\n",
    "pd.set_option('display.max_rows', 50)\n",
    "pd.set_option('display.max_columns', 500)"
   ]
  },
  {
   "cell_type": "code",
   "execution_count": 4,
   "metadata": {},
   "outputs": [],
   "source": [
    "# Unpack board and credentials attributes\n",
    "myboard, mykey,mysecret,mytoken,myboard_id, myboard_name,client=dataBoard_creds\n",
    "\n",
    "\n",
    "\n",
    "my_cards=myboard.get_cards()\n",
    "my_lists=myboard.list_lists()"
   ]
  },
  {
   "cell_type": "code",
   "execution_count": 42,
   "metadata": {},
   "outputs": [],
   "source": [
    "lists_to_exclude="
   ]
  },
  {
   "cell_type": "code",
   "execution_count": 47,
   "metadata": {},
   "outputs": [],
   "source": [
    "type(my_cards)"
   ]
  },
  {
   "cell_type": "code",
   "execution_count": 46,
   "metadata": {},
   "outputs": [],
   "source": [
    "len(lists_to_exclude)"
   ]
  },
  {
   "cell_type": "code",
   "execution_count": 54,
   "metadata": {},
   "outputs": [],
   "source": [
    "acard=my_cards[55]"
   ]
  },
  {
   "cell_type": "code",
   "execution_count": 63,
   "metadata": {},
   "outputs": [],
   "source": [
    "acard.name"
   ]
  },
  {
   "cell_type": "code",
   "execution_count": 55,
   "metadata": {},
   "outputs": [],
   "source": [
    "acard.list_movements()"
   ]
  },
  {
   "cell_type": "code",
   "execution_count": 56,
   "metadata": {},
   "outputs": [],
   "source": [
    "acard.listCardMove_date()"
   ]
  },
  {
   "cell_type": "code",
   "execution_count": 62,
   "metadata": {},
   "outputs": [],
   "source": [
    "acard.latestCardMove_date"
   ]
  },
  {
   "cell_type": "code",
   "execution_count": 127,
   "metadata": {},
   "outputs": [],
   "source": [
    "from datetime import datetime\n",
    "import datetime as dt\n",
    "import numpy as np\n",
    "movements=acard.list_movements()\n",
    "creation=acard.card_created_date\n",
    "\n",
    "movements2=[{'from':i['source']['name'],\\\n",
    "            'to':i['destination']['name'],\\\n",
    "            'when':i['datetime'].replace(tzinfo=None)} for i in movements]"
   ]
  },
  {
   "cell_type": "code",
   "execution_count": 178,
   "metadata": {},
   "outputs": [],
   "source": [
    "acard.get_list()"
   ]
  },
  {
   "cell_type": "code",
   "execution_count": 128,
   "metadata": {},
   "outputs": [],
   "source": [
    "if len(movements2)==0:\n",
    "    movements2=[{'from':'Nothing','to':acard.get_list().name,'when':acard.card_created_date},\\\n",
    "               {'from':acard.get_list().name,'to':'Refresh','when':datetime.now()}\\\n",
    "               ]\n",
    "\n",
    "else:\n",
    "    movements2.append({'from':'Nothing','to':movements2[-1]['from'], 'when':acard.card_created_date})\n",
    "    movements2.append({'from':acard.get_list().name,'to':'Refresh','when':datetime.now()})\n",
    "    "
   ]
  },
  {
   "cell_type": "code",
   "execution_count": 129,
   "metadata": {},
   "outputs": [],
   "source": [
    "movement_df=pd.DataFrame(movements2).sort_values(by='when')"
   ]
  },
  {
   "cell_type": "code",
   "execution_count": 134,
   "metadata": {},
   "outputs": [],
   "source": [
    "movement_df=movement_df.rename(columns={'when':'exitedTime','from':'enteredList','to':'exitedTo'})\n",
    "movement_df['enteredTime']=movement_df['exitedTime'].shift(1)\n",
    "movement_df['timeSpent']=(movement_df['exitedTime']-movement_df['enteredTime']).dt.days\n",
    "movement_df['isCurrent']=movement_df['enteredList'].apply(lambda x: 1 if x==acard.get_list().name else 0)\n",
    "movement_df"
   ]
  },
  {
   "cell_type": "code",
   "execution_count": 190,
   "metadata": {},
   "outputs": [],
   "source": [
    "summary_df=movement_df[['isCurrent','enteredList','timeSpent','enteredTime','exitedTime']].groupby(['isCurrent','enteredList']).agg({'timeSpent' : [np.sum, 'count'],\\\n",
    "    'enteredTime' : [np.min, np.max],'exitedTime':'max'}).rename(columns={'sum':'timeSpent','count':'timesEntered','amin':'FirstEntered','amax':'LastEntered','max':'LastExited'}).droplevel(level=0,axis=1)\n",
    "summary_df"
   ]
  },
  {
   "cell_type": "code",
   "execution_count": null,
   "metadata": {},
   "outputs": [],
   "source": [
    "\n",
    "summary_dict=summary_df.reset_index().to_dict(orient='rows')\n",
    "current_list_summary=[i for i in summary_dict if i['isCurrent']==1][0] \n",
    "current_list_summary"
   ]
  },
  {
   "cell_type": "code",
   "execution_count": 185,
   "metadata": {},
   "outputs": [],
   "source": [
    "movement_df.reset_index(drop=True).to_dict(orient='rows')"
   ]
  },
  {
   "cell_type": "code",
   "execution_count": 59,
   "metadata": {
    "collapsed": true,
    "jupyter": {
     "outputs_hidden": true
    }
   },
   "outputs": [],
   "source": [
    "help(acard)"
   ]
  },
  {
   "cell_type": "code",
   "execution_count": null,
   "metadata": {},
   "outputs": [],
   "source": []
  },
  {
   "cell_type": "code",
   "execution_count": 26,
   "metadata": {},
   "outputs": [],
   "source": []
  },
  {
   "cell_type": "code",
   "execution_count": null,
   "metadata": {},
   "outputs": [],
   "source": []
  },
  {
   "cell_type": "code",
   "execution_count": 44,
   "metadata": {},
   "outputs": [],
   "source": [
    "\n",
    "my_cards=myboard.get_cards()\n",
    "my_lists=myboard.list_lists()\n",
    "list_names={i.id:i.name for i in my_lists} # List Name lookup\n",
    "list_pos={i.id:n+1 for n,i in enumerate(my_lists)} # List Position lookup\n",
    "cardpos=pd.DataFrame([{'cardid':card.id,'name':card.name, 'pos': card.pos, 'list':list_names[card.list_id],'listpos':list_pos[card.list_id]} for card in my_cards]).sort_values(by=['listpos','pos'])\n",
    "cardpos['boardpos']=cardpos.reset_index().index+1\n",
    "cardpos['cardpos']=cardpos.groupby('listpos').cumcount()+1\n",
    "#cardpos=[i['listpos']:list_pos[i['list']] for i in cardpos ]\n",
    "poslist=cardpos.drop(columns=['pos']).to_dict(orient='rows')"
   ]
  },
  {
   "cell_type": "code",
   "execution_count": null,
   "metadata": {},
   "outputs": [],
   "source": []
  },
  {
   "cell_type": "code",
   "execution_count": null,
   "metadata": {},
   "outputs": [],
   "source": []
  },
  {
   "cell_type": "code",
   "execution_count": null,
   "metadata": {},
   "outputs": [],
   "source": []
  }
 ],
 "metadata": {
  "kernelspec": {
   "display_name": "Python 3",
   "language": "python",
   "name": "python3"
  },
  "language_info": {
   "codemirror_mode": {
    "name": "ipython",
    "version": 3
   },
   "file_extension": ".py",
   "mimetype": "text/x-python",
   "name": "python",
   "nbconvert_exporter": "python",
   "pygments_lexer": "ipython3",
   "version": "3.7.6"
  }
 },
 "nbformat": 4,
 "nbformat_minor": 4
}
